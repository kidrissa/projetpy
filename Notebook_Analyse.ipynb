{
 "cells": [
  {
   "cell_type": "code",
   "execution_count": 29,
   "id": "e4b2f4f5-f0e6-4d64-b11c-bb070248bddd",
   "metadata": {},
   "outputs": [],
   "source": [
    "import pandas as pd\n",
    "import numpy as np\n",
    "import re\n",
    "import requests\n",
    "import searchtweets\n",
    "from textblob import TextBlob, Blobber\n",
    "from textblob_fr import PatternTagger, PatternAnalyzer\n",
    "from datetime import *"
   ]
  },
  {
   "cell_type": "code",
   "execution_count": 45,
   "id": "ad14ff5f-2ad2-4d6f-b06b-dbecd7a0457b",
   "metadata": {},
   "outputs": [
    {
     "data": {
      "text/html": [
       "<div>\n",
       "<style scoped>\n",
       "    .dataframe tbody tr th:only-of-type {\n",
       "        vertical-align: middle;\n",
       "    }\n",
       "\n",
       "    .dataframe tbody tr th {\n",
       "        vertical-align: top;\n",
       "    }\n",
       "\n",
       "    .dataframe thead th {\n",
       "        text-align: right;\n",
       "    }\n",
       "</style>\n",
       "<table border=\"1\" class=\"dataframe\">\n",
       "  <thead>\n",
       "    <tr style=\"text-align: right;\">\n",
       "      <th></th>\n",
       "      <th>id</th>\n",
       "      <th>date</th>\n",
       "      <th>screenName</th>\n",
       "      <th>text</th>\n",
       "      <th>type</th>\n",
       "    </tr>\n",
       "  </thead>\n",
       "  <tbody>\n",
       "    <tr>\n",
       "      <th>0</th>\n",
       "      <td>1377376779178967041</td>\n",
       "      <td>2021-03-31 21:46:29</td>\n",
       "      <td>ratonlave57</td>\n",
       "      <td>Pourquoi ne donne t’on pas de l’Aspegic pédiat...</td>\n",
       "      <td>tweet</td>\n",
       "    </tr>\n",
       "    <tr>\n",
       "      <th>1</th>\n",
       "      <td>1377339517170933768</td>\n",
       "      <td>2021-03-31 19:18:25</td>\n",
       "      <td>MathildeSlv</td>\n",
       "      <td>@mvrinesv Le syndrome grippal du Pfizer existe...</td>\n",
       "      <td>tweet</td>\n",
       "    </tr>\n",
       "    <tr>\n",
       "      <th>2</th>\n",
       "      <td>1377337776819990528</td>\n",
       "      <td>2021-03-31 19:11:30</td>\n",
       "      <td>EBrussat</td>\n",
       "      <td>@montagnethiers #Orleat 210 personnes #vaccine...</td>\n",
       "      <td>tweet</td>\n",
       "    </tr>\n",
       "    <tr>\n",
       "      <th>3</th>\n",
       "      <td>1377336854379331584</td>\n",
       "      <td>2021-03-31 19:07:50</td>\n",
       "      <td>garrec_pierre</td>\n",
       "      <td>En tout cas vendredi, c’est le vaccin astrazen...</td>\n",
       "      <td>tweet</td>\n",
       "    </tr>\n",
       "    <tr>\n",
       "      <th>4</th>\n",
       "      <td>1377325612134699012</td>\n",
       "      <td>2021-03-31 18:23:10</td>\n",
       "      <td>FPasquisDumont</td>\n",
       "      <td>1700 centres Pfizer et Moderna...\\nPlus de 70 ...</td>\n",
       "      <td>tweet</td>\n",
       "    </tr>\n",
       "  </tbody>\n",
       "</table>\n",
       "</div>"
      ],
      "text/plain": [
       "                    id                 date      screenName  \\\n",
       "0  1377376779178967041  2021-03-31 21:46:29     ratonlave57   \n",
       "1  1377339517170933768  2021-03-31 19:18:25     MathildeSlv   \n",
       "2  1377337776819990528  2021-03-31 19:11:30        EBrussat   \n",
       "3  1377336854379331584  2021-03-31 19:07:50   garrec_pierre   \n",
       "4  1377325612134699012  2021-03-31 18:23:10  FPasquisDumont   \n",
       "\n",
       "                                                text   type  \n",
       "0  Pourquoi ne donne t’on pas de l’Aspegic pédiat...  tweet  \n",
       "1  @mvrinesv Le syndrome grippal du Pfizer existe...  tweet  \n",
       "2  @montagnethiers #Orleat 210 personnes #vaccine...  tweet  \n",
       "3  En tout cas vendredi, c’est le vaccin astrazen...  tweet  \n",
       "4  1700 centres Pfizer et Moderna...\\nPlus de 70 ...  tweet  "
      ]
     },
     "execution_count": 45,
     "metadata": {},
     "output_type": "execute_result"
    }
   ],
   "source": [
    "df_tweets = pd.read_csv(\"~/work/projetpy/fichiers_csv/tweets_2021-3-1_to_2021-4-1.csv\")\n",
    "df_tweets.head()"
   ]
  },
  {
   "cell_type": "markdown",
   "id": "d8e4bd7e-66a5-4197-b1b2-796c9d0ed4dd",
   "metadata": {},
   "source": [
    "# Nettoyage de texte"
   ]
  },
  {
   "cell_type": "markdown",
   "id": "4fbf4564-9e27-41fb-bc3e-1cb4faaf477c",
   "metadata": {},
   "source": [
    "# Construction des label avec TextBlob"
   ]
  },
  {
   "cell_type": "markdown",
   "id": "c3e7f329-a05d-4280-b03a-aa764596637c",
   "metadata": {},
   "source": [
    "Il existe deux méthodes pour construire des sentiments avec TextBlob"
   ]
  },
  {
   "cell_type": "code",
   "execution_count": 47,
   "id": "68d32d72-cd4c-4644-ad74-da9be3eb9289",
   "metadata": {},
   "outputs": [],
   "source": [
    "text = \"quel beau temps\""
   ]
  },
  {
   "cell_type": "code",
   "execution_count": 48,
   "id": "5b1930cb-19e2-4afe-856b-90d5bf6a1b14",
   "metadata": {},
   "outputs": [
    {
     "data": {
      "text/plain": [
       "(0.8, 0.8)"
      ]
     },
     "execution_count": 48,
     "metadata": {},
     "output_type": "execute_result"
    }
   ],
   "source": [
    "blob = TextBlob(text, pos_tagger=PatternTagger(), analyzer=PatternAnalyzer())\n",
    "blob.sentiment"
   ]
  },
  {
   "cell_type": "code",
   "execution_count": 49,
   "id": "5a417733-4551-405e-8f8a-63ecfaada9a5",
   "metadata": {},
   "outputs": [
    {
     "data": {
      "text/plain": [
       "(0.8, 0.8)"
      ]
     },
     "execution_count": 49,
     "metadata": {},
     "output_type": "execute_result"
    }
   ],
   "source": [
    "tb = Blobber(pos_tagger=PatternTagger(), analyzer=PatternAnalyzer())\n",
    "blob1 = tb(text)\n",
    "blob1.sentiment"
   ]
  },
  {
   "cell_type": "code",
   "execution_count": 28,
   "id": "087ea81c-ee05-43c6-99c8-3507d4be3bd4",
   "metadata": {},
   "outputs": [
    {
     "data": {
      "text/html": [
       "<div>\n",
       "<style scoped>\n",
       "    .dataframe tbody tr th:only-of-type {\n",
       "        vertical-align: middle;\n",
       "    }\n",
       "\n",
       "    .dataframe tbody tr th {\n",
       "        vertical-align: top;\n",
       "    }\n",
       "\n",
       "    .dataframe thead th {\n",
       "        text-align: right;\n",
       "    }\n",
       "</style>\n",
       "<table border=\"1\" class=\"dataframe\">\n",
       "  <thead>\n",
       "    <tr style=\"text-align: right;\">\n",
       "      <th></th>\n",
       "      <th>sentiment_label</th>\n",
       "      <th>text</th>\n",
       "    </tr>\n",
       "  </thead>\n",
       "  <tbody>\n",
       "    <tr>\n",
       "      <th>0</th>\n",
       "      <td>0.000</td>\n",
       "      <td>Pourquoi ne donne t’on pas de l’Aspegic pédiat...</td>\n",
       "    </tr>\n",
       "    <tr>\n",
       "      <th>1</th>\n",
       "      <td>0.000</td>\n",
       "      <td>@mvrinesv Le syndrome grippal du Pfizer existe...</td>\n",
       "    </tr>\n",
       "    <tr>\n",
       "      <th>2</th>\n",
       "      <td>0.375</td>\n",
       "      <td>@montagnethiers #Orleat 210 personnes #vaccine...</td>\n",
       "    </tr>\n",
       "    <tr>\n",
       "      <th>3</th>\n",
       "      <td>0.220</td>\n",
       "      <td>En tout cas vendredi, c’est le vaccin astrazen...</td>\n",
       "    </tr>\n",
       "    <tr>\n",
       "      <th>4</th>\n",
       "      <td>0.138</td>\n",
       "      <td>1700 centres Pfizer et Moderna...\\nPlus de 70 ...</td>\n",
       "    </tr>\n",
       "  </tbody>\n",
       "</table>\n",
       "</div>"
      ],
      "text/plain": [
       "   sentiment_label                                               text\n",
       "0            0.000  Pourquoi ne donne t’on pas de l’Aspegic pédiat...\n",
       "1            0.000  @mvrinesv Le syndrome grippal du Pfizer existe...\n",
       "2            0.375  @montagnethiers #Orleat 210 personnes #vaccine...\n",
       "3            0.220  En tout cas vendredi, c’est le vaccin astrazen...\n",
       "4            0.138  1700 centres Pfizer et Moderna...\\nPlus de 70 ..."
      ]
     },
     "execution_count": 28,
     "metadata": {},
     "output_type": "execute_result"
    }
   ],
   "source": [
    "df_tweets['sentiment_label'] = [tb(text).sentiment[0] for text in df_tweets.text]\n",
    "df_tweets[['sentiment_label', 'text']].head()"
   ]
  },
  {
   "cell_type": "markdown",
   "id": "b54b0ad2-1bda-4eed-8f6e-4b13e311261a",
   "metadata": {},
   "source": [
    "# Création des métadonnées"
   ]
  },
  {
   "cell_type": "code",
   "execution_count": null,
   "id": "d4b3cc13-5b40-4a32-ac74-51d57439628b",
   "metadata": {},
   "outputs": [],
   "source": [
    "def decompte_hashtags(text):\n",
    "    exp_match = re.compile(\"([#]\\w+)\")\n",
    "    res = exp_match.findall(text)\n",
    "    return len(res)\n",
    "\n",
    "df_tweets[\"nbre_hashtags\"] = df_tweets[\"text\"].apply(lambda x : decompte_hashtags(x))"
   ]
  },
  {
   "cell_type": "code",
   "execution_count": null,
   "id": "f5ffeaa4-4eca-4d8b-ba14-82feb22086ff",
   "metadata": {},
   "outputs": [],
   "source": [
    "def decompte_tags(text):\n",
    "    exp_match = re.compile(\"([@]\\w+)\")\n",
    "    res = exp_match.findall(text)\n",
    "    return len(res)\n",
    "\n",
    "df_tweets[\"nbre_tags\"] = df_tweets[\"text\"].apply(lambda x : decompte_tags(x))"
   ]
  },
  {
   "cell_type": "code",
   "execution_count": null,
   "id": "101ed43d-bded-4bfc-9b91-efefcf26739a",
   "metadata": {},
   "outputs": [],
   "source": [
    "def decompte_mails(text):\n",
    "    exp_match = re.compile(\"(\\w+[@]\\w+[.]\\w+)\")\n",
    "    res = exp_match.findall(text)\n",
    "    return len(res)\n",
    "\n",
    "df_tweets[\"nbre_mails\"] = df_tweets[\"text\"].apply(lambda x : decompte_mails(x))"
   ]
  },
  {
   "cell_type": "code",
   "execution_count": null,
   "id": "32ea79b0-40c4-4db3-bbdb-64bb05a7af61",
   "metadata": {},
   "outputs": [],
   "source": [
    "def decompte_exclamation(text):\n",
    "    exp_match = re.compile(\"(\\w?\\s?[!])\")\n",
    "    res = exp_match.findall(text)\n",
    "    return len(res)\n",
    "\n",
    "df_tweets[\"nbre_exclamation\"] = df[\"text\"].apply(lambda x : decompte_exclamation(x))"
   ]
  },
  {
   "cell_type": "code",
   "execution_count": null,
   "id": "10d61d99-c530-4deb-941b-600c66233334",
   "metadata": {},
   "outputs": [],
   "source": [
    "def decompte_interrogation(text):\n",
    "    exp_match = re.compile(\"(\\w?\\s?[?])\")\n",
    "    res = exp_match.findall(text)\n",
    "    return len(res)\n",
    "\n",
    "df_tweets[\"nbre_interrogation\"] = df_tweets[\"text\"].apply(lambda x : decompte_interrogation(x))"
   ]
  },
  {
   "cell_type": "code",
   "execution_count": null,
   "id": "d17d771e-b315-4965-822a-02ec2d5cc813",
   "metadata": {},
   "outputs": [],
   "source": [
    "def decompte_mot_maj(text):\n",
    "    exp_match = re.compile(\"([A-Z][A-Z]+)\")\n",
    "    res = exp_match.findall(text)\n",
    "    return len(res)\n",
    "\n",
    "df_tweets[\"nbre_maj\"] = df_tweets[\"text\"].apply(lambda x : decompte_mot_maj(x))"
   ]
  },
  {
   "cell_type": "code",
   "execution_count": null,
   "id": "061216c2-b9bd-442d-a817-363de480868a",
   "metadata": {},
   "outputs": [],
   "source": [
    "df_tweets.head()"
   ]
  }
 ],
 "metadata": {
  "kernelspec": {
   "display_name": "Python 3 (ipykernel)",
   "language": "python",
   "name": "python3"
  },
  "language_info": {
   "codemirror_mode": {
    "name": "ipython",
    "version": 3
   },
   "file_extension": ".py",
   "mimetype": "text/x-python",
   "name": "python",
   "nbconvert_exporter": "python",
   "pygments_lexer": "ipython3",
   "version": "3.9.7"
  }
 },
 "nbformat": 4,
 "nbformat_minor": 5
}
