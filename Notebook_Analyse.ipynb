{
 "cells": [
  {
   "cell_type": "code",
   "execution_count": 62,
   "id": "e4b2f4f5-f0e6-4d64-b11c-bb070248bddd",
   "metadata": {},
   "outputs": [],
   "source": [
    "import pandas as pd\n",
    "import numpy as np\n",
    "import re\n",
    "from textblob import TextBlob, Blobber\n",
    "from textblob_fr import PatternTagger, PatternAnalyzer\n",
    "from datetime import *"
   ]
  },
  {
   "cell_type": "code",
   "execution_count": 63,
   "id": "8d7398e3-4fd3-4047-ae4c-5c30251d5b5b",
   "metadata": {},
   "outputs": [],
   "source": [
    "pd.options.display.max_colwidth = 1000"
   ]
  },
  {
   "cell_type": "code",
   "execution_count": 72,
   "id": "ad14ff5f-2ad2-4d6f-b06b-dbecd7a0457b",
   "metadata": {},
   "outputs": [
    {
     "data": {
      "text/html": [
       "<div>\n",
       "<style scoped>\n",
       "    .dataframe tbody tr th:only-of-type {\n",
       "        vertical-align: middle;\n",
       "    }\n",
       "\n",
       "    .dataframe tbody tr th {\n",
       "        vertical-align: top;\n",
       "    }\n",
       "\n",
       "    .dataframe thead th {\n",
       "        text-align: right;\n",
       "    }\n",
       "</style>\n",
       "<table border=\"1\" class=\"dataframe\">\n",
       "  <thead>\n",
       "    <tr style=\"text-align: right;\">\n",
       "      <th></th>\n",
       "      <th>id</th>\n",
       "      <th>date</th>\n",
       "      <th>screenName</th>\n",
       "      <th>texte</th>\n",
       "      <th>type</th>\n",
       "      <th>nbre_like</th>\n",
       "      <th>nbre_retweet</th>\n",
       "      <th>type_vaccin</th>\n",
       "    </tr>\n",
       "  </thead>\n",
       "  <tbody>\n",
       "    <tr>\n",
       "      <th>0</th>\n",
       "      <td>1459275177271959559</td>\n",
       "      <td>2021-11-12 21:41:28</td>\n",
       "      <td>joyPC37</td>\n",
       "      <td>Après le 2nd shoot de #Pfizer : 4 mois sans mes règles \\nOn est clairement sur un bon produit pour les jeunes\\n@GilbertDeray @SandrineTreiner @GeWoessner @Mozarettha @DocArnica @Nouvelle_Donne @perrinegoulet @JeunesMacron @LeaSalame @francoisedegois @lyonmag @paul_denton</td>\n",
       "      <td>tweet</td>\n",
       "      <td>0</td>\n",
       "      <td>0</td>\n",
       "      <td>pfizer</td>\n",
       "    </tr>\n",
       "    <tr>\n",
       "      <th>1</th>\n",
       "      <td>1459271967392075780</td>\n",
       "      <td>2021-11-12 21:28:43</td>\n",
       "      <td>RyukPomme</td>\n",
       "      <td>Encore un truc complotiste qui ne l'est plus. Quand on disait qu'une personne ayant eu le Covid était  protégée, on nous disait non (ah c'est sûr, ça ne remplirait pas les caisses de Pfizer) https://t.co/WC2bAOl42d\\nD'après une étude publiée dans la revue scientifique Nature, nos anticorps post-infection nous protègent contre une réinfection au Covid-19 durant une période allant d'un an et demi à deux ans.\\nhttps://t.co/MzDie0skPe via @BFMTV</td>\n",
       "      <td>quote</td>\n",
       "      <td>0</td>\n",
       "      <td>0</td>\n",
       "      <td>pfizer</td>\n",
       "    </tr>\n",
       "    <tr>\n",
       "      <th>2</th>\n",
       "      <td>1459259184508243968</td>\n",
       "      <td>2021-11-12 20:37:55</td>\n",
       "      <td>troika81100</td>\n",
       "      <td>@GabinJean3 On vit dans un monde de cinglés, les médecins ne sont pas d'accord entr'eux pour les effets secondaires Ce marin un monsieur à témoigné sa femme est décédée en 1 mois à cause du vaccin Pfizer. Elle n'avait pas de maladie ils rentrait de vacances,piqûre morte en a peine 1 mois pff</td>\n",
       "      <td>tweet</td>\n",
       "      <td>19</td>\n",
       "      <td>5</td>\n",
       "      <td>pfizer</td>\n",
       "    </tr>\n",
       "    <tr>\n",
       "      <th>3</th>\n",
       "      <td>1459236248552361987</td>\n",
       "      <td>2021-11-12 19:06:47</td>\n",
       "      <td>troika81100</td>\n",
       "      <td>@AlainNothomb @Ccesoir @fogiesbert Oui j'écris Pfizer.......!</td>\n",
       "      <td>tweet</td>\n",
       "      <td>0</td>\n",
       "      <td>0</td>\n",
       "      <td>pfizer</td>\n",
       "    </tr>\n",
       "    <tr>\n",
       "      <th>4</th>\n",
       "      <td>1459232763576475655</td>\n",
       "      <td>2021-11-12 18:52:56</td>\n",
       "      <td>chamanrouge</td>\n",
       "      <td>@c_pairot @Anne_Hidalgo @David_Belliard @RasLeScoot Prenez du #pfizer et mangez des #oeufs</td>\n",
       "      <td>tweet</td>\n",
       "      <td>0</td>\n",
       "      <td>0</td>\n",
       "      <td>pfizer</td>\n",
       "    </tr>\n",
       "    <tr>\n",
       "      <th>...</th>\n",
       "      <td>...</td>\n",
       "      <td>...</td>\n",
       "      <td>...</td>\n",
       "      <td>...</td>\n",
       "      <td>...</td>\n",
       "      <td>...</td>\n",
       "      <td>...</td>\n",
       "      <td>...</td>\n",
       "    </tr>\n",
       "    <tr>\n",
       "      <th>95</th>\n",
       "      <td>1457370890480627712</td>\n",
       "      <td>2021-11-07 15:34:31</td>\n",
       "      <td>menalahy</td>\n",
       "      <td>#Pfizer vante encore son #Produit et parle de l'#ImmunitéCollective qui n'a pas été atteinte dans les pays où il y a un fort taux de vaccination. \\n\\nLe PDG de Pfizer déclare que les vaccins Covid, les rappels sont toujours nécessaires même avec des pilules\\nhttps://t.co/tKwBNgj4Ul</td>\n",
       "      <td>tweet</td>\n",
       "      <td>0</td>\n",
       "      <td>0</td>\n",
       "      <td>pfizer</td>\n",
       "    </tr>\n",
       "    <tr>\n",
       "      <th>96</th>\n",
       "      <td>1457330245548261381</td>\n",
       "      <td>2021-11-07 12:53:01</td>\n",
       "      <td>WillyTweete</td>\n",
       "      <td>Tout pile mais trop technique pour une majorité.. 🙄 🤦‍♂️ #OnEstMal\\n\\n#Vaccin #3emeDose #Pfizer #Pfizergate #COVID19 #secte #DictatureSanitaire #manipulation #LeMacronismeEstUnFascisme https://t.co/fiwA8JSyYc</td>\n",
       "      <td>tweet</td>\n",
       "      <td>3</td>\n",
       "      <td>2</td>\n",
       "      <td>pfizer</td>\n",
       "    </tr>\n",
       "    <tr>\n",
       "      <th>97</th>\n",
       "      <td>1457311460019875841</td>\n",
       "      <td>2021-11-07 11:38:22</td>\n",
       "      <td>romysarra</td>\n",
       "      <td>@LierdeXavier Sauf que sort le PFIZER GATES qui risque de changer quelque peu la donne</td>\n",
       "      <td>tweet</td>\n",
       "      <td>7</td>\n",
       "      <td>3</td>\n",
       "      <td>pfizer</td>\n",
       "    </tr>\n",
       "    <tr>\n",
       "      <th>98</th>\n",
       "      <td>1457294206276354049</td>\n",
       "      <td>2021-11-07 10:29:48</td>\n",
       "      <td>papypaul2014</td>\n",
       "      <td>@p_duval @julienbahloul Même pas !! Rappel: pfizer n'est pas un vaccin c'est un médicament vaxx qui t injecte de la #spike sans aucun lien avec le virus...toujours non mis à jour...</td>\n",
       "      <td>tweet</td>\n",
       "      <td>0</td>\n",
       "      <td>0</td>\n",
       "      <td>pfizer</td>\n",
       "    </tr>\n",
       "    <tr>\n",
       "      <th>99</th>\n",
       "      <td>1457252668955635712</td>\n",
       "      <td>2021-11-07 07:44:45</td>\n",
       "      <td>loiseleux37_l</td>\n",
       "      <td>Propagande abjecte ! : Pfizer lance un clip où il explique aux enfants que s'ils se vaccinent, ils auront des «super pouvoirs» https://t.co/U5rDfUJ80M via @ExoPortail</td>\n",
       "      <td>tweet</td>\n",
       "      <td>1</td>\n",
       "      <td>0</td>\n",
       "      <td>pfizer</td>\n",
       "    </tr>\n",
       "  </tbody>\n",
       "</table>\n",
       "<p>100 rows × 8 columns</p>\n",
       "</div>"
      ],
      "text/plain": [
       "                     id                 date     screenName  \\\n",
       "0   1459275177271959559  2021-11-12 21:41:28        joyPC37   \n",
       "1   1459271967392075780  2021-11-12 21:28:43      RyukPomme   \n",
       "2   1459259184508243968  2021-11-12 20:37:55    troika81100   \n",
       "3   1459236248552361987  2021-11-12 19:06:47    troika81100   \n",
       "4   1459232763576475655  2021-11-12 18:52:56    chamanrouge   \n",
       "..                  ...                  ...            ...   \n",
       "95  1457370890480627712  2021-11-07 15:34:31       menalahy   \n",
       "96  1457330245548261381  2021-11-07 12:53:01    WillyTweete   \n",
       "97  1457311460019875841  2021-11-07 11:38:22      romysarra   \n",
       "98  1457294206276354049  2021-11-07 10:29:48   papypaul2014   \n",
       "99  1457252668955635712  2021-11-07 07:44:45  loiseleux37_l   \n",
       "\n",
       "                                                                                                                                                                                                                                                                                                                                                                                                                                                            texte  \\\n",
       "0                                                                                                                                                                                 Après le 2nd shoot de #Pfizer : 4 mois sans mes règles \\nOn est clairement sur un bon produit pour les jeunes\\n@GilbertDeray @SandrineTreiner @GeWoessner @Mozarettha @DocArnica @Nouvelle_Donne @perrinegoulet @JeunesMacron @LeaSalame @francoisedegois @lyonmag @paul_denton   \n",
       "1   Encore un truc complotiste qui ne l'est plus. Quand on disait qu'une personne ayant eu le Covid était  protégée, on nous disait non (ah c'est sûr, ça ne remplirait pas les caisses de Pfizer) https://t.co/WC2bAOl42d\\nD'après une étude publiée dans la revue scientifique Nature, nos anticorps post-infection nous protègent contre une réinfection au Covid-19 durant une période allant d'un an et demi à deux ans.\\nhttps://t.co/MzDie0skPe via @BFMTV   \n",
       "2                                                                                                                                                            @GabinJean3 On vit dans un monde de cinglés, les médecins ne sont pas d'accord entr'eux pour les effets secondaires Ce marin un monsieur à témoigné sa femme est décédée en 1 mois à cause du vaccin Pfizer. Elle n'avait pas de maladie ils rentrait de vacances,piqûre morte en a peine 1 mois pff   \n",
       "3                                                                                                                                                                                                                                                                                                                                                                                                   @AlainNothomb @Ccesoir @fogiesbert Oui j'écris Pfizer.......!   \n",
       "4                                                                                                                                                                                                                                                                                                                                                                      @c_pairot @Anne_Hidalgo @David_Belliard @RasLeScoot Prenez du #pfizer et mangez des #oeufs   \n",
       "..                                                                                                                                                                                                                                                                                                                                                                                                                                                            ...   \n",
       "95                                                                                                                                                                     #Pfizer vante encore son #Produit et parle de l'#ImmunitéCollective qui n'a pas été atteinte dans les pays où il y a un fort taux de vaccination. \\n\\nLe PDG de Pfizer déclare que les vaccins Covid, les rappels sont toujours nécessaires même avec des pilules\\nhttps://t.co/tKwBNgj4Ul   \n",
       "96                                                                                                                                                                                                                                               Tout pile mais trop technique pour une majorité.. 🙄 🤦‍♂️ #OnEstMal\\n\\n#Vaccin #3emeDose #Pfizer #Pfizergate #COVID19 #secte #DictatureSanitaire #manipulation #LeMacronismeEstUnFascisme https://t.co/fiwA8JSyYc   \n",
       "97                                                                                                                                                                                                                                                                                                                                                                         @LierdeXavier Sauf que sort le PFIZER GATES qui risque de changer quelque peu la donne   \n",
       "98                                                                                                                                                                                                                                                                          @p_duval @julienbahloul Même pas !! Rappel: pfizer n'est pas un vaccin c'est un médicament vaxx qui t injecte de la #spike sans aucun lien avec le virus...toujours non mis à jour...   \n",
       "99                                                                                                                                                                                                                                                                                         Propagande abjecte ! : Pfizer lance un clip où il explique aux enfants que s'ils se vaccinent, ils auront des «super pouvoirs» https://t.co/U5rDfUJ80M via @ExoPortail   \n",
       "\n",
       "     type  nbre_like  nbre_retweet type_vaccin  \n",
       "0   tweet          0             0      pfizer  \n",
       "1   quote          0             0      pfizer  \n",
       "2   tweet         19             5      pfizer  \n",
       "3   tweet          0             0      pfizer  \n",
       "4   tweet          0             0      pfizer  \n",
       "..    ...        ...           ...         ...  \n",
       "95  tweet          0             0      pfizer  \n",
       "96  tweet          3             2      pfizer  \n",
       "97  tweet          7             3      pfizer  \n",
       "98  tweet          0             0      pfizer  \n",
       "99  tweet          1             0      pfizer  \n",
       "\n",
       "[100 rows x 8 columns]"
      ]
     },
     "execution_count": 72,
     "metadata": {},
     "output_type": "execute_result"
    }
   ],
   "source": [
    "df_tweets = pd.read_csv(\"~/work/projetpy/fichiers_csv/tweets_pfizer_2021-9-13_a_2021-11-13.csv\")\n",
    "df_tweets"
   ]
  },
  {
   "cell_type": "markdown",
   "id": "d8e4bd7e-66a5-4197-b1b2-796c9d0ed4dd",
   "metadata": {},
   "source": [
    "# Nettoyage de texte"
   ]
  },
  {
   "cell_type": "markdown",
   "id": "4fbf4564-9e27-41fb-bc3e-1cb4faaf477c",
   "metadata": {},
   "source": [
    "# Construction des label avec TextBlob"
   ]
  },
  {
   "cell_type": "markdown",
   "id": "c3e7f329-a05d-4280-b03a-aa764596637c",
   "metadata": {},
   "source": [
    "Il existe deux méthodes pour construire des sentiments avec TextBlob"
   ]
  },
  {
   "cell_type": "code",
   "execution_count": 47,
   "id": "68d32d72-cd4c-4644-ad74-da9be3eb9289",
   "metadata": {},
   "outputs": [],
   "source": [
    "text = \"quel beau temps\""
   ]
  },
  {
   "cell_type": "code",
   "execution_count": 48,
   "id": "5b1930cb-19e2-4afe-856b-90d5bf6a1b14",
   "metadata": {},
   "outputs": [
    {
     "data": {
      "text/plain": [
       "(0.8, 0.8)"
      ]
     },
     "execution_count": 48,
     "metadata": {},
     "output_type": "execute_result"
    }
   ],
   "source": [
    "blob = TextBlob(text, pos_tagger=PatternTagger(), analyzer=PatternAnalyzer())\n",
    "blob.sentiment"
   ]
  },
  {
   "cell_type": "code",
   "execution_count": 49,
   "id": "5a417733-4551-405e-8f8a-63ecfaada9a5",
   "metadata": {},
   "outputs": [
    {
     "data": {
      "text/plain": [
       "(0.8, 0.8)"
      ]
     },
     "execution_count": 49,
     "metadata": {},
     "output_type": "execute_result"
    }
   ],
   "source": [
    "tb = Blobber(pos_tagger=PatternTagger(), analyzer=PatternAnalyzer())\n",
    "blob1 = tb(text)\n",
    "blob1.sentiment"
   ]
  },
  {
   "cell_type": "code",
   "execution_count": 28,
   "id": "087ea81c-ee05-43c6-99c8-3507d4be3bd4",
   "metadata": {},
   "outputs": [
    {
     "data": {
      "text/html": [
       "<div>\n",
       "<style scoped>\n",
       "    .dataframe tbody tr th:only-of-type {\n",
       "        vertical-align: middle;\n",
       "    }\n",
       "\n",
       "    .dataframe tbody tr th {\n",
       "        vertical-align: top;\n",
       "    }\n",
       "\n",
       "    .dataframe thead th {\n",
       "        text-align: right;\n",
       "    }\n",
       "</style>\n",
       "<table border=\"1\" class=\"dataframe\">\n",
       "  <thead>\n",
       "    <tr style=\"text-align: right;\">\n",
       "      <th></th>\n",
       "      <th>sentiment_label</th>\n",
       "      <th>text</th>\n",
       "    </tr>\n",
       "  </thead>\n",
       "  <tbody>\n",
       "    <tr>\n",
       "      <th>0</th>\n",
       "      <td>0.000</td>\n",
       "      <td>Pourquoi ne donne t’on pas de l’Aspegic pédiat...</td>\n",
       "    </tr>\n",
       "    <tr>\n",
       "      <th>1</th>\n",
       "      <td>0.000</td>\n",
       "      <td>@mvrinesv Le syndrome grippal du Pfizer existe...</td>\n",
       "    </tr>\n",
       "    <tr>\n",
       "      <th>2</th>\n",
       "      <td>0.375</td>\n",
       "      <td>@montagnethiers #Orleat 210 personnes #vaccine...</td>\n",
       "    </tr>\n",
       "    <tr>\n",
       "      <th>3</th>\n",
       "      <td>0.220</td>\n",
       "      <td>En tout cas vendredi, c’est le vaccin astrazen...</td>\n",
       "    </tr>\n",
       "    <tr>\n",
       "      <th>4</th>\n",
       "      <td>0.138</td>\n",
       "      <td>1700 centres Pfizer et Moderna...\\nPlus de 70 ...</td>\n",
       "    </tr>\n",
       "  </tbody>\n",
       "</table>\n",
       "</div>"
      ],
      "text/plain": [
       "   sentiment_label                                               text\n",
       "0            0.000  Pourquoi ne donne t’on pas de l’Aspegic pédiat...\n",
       "1            0.000  @mvrinesv Le syndrome grippal du Pfizer existe...\n",
       "2            0.375  @montagnethiers #Orleat 210 personnes #vaccine...\n",
       "3            0.220  En tout cas vendredi, c’est le vaccin astrazen...\n",
       "4            0.138  1700 centres Pfizer et Moderna...\\nPlus de 70 ..."
      ]
     },
     "execution_count": 28,
     "metadata": {},
     "output_type": "execute_result"
    }
   ],
   "source": [
    "df_tweets['sentiment_label'] = [tb(text).sentiment[0] for text in df_tweets.text]\n",
    "df_tweets[['sentiment_label', 'text']].head()"
   ]
  },
  {
   "cell_type": "markdown",
   "id": "b54b0ad2-1bda-4eed-8f6e-4b13e311261a",
   "metadata": {},
   "source": [
    "# Création des métadonnées"
   ]
  },
  {
   "cell_type": "code",
   "execution_count": null,
   "id": "d4b3cc13-5b40-4a32-ac74-51d57439628b",
   "metadata": {},
   "outputs": [],
   "source": [
    "def decompte_hashtags(text):\n",
    "    exp_match = re.compile(\"([#]\\w+)\")\n",
    "    res = exp_match.findall(text)\n",
    "    return len(res)\n",
    "\n",
    "df_tweets[\"nbre_hashtags\"] = df_tweets[\"text\"].apply(lambda x : decompte_hashtags(x))"
   ]
  },
  {
   "cell_type": "code",
   "execution_count": null,
   "id": "f5ffeaa4-4eca-4d8b-ba14-82feb22086ff",
   "metadata": {},
   "outputs": [],
   "source": [
    "def decompte_tags(text):\n",
    "    exp_match = re.compile(\"([@]\\w+)\")\n",
    "    res = exp_match.findall(text)\n",
    "    return len(res)\n",
    "\n",
    "df_tweets[\"nbre_tags\"] = df_tweets[\"text\"].apply(lambda x : decompte_tags(x))"
   ]
  },
  {
   "cell_type": "code",
   "execution_count": null,
   "id": "101ed43d-bded-4bfc-9b91-efefcf26739a",
   "metadata": {},
   "outputs": [],
   "source": [
    "def decompte_mails(text):\n",
    "    exp_match = re.compile(\"(\\w+[@]\\w+[.]\\w+)\")\n",
    "    res = exp_match.findall(text)\n",
    "    return len(res)\n",
    "\n",
    "df_tweets[\"nbre_mails\"] = df_tweets[\"text\"].apply(lambda x : decompte_mails(x))"
   ]
  },
  {
   "cell_type": "code",
   "execution_count": null,
   "id": "32ea79b0-40c4-4db3-bbdb-64bb05a7af61",
   "metadata": {},
   "outputs": [],
   "source": [
    "def decompte_exclamation(text):\n",
    "    exp_match = re.compile(\"(\\w?\\s?[!])\")\n",
    "    res = exp_match.findall(text)\n",
    "    return len(res)\n",
    "\n",
    "df_tweets[\"nbre_exclamation\"] = df[\"text\"].apply(lambda x : decompte_exclamation(x))"
   ]
  },
  {
   "cell_type": "code",
   "execution_count": null,
   "id": "10d61d99-c530-4deb-941b-600c66233334",
   "metadata": {},
   "outputs": [],
   "source": [
    "def decompte_interrogation(text):\n",
    "    exp_match = re.compile(\"(\\w?\\s?[?])\")\n",
    "    res = exp_match.findall(text)\n",
    "    return len(res)\n",
    "\n",
    "df_tweets[\"nbre_interrogation\"] = df_tweets[\"text\"].apply(lambda x : decompte_interrogation(x))"
   ]
  },
  {
   "cell_type": "code",
   "execution_count": null,
   "id": "d17d771e-b315-4965-822a-02ec2d5cc813",
   "metadata": {},
   "outputs": [],
   "source": [
    "def decompte_mot_maj(text):\n",
    "    exp_match = re.compile(\"([A-Z][A-Z]+)\")\n",
    "    res = exp_match.findall(text)\n",
    "    return len(res)\n",
    "\n",
    "df_tweets[\"nbre_maj\"] = df_tweets[\"text\"].apply(lambda x : decompte_mot_maj(x))"
   ]
  },
  {
   "cell_type": "code",
   "execution_count": null,
   "id": "061216c2-b9bd-442d-a817-363de480868a",
   "metadata": {},
   "outputs": [],
   "source": [
    "df_tweets.head()"
   ]
  }
 ],
 "metadata": {
  "kernelspec": {
   "display_name": "Python 3 (ipykernel)",
   "language": "python",
   "name": "python3"
  },
  "language_info": {
   "codemirror_mode": {
    "name": "ipython",
    "version": 3
   },
   "file_extension": ".py",
   "mimetype": "text/x-python",
   "name": "python",
   "nbconvert_exporter": "python",
   "pygments_lexer": "ipython3",
   "version": "3.9.7"
  }
 },
 "nbformat": 4,
 "nbformat_minor": 5
}
