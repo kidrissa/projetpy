{
 "cells": [
  {
   "cell_type": "code",
   "execution_count": null,
   "id": "a762c4dc-82ba-4509-b98c-dc848787b1d0",
   "metadata": {},
   "outputs": [],
   "source": [
    "# !pip install demoji"
   ]
  },
  {
   "cell_type": "code",
   "execution_count": null,
   "id": "a4f04e32-f339-4606-b5a1-1ecff5c2c3da",
   "metadata": {},
   "outputs": [],
   "source": [
    "# !pip install textblob"
   ]
  },
  {
   "cell_type": "code",
   "execution_count": null,
   "id": "cfd22f34-050f-478c-957d-028dee53e4c4",
   "metadata": {},
   "outputs": [],
   "source": [
    "#!pip install afinn"
   ]
  },
  {
   "cell_type": "code",
   "execution_count": null,
   "id": "4482d9e2-4eb0-4a5e-847b-dff48c95d296",
   "metadata": {},
   "outputs": [],
   "source": [
    "# !pip install wordcloud"
   ]
  },
  {
   "cell_type": "code",
   "execution_count": null,
   "id": "491d5266-6fac-4a5d-908c-9b36706abdc8",
   "metadata": {},
   "outputs": [],
   "source": [
    "# !pip install textblob-fr"
   ]
  },
  {
   "cell_type": "code",
   "execution_count": null,
   "id": "81f3dc9d-5a7f-4408-9b0c-bbd3094cecfb",
   "metadata": {},
   "outputs": [],
   "source": [
    "!pip install spacy"
   ]
  },
  {
   "cell_type": "code",
   "execution_count": 1,
   "id": "e4b2f4f5-f0e6-4d64-b11c-bb070248bddd",
   "metadata": {},
   "outputs": [],
   "source": [
    "import pandas as pd\n",
    "import numpy as np\n",
    "import random\n",
    "import matplotlib.pyplot as plt\n",
    "import re\n",
    "import matplotlib\n",
    "import seaborn as sns\n",
    "import datetime\n",
    "import spacy\n",
    "import random\n",
    "from datetime import *\n",
    "import demoji\n",
    "from wordcloud import WordCloud\n",
    "from textblob import TextBlob\n",
    "from textblob import TextBlob, Blobber\n",
    "from textblob_fr import PatternTagger, PatternAnalyzer\n",
    "import nltk\n",
    "from nltk.corpus import stopwords\n",
    "from random import random, seed\n",
    "import scipy\n",
    "import statsmodels.api as sm\n",
    "import sklearn\n",
    "from sklearn.preprocessing import StandardScaler\n",
    "from sklearn.model_selection import train_test_split\n",
    "from sklearn.linear_model import LogisticRegression\n",
    "from sklearn.decomposition import PCA\n",
    "from sklearn.model_selection import train_test_split\n",
    "from sklearn.metrics import confusion_matrix\n",
    "from sklearn.feature_extraction.text import CountVectorizer\n",
    "from sklearn.discriminant_analysis import LinearDiscriminantAnalysis"
   ]
  },
  {
   "cell_type": "code",
   "execution_count": 18,
   "id": "2d50b3a6-a0b2-496f-8273-68e79f2d0e86",
   "metadata": {},
   "outputs": [],
   "source": [
    "pd.options.display.max_colwidth = 5000"
   ]
  },
  {
   "cell_type": "markdown",
   "id": "22ebf996-fb58-42bf-8190-15d57f1e6aa7",
   "metadata": {},
   "source": [
    "Exécuter en ligne de commande le code suivant python -m spacy download fr_core_news_md avant "
   ]
  },
  {
   "cell_type": "code",
   "execution_count": 3,
   "id": "da381bb6-8fbe-4ebb-8bbe-3fce63935934",
   "metadata": {},
   "outputs": [],
   "source": [
    "nlp = spacy.load('fr_core_news_md')"
   ]
  },
  {
   "cell_type": "markdown",
   "id": "ffce733b-1f79-4c23-aab3-79933472bc7c",
   "metadata": {
    "tags": []
   },
   "source": [
    "# Introduction"
   ]
  },
  {
   "cell_type": "markdown",
   "id": "cdfb102f-8aea-4ac2-af0d-e0b172499ab1",
   "metadata": {
    "tags": []
   },
   "source": [
    "# Traitement des données"
   ]
  },
  {
   "cell_type": "code",
   "execution_count": 4,
   "id": "ad14ff5f-2ad2-4d6f-b06b-dbecd7a0457b",
   "metadata": {},
   "outputs": [],
   "source": [
    "df_tweets = pd.read_csv(\"~/work/projetpy/csv_tweets/tweets_vaccins.csv\")"
   ]
  },
  {
   "cell_type": "markdown",
   "id": "16605433-11ca-4f5c-820f-5563a01f13a0",
   "metadata": {},
   "source": [
    "Un même tweet peut être posté par le même auteur à des heures différentes. La cellule ci-dessous permet de supprimer ces tweets dupliqués qui ont des valeurs communes de *texte* et *type_vaccin*. Ceratins tweets citent plus d'un vaccin, leurs repétitions selon *texte* et *type_vaccin* est légitime et ne seront pas pris en compte dans la suppression."
   ]
  },
  {
   "cell_type": "code",
   "execution_count": 5,
   "id": "a2589bed-0b94-43eb-92b0-9d1e0f6b3cba",
   "metadata": {},
   "outputs": [],
   "source": [
    "df_tweets[\"datetime\"] = df_tweets[\"date\"].apply(lambda x : datetime.strptime(x, \"%Y-%m-%d %H:%M:%S\"))\n",
    "\n",
    "df_tweets[\"date\"] = df_tweets[\"datetime\"].apply(datetime.date)"
   ]
  },
  {
   "cell_type": "code",
   "execution_count": 6,
   "id": "eb496895-db20-4914-8934-a2dcee9c1ace",
   "metadata": {},
   "outputs": [],
   "source": [
    "df_tweets.drop_duplicates(subset = [\"texte\", \"type_vaccin\"], keep = 'first', inplace=True, ignore_index = True)"
   ]
  },
  {
   "cell_type": "code",
   "execution_count": 7,
   "id": "64357336-c8b2-462b-b3fb-09126b04d411",
   "metadata": {},
   "outputs": [
    {
     "data": {
      "text/html": [
       "<div>\n",
       "<style scoped>\n",
       "    .dataframe tbody tr th:only-of-type {\n",
       "        vertical-align: middle;\n",
       "    }\n",
       "\n",
       "    .dataframe tbody tr th {\n",
       "        vertical-align: top;\n",
       "    }\n",
       "\n",
       "    .dataframe thead th {\n",
       "        text-align: right;\n",
       "    }\n",
       "</style>\n",
       "<table border=\"1\" class=\"dataframe\">\n",
       "  <thead>\n",
       "    <tr style=\"text-align: right;\">\n",
       "      <th></th>\n",
       "      <th>date</th>\n",
       "      <th>id</th>\n",
       "      <th>nbre_like</th>\n",
       "      <th>nbre_retweet</th>\n",
       "      <th>screenName</th>\n",
       "      <th>texte</th>\n",
       "      <th>type</th>\n",
       "      <th>type_vaccin</th>\n",
       "      <th>datetime</th>\n",
       "    </tr>\n",
       "  </thead>\n",
       "  <tbody>\n",
       "    <tr>\n",
       "      <th>0</th>\n",
       "      <td>2021-03-01</td>\n",
       "      <td>1366184519662006274</td>\n",
       "      <td>1</td>\n",
       "      <td>0</td>\n",
       "      <td>yokko_mars</td>\n",
       "      <td>@silvano_trotta Au Japon, on refuse le don de ...</td>\n",
       "      <td>tweet</td>\n",
       "      <td>pfizer</td>\n",
       "      <td>2021-03-01 00:32:26</td>\n",
       "    </tr>\n",
       "    <tr>\n",
       "      <th>1</th>\n",
       "      <td>2021-03-01</td>\n",
       "      <td>1366299423781892098</td>\n",
       "      <td>2</td>\n",
       "      <td>0</td>\n",
       "      <td>Epcocorico</td>\n",
       "      <td>@France_Dessinee @Pfizer_France Tragique</td>\n",
       "      <td>tweet</td>\n",
       "      <td>pfizer</td>\n",
       "      <td>2021-03-01 08:09:01</td>\n",
       "    </tr>\n",
       "    <tr>\n",
       "      <th>2</th>\n",
       "      <td>2021-03-01</td>\n",
       "      <td>1366307752096768000</td>\n",
       "      <td>2</td>\n",
       "      <td>0</td>\n",
       "      <td>socarre</td>\n",
       "      <td>@thierrycogne @dc_morel Vaccinons en pharmacie...</td>\n",
       "      <td>tweet</td>\n",
       "      <td>janssen</td>\n",
       "      <td>2021-03-01 08:42:07</td>\n",
       "    </tr>\n",
       "    <tr>\n",
       "      <th>3</th>\n",
       "      <td>2021-03-01</td>\n",
       "      <td>1366307752096768000</td>\n",
       "      <td>2</td>\n",
       "      <td>0</td>\n",
       "      <td>socarre</td>\n",
       "      <td>@thierrycogne @dc_morel Vaccinons en pharmacie...</td>\n",
       "      <td>tweet</td>\n",
       "      <td>moderna</td>\n",
       "      <td>2021-03-01 08:42:07</td>\n",
       "    </tr>\n",
       "    <tr>\n",
       "      <th>4</th>\n",
       "      <td>2021-03-01</td>\n",
       "      <td>1366307752096768000</td>\n",
       "      <td>2</td>\n",
       "      <td>0</td>\n",
       "      <td>socarre</td>\n",
       "      <td>@thierrycogne @dc_morel Vaccinons en pharmacie...</td>\n",
       "      <td>tweet</td>\n",
       "      <td>pfizer</td>\n",
       "      <td>2021-03-01 08:42:07</td>\n",
       "    </tr>\n",
       "  </tbody>\n",
       "</table>\n",
       "</div>"
      ],
      "text/plain": [
       "         date                   id  nbre_like  nbre_retweet  screenName  \\\n",
       "0  2021-03-01  1366184519662006274          1             0  yokko_mars   \n",
       "1  2021-03-01  1366299423781892098          2             0  Epcocorico   \n",
       "2  2021-03-01  1366307752096768000          2             0     socarre   \n",
       "3  2021-03-01  1366307752096768000          2             0     socarre   \n",
       "4  2021-03-01  1366307752096768000          2             0     socarre   \n",
       "\n",
       "                                               texte   type type_vaccin  \\\n",
       "0  @silvano_trotta Au Japon, on refuse le don de ...  tweet      pfizer   \n",
       "1           @France_Dessinee @Pfizer_France Tragique  tweet      pfizer   \n",
       "2  @thierrycogne @dc_morel Vaccinons en pharmacie...  tweet     janssen   \n",
       "3  @thierrycogne @dc_morel Vaccinons en pharmacie...  tweet     moderna   \n",
       "4  @thierrycogne @dc_morel Vaccinons en pharmacie...  tweet      pfizer   \n",
       "\n",
       "             datetime  \n",
       "0 2021-03-01 00:32:26  \n",
       "1 2021-03-01 08:09:01  \n",
       "2 2021-03-01 08:42:07  \n",
       "3 2021-03-01 08:42:07  \n",
       "4 2021-03-01 08:42:07  "
      ]
     },
     "execution_count": 7,
     "metadata": {},
     "output_type": "execute_result"
    }
   ],
   "source": [
    "df_tweets.head(5)"
   ]
  },
  {
   "cell_type": "code",
   "execution_count": 8,
   "id": "11c6867e-0470-410e-bfd8-1f19658194cd",
   "metadata": {},
   "outputs": [
    {
     "data": {
      "text/plain": [
       "(6005, 9)"
      ]
     },
     "execution_count": 8,
     "metadata": {},
     "output_type": "execute_result"
    }
   ],
   "source": [
    "df_tweets.shape"
   ]
  },
  {
   "cell_type": "markdown",
   "id": "074645c7-4c19-47c5-9b03-f0c1c0171733",
   "metadata": {},
   "source": [
    "Ainsi, 6005 tweets ont été requétés via l'API sur la période allant du 01 mars 2021 au 26 décembre 2021."
   ]
  },
  {
   "cell_type": "markdown",
   "id": "202cff2a-c3d6-431c-8a5e-043e3493c72c",
   "metadata": {
    "jp-MarkdownHeadingCollapsed": true,
    "tags": []
   },
   "source": [
    "### Nettoyage des données textuelles"
   ]
  },
  {
   "cell_type": "markdown",
   "id": "4fe6d475-97dd-4c58-acc2-1ecf03484909",
   "metadata": {},
   "source": [
    "Les tweets sont des objets \"sales\" et cela rend dificile leur manipulation. Pour la suite, il faudra les nettoyer et la foncttion transforme définie à cet effet sert à supprimer les caractères spéciaux, les émojis, les ponctuations, à tranformer les majuscules en minuscule, etc... Les tweets nettoyés sont contenus dans la variable \"texte_propre\""
   ]
  },
  {
   "cell_type": "code",
   "execution_count": 22,
   "id": "a4c8f7cf-9445-4c60-b917-e28b5d1e2b09",
   "metadata": {},
   "outputs": [],
   "source": [
    "def transforme(texte):\n",
    "    # texte = texte.lower() # mettre les mots en minuscule\n",
    "    #retirer les liens\n",
    "    for item in re.compile(\"http[s]?://(?:[a-zA-Z]|[0-9]|[$-_@.&+]|[!*\\(\\),]|(?:%[0-9a-fA-F][0-9a-fA-F]))+\").findall(texte):\n",
    "        texte=texte.replace(item, \"\")\n",
    "    # enlever le retour à la ligne\n",
    "    texte = texte.replace(\"\\n\", \" \").replace(\"\\r\", \" \")\n",
    "    # supprimer \",\", \"!\", \"?\", \"%\", \"(\",\")\",\"/\",'\"', \"$\",\"£\", \"_\", \"-\", \"+\", \"*\", \"µ\", \":\",\"&,\"§\" \n",
    "    texte = re.sub(r\"[,\\!\\?\\%\\(\\)\\/\\\"\\$\\£\\-\\+\\*\\µ,\\:\\&\\§]\", \" \", texte) \n",
    "    # retirer les hashtags\n",
    "    for item in re.compile(\"([#]\\w+)\").findall(texte):\n",
    "        texte=texte.replace(item, item[1:])\n",
    "    # retirer les apostrophes '\n",
    "    #for item in re.compile(\"([\\’])\").findall(texte):\n",
    "    #    texte=texte.replace(item, \" \")\n",
    "    #for item in re.compile(\"([\\'])\").findall(texte):\n",
    "    #    texte=texte.replace(item, \" \")\n",
    "    # retirer les points de suspension\n",
    "    for item in re.compile(\"([.]{1,5})\").findall(texte):\n",
    "        texte=texte.replace(item, \" \") \n",
    "    # retirer les personnes tagées\n",
    "    for item in re.compile(\"([@]\\w+)\").findall(texte):\n",
    "        texte=texte.replace(item, \" \")\n",
    "    # retirer les adresses mail\n",
    "    for item in re.findall('\\S+@\\S+', texte) :\n",
    "        texte=texte.replace(item, \" \")\n",
    "    # retire les mots contenant des chiffres\n",
    "    texte = re.sub(r\"[A-Za-z\\.]*[0-9]+[A-Za-z%°\\.]*\", \" \", texte)\n",
    "    # retirer les emojis\n",
    "    for item in demoji.findall(texte):\n",
    "        texte=texte.replace(item,\" \")\n",
    "    return texte"
   ]
  },
  {
   "cell_type": "code",
   "execution_count": 23,
   "id": "216321d8-0e93-4b7f-9d26-813416f94b7c",
   "metadata": {},
   "outputs": [],
   "source": [
    "def decoupe_lemmatise(text):\n",
    "    nlp_text = nlp(text)\n",
    "    dict_lemm = {token : token.lemma_ for token in nlp_text}\n",
    "    # list_mot = text.split()\n",
    "    list_mots = []\n",
    "    for x in nlp_text : \n",
    "        if len(x) >= 0 :\n",
    "            list_mots.append(dict_lemm[x])\n",
    "    return ' '.join(list_mots)"
   ]
  },
  {
   "cell_type": "code",
   "execution_count": 24,
   "id": "ef67bb0e-c6ce-4556-a0f6-4add5a6802c4",
   "metadata": {},
   "outputs": [],
   "source": [
    "df_tweets[\"texte_propre\"] = df_tweets[\"texte\"].apply(lambda x: transforme(x))\n",
    "# df_tweets"
   ]
  },
  {
   "cell_type": "code",
   "execution_count": 25,
   "id": "ab6d31cb-9ab7-4cd5-88cb-39374325a9e5",
   "metadata": {},
   "outputs": [],
   "source": [
    "df_tweets[\"texte_lemmatise\"] = df_tweets[\"texte_propre\"].apply(decoupe_lemmatise)"
   ]
  },
  {
   "cell_type": "code",
   "execution_count": 36,
   "id": "fa1fb342-3d89-4357-ac94-060dc1e7cd68",
   "metadata": {},
   "outputs": [],
   "source": [
    "# df_tweets.head(50)"
   ]
  },
  {
   "cell_type": "markdown",
   "id": "468a1dbf-c92c-4536-9f79-1e9824ea74ec",
   "metadata": {},
   "source": [
    "Pour créer les wordclouds, les mots vides du texte doivent être mis à jour spécifiquement pour le domaine du texte. En effet pour des tweets sur les vaccins Covid, certains mots comme *vaccin*, etc... pourraient ne pas avoir d'importance pour l'analyse."
   ]
  },
  {
   "cell_type": "code",
   "execution_count": 27,
   "id": "b8fdffc3-670e-459f-975a-0ace47f4b9e9",
   "metadata": {},
   "outputs": [],
   "source": [
    "stop_words = nlp.Defaults.stop_words\n",
    "stop_words_contexte = [\"faire\", \"recevoir\", \"voir\", \"vaccination\", \"vaccin\", \"jour\", \"semaine\", \"mois\", \"dire\", \"venir\", \"centre\", \"annoncer\", \n",
    "                    \"vouloir\", \"france\", \"français\", \"francais\", \"dose\", \"falloir\", \"contre\", \"vacciner\", \"vaccination\", \"pouvoir\", \n",
    "                    \"aller\", \"injection\", \"injecter\", \"covid\", \"vacciné\", \"falloir\", \"BioNTech\", \"Astra\", \"astra\", \"Johnson\"]\n",
    "stop_words = list(stop_words) + stop_words_contexte\n",
    "# stop_words "
   ]
  },
  {
   "cell_type": "markdown",
   "id": "98bca82d-6bf7-4908-af4e-8ceb5da85848",
   "metadata": {
    "jp-MarkdownHeadingCollapsed": true,
    "tags": []
   },
   "source": [
    "### Calcul du sentiment d'un tweet à partir de la polarité de Textblob"
   ]
  },
  {
   "cell_type": "code",
   "execution_count": 28,
   "id": "441c41d0-2ae6-4e6d-859a-16255049188f",
   "metadata": {},
   "outputs": [],
   "source": [
    "tb = Blobber(pos_tagger=PatternTagger(), analyzer=PatternAnalyzer())"
   ]
  },
  {
   "cell_type": "code",
   "execution_count": 30,
   "id": "ad0ce3c1-66ab-4157-a9b9-cd83b73b8fe0",
   "metadata": {},
   "outputs": [],
   "source": [
    "def tweet_polarite(text):\n",
    "    return tb(text).sentiment[0]"
   ]
  },
  {
   "cell_type": "code",
   "execution_count": 31,
   "id": "0bddbcfa-8887-42b8-9d20-78fde9d89a8b",
   "metadata": {},
   "outputs": [],
   "source": [
    "def tweet_label_car(text):\n",
    "    if tweet_polarite(text) > 0 :\n",
    "        return \"positif\"\n",
    "    if tweet_polarite(text) < 0 :\n",
    "        return \"negatif\"\n",
    "    return \"neutre\""
   ]
  },
  {
   "cell_type": "code",
   "execution_count": 32,
   "id": "e0bf4b12-5630-4f02-a4ab-7da5e372ab34",
   "metadata": {},
   "outputs": [],
   "source": [
    "def tweet_label(text):\n",
    "    if tweet_polarite(text) > 0 :\n",
    "        return 1\n",
    "    if tweet_polarite(text) < 0 :\n",
    "        return -1\n",
    "    return 0"
   ]
  },
  {
   "cell_type": "code",
   "execution_count": 34,
   "id": "cea5b79c-2a13-4573-881d-f36364a6f7d3",
   "metadata": {},
   "outputs": [],
   "source": [
    "df_tweets[\"score_polarite\"] = df_tweets[\"texte_lemmatise\"].apply(tweet_polarite)\n",
    "df_tweets[\"label_car\"] = df_tweets[\"texte_lemmatise\"].apply(tweet_label_car)\n",
    "df_tweets[\"label\"] = df_tweets[\"texte_lemmatise\"].apply(tweet_label)"
   ]
  },
  {
   "cell_type": "markdown",
   "id": "c9a0801e-901a-425a-b2b7-e980c4d476b6",
   "metadata": {},
   "source": [
    "Comme le montre la sortie ci-dessous, on niveau de la variable \"label\", on a les modalités -1, 0 et 1. -1 matérialise un sentiment négatif, 0 un sentiment neutre et 1 un sentiment positif comme regroupé dans la variable \"label_car\"."
   ]
  },
  {
   "cell_type": "code",
   "execution_count": 37,
   "id": "ee13e73d-0cb0-445f-b256-2e94eb43c448",
   "metadata": {},
   "outputs": [],
   "source": [
    "# df_tweets.head()"
   ]
  },
  {
   "cell_type": "markdown",
   "id": "44f202d7-b0b4-4f9c-974c-8610eb63c06b",
   "metadata": {
    "jp-MarkdownHeadingCollapsed": true,
    "tags": []
   },
   "source": [
    "### Création de features"
   ]
  },
  {
   "cell_type": "markdown",
   "id": "f2529d31-adc7-495e-83bb-328f67a733ce",
   "metadata": {},
   "source": [
    "Pour bien mener la modélisation, nous extrayons des tweets certaines variables qui nous semblent être importantes comme par exemple les variables binaires renseignant sur le type de vaccin, le nombre de hashtags, de ponctuation, ..."
   ]
  },
  {
   "cell_type": "code",
   "execution_count": 38,
   "id": "a4694a6a-1337-4fa9-9795-d99e31b6b547",
   "metadata": {},
   "outputs": [],
   "source": [
    "# Création des 'dummy\" variables\n",
    "dummy_df = pd.get_dummies(df_tweets.type_vaccin, prefix=\"vaccin\", prefix_sep='_', drop_first=False)\n",
    "df_tweets[dummy_df.columns] = dummy_df"
   ]
  },
  {
   "cell_type": "code",
   "execution_count": 39,
   "id": "66d48e8b-39ac-40ed-b254-7353236ad262",
   "metadata": {},
   "outputs": [],
   "source": [
    "def decompte_hashtags(text):\n",
    "    exp_match = re.compile(\"([#]\\w+)\")\n",
    "    res = exp_match.findall(text)\n",
    "    return len(res)\n",
    "\n",
    "df_tweets[\"nbre_hashtags\"] = df_tweets[\"texte\"].apply(lambda x : decompte_hashtags(x))"
   ]
  },
  {
   "cell_type": "code",
   "execution_count": 40,
   "id": "f5ffeaa4-4eca-4d8b-ba14-82feb22086ff",
   "metadata": {},
   "outputs": [],
   "source": [
    "def decompte_tags(text):\n",
    "    exp_match = re.compile(\"([@]\\w+)\")\n",
    "    res = exp_match.findall(text)\n",
    "    return len(res)\n",
    "\n",
    "df_tweets[\"nbre_tags\"] = df_tweets[\"texte\"].apply(lambda x : decompte_tags(x))"
   ]
  },
  {
   "cell_type": "code",
   "execution_count": 41,
   "id": "32ea79b0-40c4-4db3-bbdb-64bb05a7af61",
   "metadata": {},
   "outputs": [],
   "source": [
    "def decompte_exclamation(text):\n",
    "    exp_match = re.compile(\"(\\w?\\s?[!])\")\n",
    "    res = exp_match.findall(text)\n",
    "    return len(res)\n",
    "\n",
    "df_tweets[\"nbre_exclamation\"] = df_tweets[\"texte\"].apply(lambda x : decompte_exclamation(x))"
   ]
  },
  {
   "cell_type": "code",
   "execution_count": 42,
   "id": "101ed43d-bded-4bfc-9b91-efefcf26739a",
   "metadata": {},
   "outputs": [],
   "source": [
    "def decompte_mails(text):\n",
    "    exp_match = re.compile(\"(\\w+[@]\\w+[.]\\w+)\")\n",
    "    res = exp_match.findall(text)\n",
    "    return len(res)\n",
    "\n",
    "df_tweets[\"nbre_mails\"] = df_tweets[\"texte\"].apply(lambda x : decompte_mails(x))"
   ]
  },
  {
   "cell_type": "code",
   "execution_count": 43,
   "id": "10d61d99-c530-4deb-941b-600c66233334",
   "metadata": {},
   "outputs": [],
   "source": [
    "def decompte_interrogation(text):\n",
    "    exp_match = re.compile(\"(\\w?\\s?[?])\")\n",
    "    res = exp_match.findall(text)\n",
    "    return len(res)\n",
    "\n",
    "df_tweets[\"nbre_interrogation\"] = df_tweets[\"texte\"].apply(lambda x : decompte_interrogation(x))"
   ]
  },
  {
   "cell_type": "code",
   "execution_count": 44,
   "id": "d17d771e-b315-4965-822a-02ec2d5cc813",
   "metadata": {},
   "outputs": [],
   "source": [
    "def decompte_mot_maj(text):\n",
    "    exp_match = re.compile(\"([A-Z][A-Z]+)\")\n",
    "    res = exp_match.findall(text)\n",
    "    return len(res)\n",
    "\n",
    "df_tweets[\"nbre_maj\"] = df_tweets[\"texte\"].apply(lambda x : decompte_mot_maj(x))"
   ]
  },
  {
   "cell_type": "code",
   "execution_count": 45,
   "id": "0bd2f45f-b051-4a44-9387-2c788493ce48",
   "metadata": {},
   "outputs": [
    {
     "data": {
      "text/html": [
       "<div>\n",
       "<style scoped>\n",
       "    .dataframe tbody tr th:only-of-type {\n",
       "        vertical-align: middle;\n",
       "    }\n",
       "\n",
       "    .dataframe tbody tr th {\n",
       "        vertical-align: top;\n",
       "    }\n",
       "\n",
       "    .dataframe thead th {\n",
       "        text-align: right;\n",
       "    }\n",
       "</style>\n",
       "<table border=\"1\" class=\"dataframe\">\n",
       "  <thead>\n",
       "    <tr style=\"text-align: right;\">\n",
       "      <th></th>\n",
       "      <th>date</th>\n",
       "      <th>id</th>\n",
       "      <th>nbre_like</th>\n",
       "      <th>nbre_retweet</th>\n",
       "      <th>screenName</th>\n",
       "      <th>texte</th>\n",
       "      <th>type</th>\n",
       "      <th>type_vaccin</th>\n",
       "      <th>datetime</th>\n",
       "      <th>texte_propre</th>\n",
       "      <th>...</th>\n",
       "      <th>vaccin_astrazeneca</th>\n",
       "      <th>vaccin_janssen</th>\n",
       "      <th>vaccin_moderna</th>\n",
       "      <th>vaccin_pfizer</th>\n",
       "      <th>nbre_hashtags</th>\n",
       "      <th>nbre_tags</th>\n",
       "      <th>nbre_exclamation</th>\n",
       "      <th>nbre_mails</th>\n",
       "      <th>nbre_interrogation</th>\n",
       "      <th>nbre_maj</th>\n",
       "    </tr>\n",
       "  </thead>\n",
       "  <tbody>\n",
       "    <tr>\n",
       "      <th>0</th>\n",
       "      <td>2021-03-01</td>\n",
       "      <td>1366184519662006274</td>\n",
       "      <td>1</td>\n",
       "      <td>0</td>\n",
       "      <td>yokko_mars</td>\n",
       "      <td>@silvano_trotta Au Japon, on refuse le don de sang de personnes vaccinées, peut-être #Pfizer travaille-il à résoudre ce problème ?\\nhttps://t.co/HFMPvtEfPY</td>\n",
       "      <td>tweet</td>\n",
       "      <td>pfizer</td>\n",
       "      <td>2021-03-01 00:32:26</td>\n",
       "      <td>Au Japon  on refuse le don de sang de personnes vaccinées  peut être Pfizer travaille il à résoudre ce problème</td>\n",
       "      <td>...</td>\n",
       "      <td>0</td>\n",
       "      <td>0</td>\n",
       "      <td>0</td>\n",
       "      <td>1</td>\n",
       "      <td>1</td>\n",
       "      <td>1</td>\n",
       "      <td>0</td>\n",
       "      <td>0</td>\n",
       "      <td>1</td>\n",
       "      <td>2</td>\n",
       "    </tr>\n",
       "    <tr>\n",
       "      <th>1</th>\n",
       "      <td>2021-03-01</td>\n",
       "      <td>1366299423781892098</td>\n",
       "      <td>2</td>\n",
       "      <td>0</td>\n",
       "      <td>Epcocorico</td>\n",
       "      <td>@France_Dessinee @Pfizer_France Tragique</td>\n",
       "      <td>tweet</td>\n",
       "      <td>pfizer</td>\n",
       "      <td>2021-03-01 08:09:01</td>\n",
       "      <td>Tragique</td>\n",
       "      <td>...</td>\n",
       "      <td>0</td>\n",
       "      <td>0</td>\n",
       "      <td>0</td>\n",
       "      <td>1</td>\n",
       "      <td>0</td>\n",
       "      <td>2</td>\n",
       "      <td>0</td>\n",
       "      <td>0</td>\n",
       "      <td>0</td>\n",
       "      <td>0</td>\n",
       "    </tr>\n",
       "    <tr>\n",
       "      <th>2</th>\n",
       "      <td>2021-03-01</td>\n",
       "      <td>1366307752096768000</td>\n",
       "      <td>2</td>\n",
       "      <td>0</td>\n",
       "      <td>socarre</td>\n",
       "      <td>@thierrycogne @dc_morel Vaccinons en pharmacie et chez les médecins, avec AztraZeneca et Janssen qui va arriver en avril. Ouvrons plus de RDV sur les centres de vaccinations pour Pfizer et Moderna. Espérons que des millions de vaccinations auront lieu entre avril et juin.🙏</td>\n",
       "      <td>tweet</td>\n",
       "      <td>janssen</td>\n",
       "      <td>2021-03-01 08:42:07</td>\n",
       "      <td>Vaccinons en pharmacie et chez les médecins  avec AztraZeneca et Janssen qui va arriver en avril  Ouvrons plus de RDV sur les centres de vaccinations pour Pfizer et Moderna  Espérons que des millions de vaccinations auront lieu entre avril et juin</td>\n",
       "      <td>...</td>\n",
       "      <td>0</td>\n",
       "      <td>1</td>\n",
       "      <td>0</td>\n",
       "      <td>0</td>\n",
       "      <td>0</td>\n",
       "      <td>2</td>\n",
       "      <td>0</td>\n",
       "      <td>0</td>\n",
       "      <td>0</td>\n",
       "      <td>1</td>\n",
       "    </tr>\n",
       "    <tr>\n",
       "      <th>3</th>\n",
       "      <td>2021-03-01</td>\n",
       "      <td>1366307752096768000</td>\n",
       "      <td>2</td>\n",
       "      <td>0</td>\n",
       "      <td>socarre</td>\n",
       "      <td>@thierrycogne @dc_morel Vaccinons en pharmacie et chez les médecins, avec AztraZeneca et Janssen qui va arriver en avril. Ouvrons plus de RDV sur les centres de vaccinations pour Pfizer et Moderna. Espérons que des millions de vaccinations auront lieu entre avril et juin.🙏</td>\n",
       "      <td>tweet</td>\n",
       "      <td>moderna</td>\n",
       "      <td>2021-03-01 08:42:07</td>\n",
       "      <td>Vaccinons en pharmacie et chez les médecins  avec AztraZeneca et Janssen qui va arriver en avril  Ouvrons plus de RDV sur les centres de vaccinations pour Pfizer et Moderna  Espérons que des millions de vaccinations auront lieu entre avril et juin</td>\n",
       "      <td>...</td>\n",
       "      <td>0</td>\n",
       "      <td>0</td>\n",
       "      <td>1</td>\n",
       "      <td>0</td>\n",
       "      <td>0</td>\n",
       "      <td>2</td>\n",
       "      <td>0</td>\n",
       "      <td>0</td>\n",
       "      <td>0</td>\n",
       "      <td>1</td>\n",
       "    </tr>\n",
       "    <tr>\n",
       "      <th>4</th>\n",
       "      <td>2021-03-01</td>\n",
       "      <td>1366307752096768000</td>\n",
       "      <td>2</td>\n",
       "      <td>0</td>\n",
       "      <td>socarre</td>\n",
       "      <td>@thierrycogne @dc_morel Vaccinons en pharmacie et chez les médecins, avec AztraZeneca et Janssen qui va arriver en avril. Ouvrons plus de RDV sur les centres de vaccinations pour Pfizer et Moderna. Espérons que des millions de vaccinations auront lieu entre avril et juin.🙏</td>\n",
       "      <td>tweet</td>\n",
       "      <td>pfizer</td>\n",
       "      <td>2021-03-01 08:42:07</td>\n",
       "      <td>Vaccinons en pharmacie et chez les médecins  avec AztraZeneca et Janssen qui va arriver en avril  Ouvrons plus de RDV sur les centres de vaccinations pour Pfizer et Moderna  Espérons que des millions de vaccinations auront lieu entre avril et juin</td>\n",
       "      <td>...</td>\n",
       "      <td>0</td>\n",
       "      <td>0</td>\n",
       "      <td>0</td>\n",
       "      <td>1</td>\n",
       "      <td>0</td>\n",
       "      <td>2</td>\n",
       "      <td>0</td>\n",
       "      <td>0</td>\n",
       "      <td>0</td>\n",
       "      <td>1</td>\n",
       "    </tr>\n",
       "  </tbody>\n",
       "</table>\n",
       "<p>5 rows × 24 columns</p>\n",
       "</div>"
      ],
      "text/plain": [
       "         date                   id  nbre_like  nbre_retweet  screenName  \\\n",
       "0  2021-03-01  1366184519662006274          1             0  yokko_mars   \n",
       "1  2021-03-01  1366299423781892098          2             0  Epcocorico   \n",
       "2  2021-03-01  1366307752096768000          2             0     socarre   \n",
       "3  2021-03-01  1366307752096768000          2             0     socarre   \n",
       "4  2021-03-01  1366307752096768000          2             0     socarre   \n",
       "\n",
       "                                                                                                                                                                                                                                                                               texte  \\\n",
       "0                                                                                                                        @silvano_trotta Au Japon, on refuse le don de sang de personnes vaccinées, peut-être #Pfizer travaille-il à résoudre ce problème ?\\nhttps://t.co/HFMPvtEfPY   \n",
       "1                                                                                                                                                                                                                                           @France_Dessinee @Pfizer_France Tragique   \n",
       "2  @thierrycogne @dc_morel Vaccinons en pharmacie et chez les médecins, avec AztraZeneca et Janssen qui va arriver en avril. Ouvrons plus de RDV sur les centres de vaccinations pour Pfizer et Moderna. Espérons que des millions de vaccinations auront lieu entre avril et juin.🙏   \n",
       "3  @thierrycogne @dc_morel Vaccinons en pharmacie et chez les médecins, avec AztraZeneca et Janssen qui va arriver en avril. Ouvrons plus de RDV sur les centres de vaccinations pour Pfizer et Moderna. Espérons que des millions de vaccinations auront lieu entre avril et juin.🙏   \n",
       "4  @thierrycogne @dc_morel Vaccinons en pharmacie et chez les médecins, avec AztraZeneca et Janssen qui va arriver en avril. Ouvrons plus de RDV sur les centres de vaccinations pour Pfizer et Moderna. Espérons que des millions de vaccinations auront lieu entre avril et juin.🙏   \n",
       "\n",
       "    type type_vaccin            datetime  \\\n",
       "0  tweet      pfizer 2021-03-01 00:32:26   \n",
       "1  tweet      pfizer 2021-03-01 08:09:01   \n",
       "2  tweet     janssen 2021-03-01 08:42:07   \n",
       "3  tweet     moderna 2021-03-01 08:42:07   \n",
       "4  tweet      pfizer 2021-03-01 08:42:07   \n",
       "\n",
       "                                                                                                                                                                                                                                                    texte_propre  \\\n",
       "0                                                                                                                                             Au Japon  on refuse le don de sang de personnes vaccinées  peut être Pfizer travaille il à résoudre ce problème      \n",
       "1                                                                                                                                                                                                                                                       Tragique   \n",
       "2      Vaccinons en pharmacie et chez les médecins  avec AztraZeneca et Janssen qui va arriver en avril  Ouvrons plus de RDV sur les centres de vaccinations pour Pfizer et Moderna  Espérons que des millions de vaccinations auront lieu entre avril et juin     \n",
       "3      Vaccinons en pharmacie et chez les médecins  avec AztraZeneca et Janssen qui va arriver en avril  Ouvrons plus de RDV sur les centres de vaccinations pour Pfizer et Moderna  Espérons que des millions de vaccinations auront lieu entre avril et juin     \n",
       "4      Vaccinons en pharmacie et chez les médecins  avec AztraZeneca et Janssen qui va arriver en avril  Ouvrons plus de RDV sur les centres de vaccinations pour Pfizer et Moderna  Espérons que des millions de vaccinations auront lieu entre avril et juin     \n",
       "\n",
       "   ... vaccin_astrazeneca  vaccin_janssen vaccin_moderna  vaccin_pfizer  \\\n",
       "0  ...                  0               0              0              1   \n",
       "1  ...                  0               0              0              1   \n",
       "2  ...                  0               1              0              0   \n",
       "3  ...                  0               0              1              0   \n",
       "4  ...                  0               0              0              1   \n",
       "\n",
       "   nbre_hashtags  nbre_tags  nbre_exclamation  nbre_mails  nbre_interrogation  \\\n",
       "0              1          1                 0           0                   1   \n",
       "1              0          2                 0           0                   0   \n",
       "2              0          2                 0           0                   0   \n",
       "3              0          2                 0           0                   0   \n",
       "4              0          2                 0           0                   0   \n",
       "\n",
       "   nbre_maj  \n",
       "0         2  \n",
       "1         0  \n",
       "2         1  \n",
       "3         1  \n",
       "4         1  \n",
       "\n",
       "[5 rows x 24 columns]"
      ]
     },
     "execution_count": 45,
     "metadata": {},
     "output_type": "execute_result"
    }
   ],
   "source": [
    "df_tweets.head()"
   ]
  },
  {
   "cell_type": "code",
   "execution_count": 46,
   "id": "b97e567d-6ad2-49b5-8716-0ca3a65f54b1",
   "metadata": {},
   "outputs": [
    {
     "name": "stdout",
     "output_type": "stream",
     "text": [
      "Ainsi, 6005 tweets ont pu être requetés et 24 variables construites. Le dictionnaire de données est le suivant\n"
     ]
    }
   ],
   "source": [
    "print(\"Ainsi, {:1d} tweets ont pu être requetés et {:1d} variables construites. Le dictionnaire de données est le suivant\".format(df_tweets.shape[0], df_tweets.shape[1]))"
   ]
  },
  {
   "cell_type": "markdown",
   "id": "33740cce-0a72-43bd-a27b-60efce69a718",
   "metadata": {},
   "source": [
    "Le dictionnaire de données est le suivant\n",
    "+ date\n",
    "+ id\n",
    "+ nbre_like\n",
    "+ nbre_retweet\n",
    "+ screenName\n",
    "+ texte\n",
    "+ type\n",
    "+ type_vaccin\n",
    "+ datetime\n",
    "+ texte_propre\n",
    "+ score_polarite\n",
    "+ label_car\n",
    "+ label\n",
    "+ vaccin_astrazeneca\n",
    "+ vaccin_janssen\n",
    "+ vaccin_moderna\n",
    "+ vaccin_pfizer\n",
    "+ nbre_hashtags\n",
    "+ nbre_tags\n",
    "+ nbre_exclamation\n",
    "+ nbre_mails\n",
    "+ nbre_interrogation\n",
    "+ nbre_maj"
   ]
  },
  {
   "cell_type": "markdown",
   "id": "bd9d8399-7be5-441d-ae22-f32efda3d53d",
   "metadata": {
    "tags": []
   },
   "source": [
    "# Exploratory Data Analysis"
   ]
  },
  {
   "cell_type": "markdown",
   "id": "f3a11a8a-dde3-47b0-824a-b3651d306d66",
   "metadata": {
    "jp-MarkdownHeadingCollapsed": true,
    "tags": []
   },
   "source": [
    "### Statistiques descriptives"
   ]
  },
  {
   "cell_type": "code",
   "execution_count": 47,
   "id": "c188ea9f-6acb-4f3e-ab89-dc9fdd5f2ef2",
   "metadata": {},
   "outputs": [
    {
     "data": {
      "text/html": [
       "<div>\n",
       "<style scoped>\n",
       "    .dataframe tbody tr th:only-of-type {\n",
       "        vertical-align: middle;\n",
       "    }\n",
       "\n",
       "    .dataframe tbody tr th {\n",
       "        vertical-align: top;\n",
       "    }\n",
       "\n",
       "    .dataframe thead th {\n",
       "        text-align: right;\n",
       "    }\n",
       "</style>\n",
       "<table border=\"1\" class=\"dataframe\">\n",
       "  <thead>\n",
       "    <tr style=\"text-align: right;\">\n",
       "      <th></th>\n",
       "      <th>id</th>\n",
       "      <th>nbre_like</th>\n",
       "      <th>nbre_retweet</th>\n",
       "      <th>score_polarite</th>\n",
       "      <th>label</th>\n",
       "      <th>vaccin_astrazeneca</th>\n",
       "      <th>vaccin_janssen</th>\n",
       "      <th>vaccin_moderna</th>\n",
       "      <th>vaccin_pfizer</th>\n",
       "      <th>nbre_hashtags</th>\n",
       "      <th>nbre_tags</th>\n",
       "      <th>nbre_exclamation</th>\n",
       "      <th>nbre_mails</th>\n",
       "      <th>nbre_interrogation</th>\n",
       "      <th>nbre_maj</th>\n",
       "    </tr>\n",
       "  </thead>\n",
       "  <tbody>\n",
       "    <tr>\n",
       "      <th>count</th>\n",
       "      <td>6.005000e+03</td>\n",
       "      <td>6005.000</td>\n",
       "      <td>6005.000</td>\n",
       "      <td>6005.000</td>\n",
       "      <td>6005.000</td>\n",
       "      <td>6005.000</td>\n",
       "      <td>6005.000</td>\n",
       "      <td>6005.000</td>\n",
       "      <td>6005.000</td>\n",
       "      <td>6005.000</td>\n",
       "      <td>6005.000</td>\n",
       "      <td>6005.000</td>\n",
       "      <td>6005.0</td>\n",
       "      <td>6005.000</td>\n",
       "      <td>6005.000</td>\n",
       "    </tr>\n",
       "    <tr>\n",
       "      <th>mean</th>\n",
       "      <td>1.409209e+18</td>\n",
       "      <td>8.904</td>\n",
       "      <td>2.974</td>\n",
       "      <td>0.075</td>\n",
       "      <td>0.366</td>\n",
       "      <td>0.230</td>\n",
       "      <td>0.026</td>\n",
       "      <td>0.169</td>\n",
       "      <td>0.574</td>\n",
       "      <td>1.051</td>\n",
       "      <td>1.231</td>\n",
       "      <td>0.345</td>\n",
       "      <td>0.0</td>\n",
       "      <td>0.265</td>\n",
       "      <td>1.281</td>\n",
       "    </tr>\n",
       "    <tr>\n",
       "      <th>std</th>\n",
       "      <td>3.169649e+16</td>\n",
       "      <td>109.422</td>\n",
       "      <td>34.282</td>\n",
       "      <td>0.193</td>\n",
       "      <td>0.775</td>\n",
       "      <td>0.421</td>\n",
       "      <td>0.161</td>\n",
       "      <td>0.375</td>\n",
       "      <td>0.494</td>\n",
       "      <td>2.256</td>\n",
       "      <td>1.626</td>\n",
       "      <td>0.898</td>\n",
       "      <td>0.0</td>\n",
       "      <td>0.727</td>\n",
       "      <td>1.903</td>\n",
       "    </tr>\n",
       "    <tr>\n",
       "      <th>min</th>\n",
       "      <td>1.366185e+18</td>\n",
       "      <td>0.000</td>\n",
       "      <td>0.000</td>\n",
       "      <td>-1.000</td>\n",
       "      <td>-1.000</td>\n",
       "      <td>0.000</td>\n",
       "      <td>0.000</td>\n",
       "      <td>0.000</td>\n",
       "      <td>0.000</td>\n",
       "      <td>0.000</td>\n",
       "      <td>0.000</td>\n",
       "      <td>0.000</td>\n",
       "      <td>0.0</td>\n",
       "      <td>0.000</td>\n",
       "      <td>0.000</td>\n",
       "    </tr>\n",
       "    <tr>\n",
       "      <th>25%</th>\n",
       "      <td>1.380763e+18</td>\n",
       "      <td>0.000</td>\n",
       "      <td>0.000</td>\n",
       "      <td>0.000</td>\n",
       "      <td>0.000</td>\n",
       "      <td>0.000</td>\n",
       "      <td>0.000</td>\n",
       "      <td>0.000</td>\n",
       "      <td>0.000</td>\n",
       "      <td>0.000</td>\n",
       "      <td>0.000</td>\n",
       "      <td>0.000</td>\n",
       "      <td>0.0</td>\n",
       "      <td>0.000</td>\n",
       "      <td>0.000</td>\n",
       "    </tr>\n",
       "    <tr>\n",
       "      <th>50%</th>\n",
       "      <td>1.404481e+18</td>\n",
       "      <td>1.000</td>\n",
       "      <td>0.000</td>\n",
       "      <td>0.033</td>\n",
       "      <td>1.000</td>\n",
       "      <td>0.000</td>\n",
       "      <td>0.000</td>\n",
       "      <td>0.000</td>\n",
       "      <td>1.000</td>\n",
       "      <td>0.000</td>\n",
       "      <td>1.000</td>\n",
       "      <td>0.000</td>\n",
       "      <td>0.0</td>\n",
       "      <td>0.000</td>\n",
       "      <td>1.000</td>\n",
       "    </tr>\n",
       "    <tr>\n",
       "      <th>75%</th>\n",
       "      <td>1.430842e+18</td>\n",
       "      <td>2.000</td>\n",
       "      <td>0.000</td>\n",
       "      <td>0.167</td>\n",
       "      <td>1.000</td>\n",
       "      <td>0.000</td>\n",
       "      <td>0.000</td>\n",
       "      <td>0.000</td>\n",
       "      <td>1.000</td>\n",
       "      <td>1.000</td>\n",
       "      <td>2.000</td>\n",
       "      <td>0.000</td>\n",
       "      <td>0.0</td>\n",
       "      <td>0.000</td>\n",
       "      <td>2.000</td>\n",
       "    </tr>\n",
       "    <tr>\n",
       "      <th>max</th>\n",
       "      <td>1.475089e+18</td>\n",
       "      <td>6036.000</td>\n",
       "      <td>1879.000</td>\n",
       "      <td>1.000</td>\n",
       "      <td>1.000</td>\n",
       "      <td>1.000</td>\n",
       "      <td>1.000</td>\n",
       "      <td>1.000</td>\n",
       "      <td>1.000</td>\n",
       "      <td>24.000</td>\n",
       "      <td>23.000</td>\n",
       "      <td>12.000</td>\n",
       "      <td>0.0</td>\n",
       "      <td>10.000</td>\n",
       "      <td>28.000</td>\n",
       "    </tr>\n",
       "  </tbody>\n",
       "</table>\n",
       "</div>"
      ],
      "text/plain": [
       "                 id  nbre_like  nbre_retweet  score_polarite     label  \\\n",
       "count  6.005000e+03   6005.000      6005.000        6005.000  6005.000   \n",
       "mean   1.409209e+18      8.904         2.974           0.075     0.366   \n",
       "std    3.169649e+16    109.422        34.282           0.193     0.775   \n",
       "min    1.366185e+18      0.000         0.000          -1.000    -1.000   \n",
       "25%    1.380763e+18      0.000         0.000           0.000     0.000   \n",
       "50%    1.404481e+18      1.000         0.000           0.033     1.000   \n",
       "75%    1.430842e+18      2.000         0.000           0.167     1.000   \n",
       "max    1.475089e+18   6036.000      1879.000           1.000     1.000   \n",
       "\n",
       "       vaccin_astrazeneca  vaccin_janssen  vaccin_moderna  vaccin_pfizer  \\\n",
       "count            6005.000        6005.000        6005.000       6005.000   \n",
       "mean                0.230           0.026           0.169          0.574   \n",
       "std                 0.421           0.161           0.375          0.494   \n",
       "min                 0.000           0.000           0.000          0.000   \n",
       "25%                 0.000           0.000           0.000          0.000   \n",
       "50%                 0.000           0.000           0.000          1.000   \n",
       "75%                 0.000           0.000           0.000          1.000   \n",
       "max                 1.000           1.000           1.000          1.000   \n",
       "\n",
       "       nbre_hashtags  nbre_tags  nbre_exclamation  nbre_mails  \\\n",
       "count       6005.000   6005.000          6005.000      6005.0   \n",
       "mean           1.051      1.231             0.345         0.0   \n",
       "std            2.256      1.626             0.898         0.0   \n",
       "min            0.000      0.000             0.000         0.0   \n",
       "25%            0.000      0.000             0.000         0.0   \n",
       "50%            0.000      1.000             0.000         0.0   \n",
       "75%            1.000      2.000             0.000         0.0   \n",
       "max           24.000     23.000            12.000         0.0   \n",
       "\n",
       "       nbre_interrogation  nbre_maj  \n",
       "count            6005.000  6005.000  \n",
       "mean                0.265     1.281  \n",
       "std                 0.727     1.903  \n",
       "min                 0.000     0.000  \n",
       "25%                 0.000     0.000  \n",
       "50%                 0.000     1.000  \n",
       "75%                 0.000     2.000  \n",
       "max                10.000    28.000  "
      ]
     },
     "execution_count": 47,
     "metadata": {},
     "output_type": "execute_result"
    }
   ],
   "source": [
    "round(df_tweets.describe(), 3)"
   ]
  },
  {
   "cell_type": "markdown",
   "id": "12a8fe3f-975e-4cc9-9edd-0c90d3bfc466",
   "metadata": {},
   "source": [
    "Un apercu de la colonne *nbre_mails*, qui a des valeurs minimale et maximale de 0, montre qu'elle est sans intéret pour la suite."
   ]
  },
  {
   "cell_type": "code",
   "execution_count": 48,
   "id": "c44d34a3-3515-4f61-aac8-e5e7f3087625",
   "metadata": {},
   "outputs": [],
   "source": [
    "df_tweets = df_tweets.drop(\"nbre_mails\", axis=1)"
   ]
  },
  {
   "cell_type": "code",
   "execution_count": 49,
   "id": "0b616b6f-fdcd-4915-bb38-20679cec0086",
   "metadata": {},
   "outputs": [
    {
     "data": {
      "image/png": "[encoded data removed]",
      "text/plain": [
       "<Figure size 1152x432 with 2 Axes>"
      ]
     },
     "metadata": {
      "needs_background": "light"
     },
     "output_type": "display_data"
    }
   ],
   "source": [
    "plt.figure(figsize=(16, 6))\n",
    "\n",
    "heatmap = sns.heatmap(df_tweets.drop(\"id\", axis=1).corr(), vmin=-1, vmax=1, annot=True)\n",
    "heatmap.set_title('Heatmap de corrélation', fontdict={'fontsize':12}, pad=12);"
   ]
  },
  {
   "cell_type": "markdown",
   "id": "fad0cc77-1cb2-4df3-b69f-145537679737",
   "metadata": {},
   "source": [
    "Les variables *nbre_like* et *nbre_retweet* sont corrélées"
   ]
  },
  {
   "cell_type": "code",
   "execution_count": 50,
   "id": "f4f11cc6-f279-4e38-8b38-0059c46275ae",
   "metadata": {},
   "outputs": [
    {
     "data": {
      "text/plain": [
       "type_vaccin\n",
       "astrazeneca    1384\n",
       "janssen         159\n",
       "moderna        1013\n",
       "pfizer         3449\n",
       "Name: id, dtype: int64"
      ]
     },
     "execution_count": 50,
     "metadata": {},
     "output_type": "execute_result"
    }
   ],
   "source": [
    "df_tweets.groupby(\"type_vaccin\")[\"id\"].count()"
   ]
  },
  {
   "cell_type": "code",
   "execution_count": 51,
   "id": "593d9278-5379-40a0-86de-8fec254e914a",
   "metadata": {},
   "outputs": [
    {
     "data": {
      "image/png": "[encoded data removed]",
      "text/plain": [
       "<Figure size 504x360 with 1 Axes>"
      ]
     },
     "metadata": {
      "needs_background": "light"
     },
     "output_type": "display_data"
    }
   ],
   "source": [
    "plt.figure(figsize=(7, 5))\n",
    "sns.set_style('darkgrid')\n",
    "sns.histplot(df_tweets, x=\"type_vaccin\",  shrink=0.7)\n",
    "plt.title(\"Répartition des tweets selon le type de vaccin\")\n",
    "plt.show()"
   ]
  },
  {
   "cell_type": "markdown",
   "id": "12727900-d8f0-47f8-8ae1-c53e45aa071c",
   "metadata": {},
   "source": [
    "Pfizer est le vaccin le plus populaire étant donné qu'environ 3500 tweets l'ont cité. Il est suivi de AstraZeneca avec 1384 mentions et Moderna avec environ 1000 mentions. Janssen est très faiblement représenté avec seulement 159 tweets. "
   ]
  },
  {
   "cell_type": "code",
   "execution_count": 52,
   "id": "edc91804-495f-419c-944a-0a6a5d139b1e",
   "metadata": {},
   "outputs": [
    {
     "data": {
      "text/plain": [
       "label_car\n",
       "negatif    1107\n",
       "neutre     1596\n",
       "positif    3302\n",
       "Name: id, dtype: int64"
      ]
     },
     "execution_count": 52,
     "metadata": {},
     "output_type": "execute_result"
    }
   ],
   "source": [
    "df_tweets.groupby(\"label_car\")[\"id\"].count()"
   ]
  },
  {
   "cell_type": "code",
   "execution_count": 53,
   "id": "3c4c3af6-5f3f-4e4e-a899-4535b907f25b",
   "metadata": {},
   "outputs": [
    {
     "data": {
      "image/png": "[encoded data removed]",
      "text/plain": [
       "<Figure size 504x360 with 1 Axes>"
      ]
     },
     "metadata": {},
     "output_type": "display_data"
    }
   ],
   "source": [
    "plt.figure(figsize=(7, 5))\n",
    "sns.set_style('darkgrid')\n",
    "# customPalette = sns.set_palette(sns.diverging_palette(150, 10, n=3))\n",
    "\n",
    "sns.histplot(df_tweets.sort_values(\"label_car\", ascending=False), x=\"label_car\",  shrink=0.7)# , palette=customPalette)\n",
    "plt.title(\"Répartition des tweets par label de sentiment\")\n",
    "plt.show()"
   ]
  },
  {
   "cell_type": "markdown",
   "id": "6a8151b9-0e6f-4a1e-b846-24b7ee767d99",
   "metadata": {},
   "source": [
    "Parmi tous les tweets, environ la moitié ont été désignés par TextBlob comme positifs en termes de sentiment (polarité = > 1), l'autre moitié étant constituée de 1203 tweets négatifs (polarité < 0,0) et de 1495 tweets neutres (polarité = 0)."
   ]
  },
  {
   "cell_type": "code",
   "execution_count": 54,
   "id": "15e5cf39-93f5-4a9a-bbc0-b538e3978823",
   "metadata": {},
   "outputs": [
    {
     "data": {
      "text/plain": [
       "type_vaccin  label_car\n",
       "astrazeneca  negatif       268\n",
       "             neutre        369\n",
       "             positif       747\n",
       "janssen      negatif        31\n",
       "             neutre         42\n",
       "             positif        86\n",
       "moderna      negatif       196\n",
       "             neutre        262\n",
       "             positif       555\n",
       "pfizer       negatif       612\n",
       "             neutre        923\n",
       "             positif      1914\n",
       "Name: id, dtype: int64"
      ]
     },
     "execution_count": 54,
     "metadata": {},
     "output_type": "execute_result"
    }
   ],
   "source": [
    "df_tweets.groupby([\"type_vaccin\", \"label_car\"])[\"id\"].count()"
   ]
  },
  {
   "cell_type": "code",
   "execution_count": 55,
   "id": "123c3788-d42d-4ceb-a640-333ad4dfca5f",
   "metadata": {},
   "outputs": [
    {
     "data": {
      "text/plain": [
       "<Figure size 720x504 with 0 Axes>"
      ]
     },
     "metadata": {},
     "output_type": "display_data"
    },
    {
     "data": {
      "image/png": "[encoded data removed]",
      "text/plain": [
       "<Figure size 431.375x360 with 1 Axes>"
      ]
     },
     "metadata": {},
     "output_type": "display_data"
    }
   ],
   "source": [
    "plt.figure(figsize=(10, 7))\n",
    "# sns.color_palette(\"Spectral\", as_cmap=True)\n",
    "cpalette = sns.diverging_palette(140, 10, n=3)\n",
    "sns.displot(df_tweets.sort_values(\"label_car\", ascending=False), x=\"type_vaccin\", hue=\"label_car\", multiple=\"stack\", shrink=0.7, palette=cpalette)\n",
    "plt.title(\"Répartition des sentiments selon le vaccin\")\n",
    "plt.show()"
   ]
  },
  {
   "cell_type": "markdown",
   "id": "c6a8cdab-bb31-40e5-8468-5d834fc469a1",
   "metadata": {},
   "source": [
    "Pour tous les types de vaccins, les tweets \"positifs\" sont les plus représentés suivi des tweets neutres et enfin des tweets négatifs. La population apprécie en moyenne tous les types de vaccin . "
   ]
  },
  {
   "cell_type": "markdown",
   "id": "ab6bface-0a6c-4419-ad3a-84dfcc4aec80",
   "metadata": {
    "jp-MarkdownHeadingCollapsed": true,
    "tags": []
   },
   "source": [
    "### Analyse temporelle"
   ]
  },
  {
   "cell_type": "markdown",
   "id": "782deaed-5c61-4287-9e60-c3e58893f708",
   "metadata": {},
   "source": [
    "Dans cette partie, nous verrons si nous pouvons explorer des tendances par rapport au temps.   \n",
    "Premièrement, il est utile de visualiser la distribution temporelle de tous les tweets dans l'ensemble de données."
   ]
  },
  {
   "cell_type": "code",
   "execution_count": 56,
   "id": "4bcdb83c-2364-43ed-ab09-ebbe8e1b6eeb",
   "metadata": {},
   "outputs": [
    {
     "data": {
      "text/plain": [
       "Text(0.5, 1.0, 'Fréquence des tweets par rapport au temps')"
      ]
     },
     "execution_count": 56,
     "metadata": {},
     "output_type": "execute_result"
    },
    {
     "data": {
      "image/png": "[encoded data removed]",
      "text/plain": [
       "<Figure size 2160x576 with 1 Axes>"
      ]
     },
     "metadata": {},
     "output_type": "display_data"
    }
   ],
   "source": [
    "plt.figure(figsize=(30, 8))\n",
    "sns.set_style('darkgrid')\n",
    "sns.histplot(df_tweets, x=\"date\")\n",
    "plt.title(\"Fréquence des tweets par rapport au temps\")"
   ]
  },
  {
   "cell_type": "markdown",
   "id": "7f2a220e-eab4-4b07-99bd-e437537bb1b2",
   "metadata": {},
   "source": [
    "Les mois de mars, avril et aout ont connu de nombreux tweets sur les vaccins. Cela est sans doute dû aux mesures restrictives annoncées pour les vacances d'été et les rentrées adminitratives de septembre. "
   ]
  },
  {
   "cell_type": "code",
   "execution_count": 57,
   "id": "dfc82334-f229-4d87-8759-dd6886c91f80",
   "metadata": {},
   "outputs": [],
   "source": [
    "df_date = df_tweets.groupby(['date']).agg(np.nanmean).reset_index()\n",
    "df_date['nbre_tweet'] = df_tweets.groupby(['date']).count().reset_index()['id']\n",
    "df_date = df_date[['date', 'nbre_tweet', 'score_polarite', 'nbre_like']]\n",
    "df_date[\"score_polarite\"] = df_date[\"score_polarite\"].astype(float)\n",
    "# df_date['nbre_tweet']"
   ]
  },
  {
   "cell_type": "code",
   "execution_count": null,
   "id": "78fa9537-2621-433e-b261-cd21acc678a3",
   "metadata": {},
   "outputs": [],
   "source": [
    "# plt.figure(figsize=(30, 8))\n",
    "# plot = plt.scatter(df_date.index, df_date['nbre_tweet'], c=df_date['score_polarite'], cmap='coolwarm')\n",
    "# plt.clf()\n",
    "# plt.colorbar(plot)\n",
    "# ax = sns.barplot(x=df_date.index, y=df_date['nbre_tweet'], hue=df_date['score_polarite'], palette='coolwarm', dodge=False)\n",
    "# ax.xaxis.set_major_locator(matplotlib.ticker.MaxNLocator(prune='both', nbins=11))\n",
    "# ax.set(xlabel=\"Date\",\n",
    "#       ylabel=\"nombre_tweets\",\n",
    "#       title=\"Score de polarité moyen pour les tweets agrégés par date\")\n",
    "# ax.legend_.remove()"
   ]
  },
  {
   "cell_type": "markdown",
   "id": "0e525322-c54b-4c93-ab91-d799974ab864",
   "metadata": {
    "tags": []
   },
   "source": [
    "### Visualisation avec WordCloud"
   ]
  },
  {
   "cell_type": "markdown",
   "id": "bda72fb3-6b42-4477-81d6-e6051544928b",
   "metadata": {},
   "source": [
    "On se propose ici de visualiser les wordclouds selon le sentiment et selon le vaccin."
   ]
  },
  {
   "cell_type": "code",
   "execution_count": 58,
   "id": "7e0fac93-d729-4b0e-90af-01ba1cd21085",
   "metadata": {},
   "outputs": [],
   "source": [
    "# définition des couleurs pour distinguer les wordclouds par type de sentiments\n",
    "import random \n",
    "\n",
    "def couleur_rouge(word, font_size, position, orientation, random_state=None,**kwargs):\n",
    "    return f\"hsl(0, 100%, {random.randint(25, 75)}%)\" \n",
    "\n",
    "def couleur_vert(word, font_size, position, orientation, random_state=None,**kwargs):\n",
    "    return f\"hsl({random.randint(90, 150)}, 100%, 30%)\" \n",
    "\n",
    "def couleur_jaune(word, font_size, position, orientation, random_state=None,**kwargs):\n",
    "    return f\"hsl(42, 100%, {random.randint(25, 50)}%)\" "
   ]
  },
  {
   "cell_type": "code",
   "execution_count": null,
   "id": "2f263859-b624-48c2-93fb-9ef2053e928d",
   "metadata": {},
   "outputs": [],
   "source": [
    "def plot_wordcloud_label() :\n",
    "    for x in df_tweets[\"type_vaccin\"].unique():\n",
    "        stop_words.append(x)\n",
    "    # joindre les tweets en une chaine de caractere par type de sentiment\n",
    "    df_pos = df_tweets[df_tweets['label']==1]\n",
    "    mots_pos = ' '.join(df_pos['texte_lemmatise'])\n",
    "    \n",
    "    df_neg = df_tweets[df_tweets['label']==-1]\n",
    "    mots_neg = ' '.join(df_neg['texte_lemmatise'])\n",
    "    \n",
    "    df_neu = df_tweets[df_tweets['label']==0]\n",
    "    mots_neu = ' '.join(df_neu['texte_lemmatise'])\n",
    "    \n",
    "    fig, axes = plt.subplots(1,3, figsize=(25,25))\n",
    "    \n",
    "    wordcloud_neg = WordCloud(stopwords=stop_words,\n",
    "                          background_color='white',\n",
    "                          collocations=False, collocation_threshold=100,\n",
    "                          max_words=75, min_word_length=4, colormap='Reds'\n",
    "                         ).generate(mots_neg)\n",
    "    axes[0].imshow(wordcloud_neg.recolor(color_func=couleur_rouge, random_state=3), interpolation='bilinear')\n",
    "    axes[0].set_title(\"Sentiment négatif\")\n",
    "    axes[0].axis(\"off\")\n",
    "\n",
    "    wordcloud_neu = WordCloud(stopwords=stop_words,\n",
    "                          background_color='white',\n",
    "                          collocations=False, collocation_threshold=100,\n",
    "                          max_words=75, min_word_length=4, colormap='Greens'\n",
    "                         ).generate(mots_neu)\n",
    "    axes[1].imshow(wordcloud_neu.recolor(color_func=couleur_jaune, random_state=3), interpolation='bilinear')\n",
    "    axes[1].set_title(\"Sentiment neutre\")\n",
    "    axes[1].axis(\"off\")\n",
    "\n",
    "    wordcloud_pos = WordCloud(stopwords=stop_words,\n",
    "                          background_color='white', collocations=False, collocation_threshold=100,\n",
    "                          max_words=75, min_word_length=4, colormap='Greens'\n",
    "                         ).generate(mots_pos)\n",
    "    axes[2].imshow(wordcloud_pos.recolor(color_func=couleur_vert, random_state=3), interpolation='bilinear')\n",
    "    axes[2].set_title(\"Sentiment positif\")\n",
    "    axes[2].axis(\"off\")\n",
    "\n",
    "    plt.tight_layout()\n",
    "    plt.show();\n",
    "    # return fig"
   ]
  },
  {
   "cell_type": "code",
   "execution_count": null,
   "id": "24d81772-e82f-4c76-860c-79c265bb617b",
   "metadata": {},
   "outputs": [],
   "source": [
    "plot_wordcloud_label()"
   ]
  },
  {
   "cell_type": "code",
   "execution_count": null,
   "id": "1f32e382-3d6b-46a1-b974-095de6585afb",
   "metadata": {},
   "outputs": [],
   "source": [
    "def plot_wordcloud_vaccin(vaccin) :\n",
    "    vaccin=str(vaccin)\n",
    "    for x in df_tweets[\"type_vaccin\"].unique():\n",
    "        stop_words.append(x)\n",
    "    df_cloud = df_tweets[df_tweets['type_vaccin']==vaccin] \n",
    "    df_pos = df_cloud[df_cloud['label']==1]\n",
    "    mots_pos = ' '.join(df_pos['texte_lemmatise'])\n",
    "    \n",
    "    df_neg = df_cloud[df_cloud['label']==-1]\n",
    "    mots_neg = ' '.join(df_neg['texte_lemmatise'])\n",
    "    \n",
    "    df_neu = df_cloud[df_cloud['label']==0]\n",
    "    mots_neu = ' '.join(df_neu['texte_lemmatise'])\n",
    "    \n",
    "    fig, axes = plt.subplots(1,3, figsize=(25,25))\n",
    "    \n",
    "    wordcloud_neg = WordCloud(stopwords=stop_words,\n",
    "                          background_color='white',\n",
    "                          collocations=False, collocation_threshold=100,\n",
    "                          max_words=100, min_word_length=4, colormap='Reds'\n",
    "                         ).generate(mots_neg)\n",
    "    axes[0].imshow(wordcloud_neg.recolor(color_func=couleur_rouge, random_state=3), interpolation='bilinear')\n",
    "    axes[0].set_title(\"Sentiment négatif\")\n",
    "    axes[0].axis(\"off\")\n",
    "\n",
    "    wordcloud_neu = WordCloud(stopwords=stop_words,\n",
    "                          background_color='white',\n",
    "                          collocations=False, collocation_threshold=100,\n",
    "                          max_words=100, min_word_length=4, colormap='Greens'\n",
    "                         ).generate(mots_neu)\n",
    "    axes[1].imshow(wordcloud_neu.recolor(color_func=couleur_jaune, random_state=3), interpolation='bilinear')\n",
    "    axes[1].set_title(\"Sentiment neutre\")\n",
    "    axes[1].axis(\"off\")\n",
    "\n",
    "    wordcloud_pos = WordCloud(stopwords=stop_words,\n",
    "                          background_color='white', collocations=False, collocation_threshold=100,\n",
    "                          max_words=100, min_word_length=4, colormap='Greens'\n",
    "                         ).generate(mots_pos)\n",
    "    axes[2].imshow(wordcloud_pos.recolor(color_func=couleur_vert, random_state=3), interpolation='bilinear')\n",
    "    axes[2].set_title(\"Sentiment positif\")\n",
    "    axes[2].axis(\"off\")\n",
    "\n",
    "    plt.tight_layout()\n",
    "    plt.show();"
   ]
  },
  {
   "cell_type": "code",
   "execution_count": null,
   "id": "337bf3f7-c784-4519-a98e-d4383fc5881d",
   "metadata": {},
   "outputs": [],
   "source": [
    "plot_wordcloud_vaccin(\"pfizer\")"
   ]
  },
  {
   "cell_type": "code",
   "execution_count": null,
   "id": "21767428-7e0e-4c58-99b5-2b02df675ae0",
   "metadata": {},
   "outputs": [],
   "source": [
    "plot_wordcloud_vaccin(\"moderna\")"
   ]
  },
  {
   "cell_type": "code",
   "execution_count": null,
   "id": "61f7de18-1b88-4e19-aa47-2c8e4fdd6478",
   "metadata": {},
   "outputs": [],
   "source": [
    "plot_wordcloud_vaccin(\"janssen\")"
   ]
  },
  {
   "cell_type": "code",
   "execution_count": null,
   "id": "63a1d0e7-80f1-488e-a506-55a440fc88b9",
   "metadata": {},
   "outputs": [],
   "source": [
    "plot_wordcloud_vaccin(\"astrazeneca\")"
   ]
  },
  {
   "cell_type": "markdown",
   "id": "9047c762-8e6e-4f59-b5d4-a44eadeb9b9c",
   "metadata": {
    "tags": []
   },
   "source": [
    "# Modélisation"
   ]
  },
  {
   "cell_type": "markdown",
   "id": "ef582482-6062-483a-962e-130f06c69d99",
   "metadata": {},
   "source": [
    "Cette section concerne la modélisation où une classification word2vec sera implémentée "
   ]
  },
  {
   "cell_type": "code",
   "execution_count": null,
   "id": "484f6208-4bb7-49e2-ad9f-bae231dde524",
   "metadata": {},
   "outputs": [],
   "source": [
    "df_tweets.drop_duplicates(subset = [\"texte\"], keep = 'first', inplace=True, ignore_index = True)"
   ]
  },
  {
   "cell_type": "code",
   "execution_count": null,
   "id": "d16623b6-1d85-487b-9ab3-41dd23ee2b60",
   "metadata": {},
   "outputs": [],
   "source": [
    "from sklearn.model_selection import train_test_split\n",
    "X_train, X_test, y_train, y_test = train_test_split(df_tweets[['liste_mots_lemmatises']], df_tweets[['label']])"
   ]
  },
  {
   "cell_type": "code",
   "execution_count": null,
   "id": "7a34b00c-ebf0-41a6-bc99-336c51d4da9e",
   "metadata": {},
   "outputs": [],
   "source": [
    "X_train"
   ]
  },
  {
   "cell_type": "code",
   "execution_count": null,
   "id": "1ce55ed0-1d44-438a-a897-443edb1e0a93",
   "metadata": {},
   "outputs": [],
   "source": [
    "from sklearn.feature_extraction.text import TfidfTransformer, CountVectorizer\n",
    "from sklearn.pipeline import make_pipeline\n",
    "pipe = make_pipeline(CountVectorizer(), TfidfTransformer())\n",
    "pipe.fit(X_train['liste_mots_lemmatises'])\n",
    "feat_train = pipe.transform(X_train['liste_mots_lemmatises'])\n",
    "feat_train"
   ]
  },
  {
   "cell_type": "code",
   "execution_count": null,
   "id": "f7941955-cef7-4d39-a10a-a9c05bb5eef3",
   "metadata": {},
   "outputs": [],
   "source": []
  }
 ],
 "metadata": {
  "kernelspec": {
   "display_name": "Python 3 (ipykernel)",
   "language": "python",
   "name": "python3"
  },
  "language_info": {
   "codemirror_mode": {
    "name": "ipython",
    "version": 3
   },
   "file_extension": ".py",
   "mimetype": "text/x-python",
   "name": "python",
   "nbconvert_exporter": "python",
   "pygments_lexer": "ipython3",
   "version": "3.9.7"
  }
 },
 "nbformat": 4,
 "nbformat_minor": 5
}
