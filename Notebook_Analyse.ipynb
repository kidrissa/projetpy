{
 "cells": [
  {
   "cell_type": "code",
   "execution_count": null,
   "id": "a762c4dc-82ba-4509-b98c-dc848787b1d0",
   "metadata": {},
   "outputs": [],
   "source": [
    "# !pip install demoji"
   ]
  },
  {
   "cell_type": "code",
   "execution_count": null,
   "id": "a4f04e32-f339-4606-b5a1-1ecff5c2c3da",
   "metadata": {},
   "outputs": [],
   "source": [
    "# !pip install textblob"
   ]
  },
  {
   "cell_type": "code",
   "execution_count": null,
   "id": "cfd22f34-050f-478c-957d-028dee53e4c4",
   "metadata": {},
   "outputs": [],
   "source": [
    "# !pip install afinn"
   ]
  },
  {
   "cell_type": "code",
   "execution_count": null,
   "id": "4482d9e2-4eb0-4a5e-847b-dff48c95d296",
   "metadata": {},
   "outputs": [],
   "source": [
    "# !pip install wordcloud"
   ]
  },
  {
   "cell_type": "code",
   "execution_count": null,
   "id": "491d5266-6fac-4a5d-908c-9b36706abdc8",
   "metadata": {},
   "outputs": [],
   "source": [
    "# !pip install textblob-fr"
   ]
  },
  {
   "cell_type": "code",
   "execution_count": null,
   "id": "81f3dc9d-5a7f-4408-9b0c-bbd3094cecfb",
   "metadata": {},
   "outputs": [],
   "source": [
    "# !pip install plotly"
   ]
  },
  {
   "cell_type": "code",
   "execution_count": 1,
   "id": "e4b2f4f5-f0e6-4d64-b11c-bb070248bddd",
   "metadata": {},
   "outputs": [],
   "source": [
    "import pandas as pd\n",
    "import numpy as np\n",
    "import plotly\n",
    "import matplotlib\n",
    "import plotly.express as px\n",
    "import requests\n",
    "import seaborn as sns\n",
    "from matplotlib import pyplot as plt\n",
    "import datetime\n",
    "import searchtweets\n",
    "from textblob import TextBlob\n",
    "from afinn import Afinn\n",
    "from datetime import *\n",
    "from wordcloud import WordCloud\n",
    "import matplotlib.pyplot as plt\n",
    "from textblob import TextBlob, Blobber\n",
    "from textblob_fr import PatternTagger, PatternAnalyzer\n",
    "import re\n",
    "from nltk.corpus import stopwords\n",
    "import nltk\n",
    "import demoji\n",
    "import sklearn\n",
    "from sklearn.preprocessing import StandardScaler\n",
    "from sklearn.model_selection import train_test_split\n",
    "from sklearn.linear_model import LogisticRegression"
   ]
  },
  {
   "cell_type": "code",
   "execution_count": 2,
   "id": "fc00e06f-7ea1-408a-9e5d-13c899542a4b",
   "metadata": {},
   "outputs": [],
   "source": [
    "# nltk.download('stopwords')\n",
    "# nltk.download('punkt')"
   ]
  },
  {
   "cell_type": "markdown",
   "id": "ffce733b-1f79-4c23-aab3-79933472bc7c",
   "metadata": {},
   "source": [
    "# Introduction"
   ]
  },
  {
   "cell_type": "markdown",
   "id": "cdfb102f-8aea-4ac2-af0d-e0b172499ab1",
   "metadata": {
    "jp-MarkdownHeadingCollapsed": true,
    "tags": []
   },
   "source": [
    "# Data Wrangling"
   ]
  },
  {
   "cell_type": "code",
   "execution_count": 3,
   "id": "ad14ff5f-2ad2-4d6f-b06b-dbecd7a0457b",
   "metadata": {},
   "outputs": [],
   "source": [
    "df_tweets = pd.read_csv(\"~/work/projetpy/csv_tweets/tweets_vaccins.csv\")"
   ]
  },
  {
   "cell_type": "markdown",
   "id": "16605433-11ca-4f5c-820f-5563a01f13a0",
   "metadata": {},
   "source": [
    "Un même tweet peut être posté par le même auteur à des heures différentes. La cellule ci-dessous permet de supprimer ces tweets dupliqués qui ont des valeurs communes de *texte* et *type_vaccin*. Ceratins tweets citent plus d'un vaccin, leurs repétitions selon *texte* et *type_vaccin* est légitime et ne seront pas pris en compte dans la suppression."
   ]
  },
  {
   "cell_type": "code",
   "execution_count": 4,
   "id": "a2589bed-0b94-43eb-92b0-9d1e0f6b3cba",
   "metadata": {},
   "outputs": [],
   "source": [
    "df_tweets[\"datetime\"] = df_tweets[\"date\"].apply(lambda x : datetime.strptime(x, \"%Y-%m-%d %H:%M:%S\"))\n",
    "\n",
    "df_tweets[\"date\"] = df_tweets[\"datetime\"].apply(datetime.date)"
   ]
  },
  {
   "cell_type": "code",
   "execution_count": 5,
   "id": "eb496895-db20-4914-8934-a2dcee9c1ace",
   "metadata": {},
   "outputs": [],
   "source": [
    "df_tweets.drop_duplicates(subset = [\"texte\", \"type_vaccin\"], keep = 'first', inplace=True, ignore_index = True)"
   ]
  },
  {
   "cell_type": "code",
   "execution_count": 6,
   "id": "64357336-c8b2-462b-b3fb-09126b04d411",
   "metadata": {},
   "outputs": [
    {
     "data": {
      "text/html": [
       "<div>\n",
       "<style scoped>\n",
       "    .dataframe tbody tr th:only-of-type {\n",
       "        vertical-align: middle;\n",
       "    }\n",
       "\n",
       "    .dataframe tbody tr th {\n",
       "        vertical-align: top;\n",
       "    }\n",
       "\n",
       "    .dataframe thead th {\n",
       "        text-align: right;\n",
       "    }\n",
       "</style>\n",
       "<table border=\"1\" class=\"dataframe\">\n",
       "  <thead>\n",
       "    <tr style=\"text-align: right;\">\n",
       "      <th></th>\n",
       "      <th>date</th>\n",
       "      <th>id</th>\n",
       "      <th>nbre_like</th>\n",
       "      <th>nbre_retweet</th>\n",
       "      <th>screenName</th>\n",
       "      <th>texte</th>\n",
       "      <th>type</th>\n",
       "      <th>type_vaccin</th>\n",
       "      <th>datetime</th>\n",
       "    </tr>\n",
       "  </thead>\n",
       "  <tbody>\n",
       "    <tr>\n",
       "      <th>0</th>\n",
       "      <td>2021-03-01</td>\n",
       "      <td>1366184519662006274</td>\n",
       "      <td>1</td>\n",
       "      <td>0</td>\n",
       "      <td>yokko_mars</td>\n",
       "      <td>@silvano_trotta Au Japon, on refuse le don de ...</td>\n",
       "      <td>tweet</td>\n",
       "      <td>pfizer</td>\n",
       "      <td>2021-03-01 00:32:26</td>\n",
       "    </tr>\n",
       "    <tr>\n",
       "      <th>1</th>\n",
       "      <td>2021-03-01</td>\n",
       "      <td>1366299423781892098</td>\n",
       "      <td>2</td>\n",
       "      <td>0</td>\n",
       "      <td>Epcocorico</td>\n",
       "      <td>@France_Dessinee @Pfizer_France Tragique</td>\n",
       "      <td>tweet</td>\n",
       "      <td>pfizer</td>\n",
       "      <td>2021-03-01 08:09:01</td>\n",
       "    </tr>\n",
       "    <tr>\n",
       "      <th>2</th>\n",
       "      <td>2021-03-01</td>\n",
       "      <td>1366307752096768000</td>\n",
       "      <td>2</td>\n",
       "      <td>0</td>\n",
       "      <td>socarre</td>\n",
       "      <td>@thierrycogne @dc_morel Vaccinons en pharmacie...</td>\n",
       "      <td>tweet</td>\n",
       "      <td>janssen</td>\n",
       "      <td>2021-03-01 08:42:07</td>\n",
       "    </tr>\n",
       "    <tr>\n",
       "      <th>3</th>\n",
       "      <td>2021-03-01</td>\n",
       "      <td>1366307752096768000</td>\n",
       "      <td>2</td>\n",
       "      <td>0</td>\n",
       "      <td>socarre</td>\n",
       "      <td>@thierrycogne @dc_morel Vaccinons en pharmacie...</td>\n",
       "      <td>tweet</td>\n",
       "      <td>moderna</td>\n",
       "      <td>2021-03-01 08:42:07</td>\n",
       "    </tr>\n",
       "    <tr>\n",
       "      <th>4</th>\n",
       "      <td>2021-03-01</td>\n",
       "      <td>1366307752096768000</td>\n",
       "      <td>2</td>\n",
       "      <td>0</td>\n",
       "      <td>socarre</td>\n",
       "      <td>@thierrycogne @dc_morel Vaccinons en pharmacie...</td>\n",
       "      <td>tweet</td>\n",
       "      <td>pfizer</td>\n",
       "      <td>2021-03-01 08:42:07</td>\n",
       "    </tr>\n",
       "    <tr>\n",
       "      <th>5</th>\n",
       "      <td>2021-03-01</td>\n",
       "      <td>1366314384935550977</td>\n",
       "      <td>5</td>\n",
       "      <td>0</td>\n",
       "      <td>DICKENSDAVID1</td>\n",
       "      <td>@PandaPromeneur 2/2 Pour conclure laissez moi ...</td>\n",
       "      <td>tweet</td>\n",
       "      <td>astrazeneca</td>\n",
       "      <td>2021-03-01 09:08:28</td>\n",
       "    </tr>\n",
       "    <tr>\n",
       "      <th>6</th>\n",
       "      <td>2021-03-01</td>\n",
       "      <td>1366338264492310533</td>\n",
       "      <td>29</td>\n",
       "      <td>7</td>\n",
       "      <td>DICKENSDAVID1</td>\n",
       "      <td>Vous êtes Parisiens, âgés de 50 a 65. et  souf...</td>\n",
       "      <td>tweet</td>\n",
       "      <td>astrazeneca</td>\n",
       "      <td>2021-03-01 10:43:22</td>\n",
       "    </tr>\n",
       "    <tr>\n",
       "      <th>7</th>\n",
       "      <td>2021-03-01</td>\n",
       "      <td>1366378376999669761</td>\n",
       "      <td>0</td>\n",
       "      <td>0</td>\n",
       "      <td>sandrine_rachez</td>\n",
       "      <td>@olivierveran quand le vaccin Pfizer sera-t-il...</td>\n",
       "      <td>tweet</td>\n",
       "      <td>pfizer</td>\n",
       "      <td>2021-03-01 13:22:45</td>\n",
       "    </tr>\n",
       "    <tr>\n",
       "      <th>8</th>\n",
       "      <td>2021-03-01</td>\n",
       "      <td>1366382071409643528</td>\n",
       "      <td>3</td>\n",
       "      <td>1</td>\n",
       "      <td>luna431168</td>\n",
       "      <td>@Drmartyufml Ne pas passer à côté de la territ...</td>\n",
       "      <td>tweet</td>\n",
       "      <td>janssen</td>\n",
       "      <td>2021-03-01 13:37:26</td>\n",
       "    </tr>\n",
       "    <tr>\n",
       "      <th>9</th>\n",
       "      <td>2021-03-01</td>\n",
       "      <td>1366386744745164802</td>\n",
       "      <td>0</td>\n",
       "      <td>1</td>\n",
       "      <td>GARCIAJacqueli2</td>\n",
       "      <td>Le vaccin de Pfizer serait moins efficace sur ...</td>\n",
       "      <td>tweet</td>\n",
       "      <td>pfizer</td>\n",
       "      <td>2021-03-01 13:56:00</td>\n",
       "    </tr>\n",
       "  </tbody>\n",
       "</table>\n",
       "</div>"
      ],
      "text/plain": [
       "         date                   id  nbre_like  nbre_retweet       screenName  \\\n",
       "0  2021-03-01  1366184519662006274          1             0       yokko_mars   \n",
       "1  2021-03-01  1366299423781892098          2             0       Epcocorico   \n",
       "2  2021-03-01  1366307752096768000          2             0          socarre   \n",
       "3  2021-03-01  1366307752096768000          2             0          socarre   \n",
       "4  2021-03-01  1366307752096768000          2             0          socarre   \n",
       "5  2021-03-01  1366314384935550977          5             0    DICKENSDAVID1   \n",
       "6  2021-03-01  1366338264492310533         29             7    DICKENSDAVID1   \n",
       "7  2021-03-01  1366378376999669761          0             0  sandrine_rachez   \n",
       "8  2021-03-01  1366382071409643528          3             1       luna431168   \n",
       "9  2021-03-01  1366386744745164802          0             1  GARCIAJacqueli2   \n",
       "\n",
       "                                               texte   type  type_vaccin  \\\n",
       "0  @silvano_trotta Au Japon, on refuse le don de ...  tweet       pfizer   \n",
       "1           @France_Dessinee @Pfizer_France Tragique  tweet       pfizer   \n",
       "2  @thierrycogne @dc_morel Vaccinons en pharmacie...  tweet      janssen   \n",
       "3  @thierrycogne @dc_morel Vaccinons en pharmacie...  tweet      moderna   \n",
       "4  @thierrycogne @dc_morel Vaccinons en pharmacie...  tweet       pfizer   \n",
       "5  @PandaPromeneur 2/2 Pour conclure laissez moi ...  tweet  astrazeneca   \n",
       "6  Vous êtes Parisiens, âgés de 50 a 65. et  souf...  tweet  astrazeneca   \n",
       "7  @olivierveran quand le vaccin Pfizer sera-t-il...  tweet       pfizer   \n",
       "8  @Drmartyufml Ne pas passer à côté de la territ...  tweet      janssen   \n",
       "9  Le vaccin de Pfizer serait moins efficace sur ...  tweet       pfizer   \n",
       "\n",
       "             datetime  \n",
       "0 2021-03-01 00:32:26  \n",
       "1 2021-03-01 08:09:01  \n",
       "2 2021-03-01 08:42:07  \n",
       "3 2021-03-01 08:42:07  \n",
       "4 2021-03-01 08:42:07  \n",
       "5 2021-03-01 09:08:28  \n",
       "6 2021-03-01 10:43:22  \n",
       "7 2021-03-01 13:22:45  \n",
       "8 2021-03-01 13:37:26  \n",
       "9 2021-03-01 13:56:00  "
      ]
     },
     "execution_count": 6,
     "metadata": {},
     "output_type": "execute_result"
    }
   ],
   "source": [
    "df_tweets.head(10)"
   ]
  },
  {
   "cell_type": "code",
   "execution_count": 7,
   "id": "11c6867e-0470-410e-bfd8-1f19658194cd",
   "metadata": {},
   "outputs": [
    {
     "data": {
      "text/plain": [
       "(6005, 9)"
      ]
     },
     "execution_count": 7,
     "metadata": {},
     "output_type": "execute_result"
    }
   ],
   "source": [
    "df_tweets.shape"
   ]
  },
  {
   "cell_type": "markdown",
   "id": "074645c7-4c19-47c5-9b03-f0c1c0171733",
   "metadata": {},
   "source": [
    "Ainsi, 6005 tweets ont été requètés via l'API sur la période de 01 mars 2021 au 26 décembre 2021."
   ]
  },
  {
   "cell_type": "markdown",
   "id": "202cff2a-c3d6-431c-8a5e-043e3493c72c",
   "metadata": {
    "tags": []
   },
   "source": [
    "### Nettoyage des données textuelles"
   ]
  },
  {
   "cell_type": "markdown",
   "id": "4fe6d475-97dd-4c58-acc2-1ecf03484909",
   "metadata": {},
   "source": [
    "Les tweets sont des objets \"sales\" et cela rend dificile leur manipulation. Pour la suite, il faudra les nettoyer et la foncttion transforme définie à cet effet sert à supprimer les caractères spéciaux, les émojis, les ponctuations, à tranformer les majuscules en minuscule, etc..."
   ]
  },
  {
   "cell_type": "code",
   "execution_count": 8,
   "id": "a4c8f7cf-9445-4c60-b917-e28b5d1e2b09",
   "metadata": {},
   "outputs": [],
   "source": [
    "def transforme(texte):\n",
    "    texte = texte.lower() # mettre les mots en minuscule\n",
    "    #retirer les liens\n",
    "    for item in re.compile(\"http[s]?://(?:[a-zA-Z]|[0-9]|[$-_@.&+]|[!*\\(\\),]|(?:%[0-9a-fA-F][0-9a-fA-F]))+\").findall(texte):\n",
    "        texte=texte.replace(item, \"\")\n",
    "    # enlever le retour à la ligne\n",
    "    texte = texte.replace(\"\\n\", \" \").replace(\"\\r\", \"\") \n",
    "    # supprimer \",\", \"!\", \"?\", \"%\", \"(\",\")\",\"/\",'\"', \"$\",\"£\", \"_\", \"-\", \"+\", \"*\", \"µ\", \":\",\"&,\"§\" \n",
    "    texte = re.sub(r\"[,\\!\\?\\%\\(\\)\\/\\\"\\$\\£\\-\\+\\*\\µ,\\:\\&\\§]\", \" \", texte) \n",
    "    # retirer les hashtags #\n",
    "    for item in re.compile(\"([#]\\w+)\").findall(texte):\n",
    "        texte=texte.replace(item, \"\")\n",
    "    # retirer les apostrophes '\n",
    "    for item in re.compile(\"([\\’])\").findall(texte):\n",
    "        texte=texte.replace(item, \" \")\n",
    "    for item in re.compile(\"([\\'])\").findall(texte):\n",
    "        texte=texte.replace(item, \" \")\n",
    "    # retirer les points de suspension\n",
    "    for item in re.compile(\"([.]{1,5})\").findall(texte):\n",
    "        texte=texte.replace(item, \"\") \n",
    "    # retirer les personnes tagées\n",
    "    for item in re.compile(\"([@]\\w+)\").findall(texte):\n",
    "        texte=texte.replace(item, \"\")\n",
    "    # retirer les adresses mail\n",
    "    for item in re.findall('\\S+@\\S+', texte) :\n",
    "        texte=texte.replace(item, \"\")\n",
    "    # retire les mots contenant des chiffres\n",
    "    texte = re.sub(r\"[A-Za-z\\.]*[0-9]+[A-Za-z%°\\.]*\", \"\", texte)\n",
    "    # retirer les emojis\n",
    "    for item in demoji.findall(texte):\n",
    "        texte=texte.replace(item,\"\")\n",
    "    return texte"
   ]
  },
  {
   "cell_type": "code",
   "execution_count": 9,
   "id": "ef67bb0e-c6ce-4556-a0f6-4add5a6802c4",
   "metadata": {},
   "outputs": [
    {
     "data": {
      "text/html": [
       "<div>\n",
       "<style scoped>\n",
       "    .dataframe tbody tr th:only-of-type {\n",
       "        vertical-align: middle;\n",
       "    }\n",
       "\n",
       "    .dataframe tbody tr th {\n",
       "        vertical-align: top;\n",
       "    }\n",
       "\n",
       "    .dataframe thead th {\n",
       "        text-align: right;\n",
       "    }\n",
       "</style>\n",
       "<table border=\"1\" class=\"dataframe\">\n",
       "  <thead>\n",
       "    <tr style=\"text-align: right;\">\n",
       "      <th></th>\n",
       "      <th>date</th>\n",
       "      <th>id</th>\n",
       "      <th>nbre_like</th>\n",
       "      <th>nbre_retweet</th>\n",
       "      <th>screenName</th>\n",
       "      <th>texte</th>\n",
       "      <th>type</th>\n",
       "      <th>type_vaccin</th>\n",
       "      <th>datetime</th>\n",
       "      <th>texte_propre</th>\n",
       "    </tr>\n",
       "  </thead>\n",
       "  <tbody>\n",
       "    <tr>\n",
       "      <th>0</th>\n",
       "      <td>2021-03-01</td>\n",
       "      <td>1366184519662006274</td>\n",
       "      <td>1</td>\n",
       "      <td>0</td>\n",
       "      <td>yokko_mars</td>\n",
       "      <td>@silvano_trotta Au Japon, on refuse le don de ...</td>\n",
       "      <td>tweet</td>\n",
       "      <td>pfizer</td>\n",
       "      <td>2021-03-01 00:32:26</td>\n",
       "      <td>au japon  on refuse le don de sang de personn...</td>\n",
       "    </tr>\n",
       "    <tr>\n",
       "      <th>1</th>\n",
       "      <td>2021-03-01</td>\n",
       "      <td>1366299423781892098</td>\n",
       "      <td>2</td>\n",
       "      <td>0</td>\n",
       "      <td>Epcocorico</td>\n",
       "      <td>@France_Dessinee @Pfizer_France Tragique</td>\n",
       "      <td>tweet</td>\n",
       "      <td>pfizer</td>\n",
       "      <td>2021-03-01 08:09:01</td>\n",
       "      <td>tragique</td>\n",
       "    </tr>\n",
       "    <tr>\n",
       "      <th>2</th>\n",
       "      <td>2021-03-01</td>\n",
       "      <td>1366307752096768000</td>\n",
       "      <td>2</td>\n",
       "      <td>0</td>\n",
       "      <td>socarre</td>\n",
       "      <td>@thierrycogne @dc_morel Vaccinons en pharmacie...</td>\n",
       "      <td>tweet</td>\n",
       "      <td>janssen</td>\n",
       "      <td>2021-03-01 08:42:07</td>\n",
       "      <td>vaccinons en pharmacie et chez les médecins ...</td>\n",
       "    </tr>\n",
       "    <tr>\n",
       "      <th>3</th>\n",
       "      <td>2021-03-01</td>\n",
       "      <td>1366307752096768000</td>\n",
       "      <td>2</td>\n",
       "      <td>0</td>\n",
       "      <td>socarre</td>\n",
       "      <td>@thierrycogne @dc_morel Vaccinons en pharmacie...</td>\n",
       "      <td>tweet</td>\n",
       "      <td>moderna</td>\n",
       "      <td>2021-03-01 08:42:07</td>\n",
       "      <td>vaccinons en pharmacie et chez les médecins ...</td>\n",
       "    </tr>\n",
       "    <tr>\n",
       "      <th>4</th>\n",
       "      <td>2021-03-01</td>\n",
       "      <td>1366307752096768000</td>\n",
       "      <td>2</td>\n",
       "      <td>0</td>\n",
       "      <td>socarre</td>\n",
       "      <td>@thierrycogne @dc_morel Vaccinons en pharmacie...</td>\n",
       "      <td>tweet</td>\n",
       "      <td>pfizer</td>\n",
       "      <td>2021-03-01 08:42:07</td>\n",
       "      <td>vaccinons en pharmacie et chez les médecins ...</td>\n",
       "    </tr>\n",
       "  </tbody>\n",
       "</table>\n",
       "</div>"
      ],
      "text/plain": [
       "         date                   id  nbre_like  nbre_retweet  screenName  \\\n",
       "0  2021-03-01  1366184519662006274          1             0  yokko_mars   \n",
       "1  2021-03-01  1366299423781892098          2             0  Epcocorico   \n",
       "2  2021-03-01  1366307752096768000          2             0     socarre   \n",
       "3  2021-03-01  1366307752096768000          2             0     socarre   \n",
       "4  2021-03-01  1366307752096768000          2             0     socarre   \n",
       "\n",
       "                                               texte   type type_vaccin  \\\n",
       "0  @silvano_trotta Au Japon, on refuse le don de ...  tweet      pfizer   \n",
       "1           @France_Dessinee @Pfizer_France Tragique  tweet      pfizer   \n",
       "2  @thierrycogne @dc_morel Vaccinons en pharmacie...  tweet     janssen   \n",
       "3  @thierrycogne @dc_morel Vaccinons en pharmacie...  tweet     moderna   \n",
       "4  @thierrycogne @dc_morel Vaccinons en pharmacie...  tweet      pfizer   \n",
       "\n",
       "             datetime                                       texte_propre  \n",
       "0 2021-03-01 00:32:26   au japon  on refuse le don de sang de personn...  \n",
       "1 2021-03-01 08:09:01                                           tragique  \n",
       "2 2021-03-01 08:42:07    vaccinons en pharmacie et chez les médecins ...  \n",
       "3 2021-03-01 08:42:07    vaccinons en pharmacie et chez les médecins ...  \n",
       "4 2021-03-01 08:42:07    vaccinons en pharmacie et chez les médecins ...  "
      ]
     },
     "execution_count": 9,
     "metadata": {},
     "output_type": "execute_result"
    }
   ],
   "source": [
    "df_tweets[\"texte_propre\"] = df_tweets[\"texte\"].apply(lambda x: transforme(x))\n",
    "df_tweets.head()"
   ]
  },
  {
   "cell_type": "code",
   "execution_count": 10,
   "id": "8f908d81-6897-443d-845f-86c92a79281d",
   "metadata": {},
   "outputs": [],
   "source": [
    "# Pour enlever les stopwords\n",
    "stop_words = set(stopwords.words('french'))"
   ]
  },
  {
   "cell_type": "markdown",
   "id": "98bca82d-6bf7-4908-af4e-8ceb5da85848",
   "metadata": {},
   "source": [
    "### Calcul du sentiment d'un tweet à partir de la polarité de Textblob"
   ]
  },
  {
   "cell_type": "code",
   "execution_count": 11,
   "id": "441c41d0-2ae6-4e6d-859a-16255049188f",
   "metadata": {},
   "outputs": [],
   "source": [
    "tb = Blobber(pos_tagger=PatternTagger(), analyzer=PatternAnalyzer())"
   ]
  },
  {
   "cell_type": "code",
   "execution_count": 12,
   "id": "ad0ce3c1-66ab-4157-a9b9-cd83b73b8fe0",
   "metadata": {},
   "outputs": [],
   "source": [
    "def tweet_polarite(text):\n",
    "    return tb(text).sentiment[0]"
   ]
  },
  {
   "cell_type": "code",
   "execution_count": 13,
   "id": "0bddbcfa-8887-42b8-9d20-78fde9d89a8b",
   "metadata": {},
   "outputs": [],
   "source": [
    "def tweet_label_car(text):\n",
    "    if tweet_polarite(text) > 0 :\n",
    "        return \"positif\"\n",
    "    if tweet_polarite(text) < 0 :\n",
    "        return \"negatif\"\n",
    "    return \"neutre\""
   ]
  },
  {
   "cell_type": "code",
   "execution_count": 14,
   "id": "e0bf4b12-5630-4f02-a4ab-7da5e372ab34",
   "metadata": {},
   "outputs": [],
   "source": [
    "def tweet_label(text):\n",
    "    if tweet_polarite(text) > 0 :\n",
    "        return 1\n",
    "    if tweet_polarite(text) < 0 :\n",
    "        return -1\n",
    "    return 0"
   ]
  },
  {
   "cell_type": "code",
   "execution_count": 15,
   "id": "cea5b79c-2a13-4573-881d-f36364a6f7d3",
   "metadata": {},
   "outputs": [],
   "source": [
    "df_tweets[\"score_polarite\"] = df_tweets[\"texte_propre\"].apply(tweet_polarite)\n",
    "df_tweets[\"label_car\"] = df_tweets[\"texte_propre\"].apply(tweet_label_car)\n",
    "df_tweets[\"label\"] = df_tweets[\"texte_propre\"].apply(tweet_label)"
   ]
  },
  {
   "cell_type": "code",
   "execution_count": 16,
   "id": "ee13e73d-0cb0-445f-b256-2e94eb43c448",
   "metadata": {},
   "outputs": [
    {
     "data": {
      "text/html": [
       "<div>\n",
       "<style scoped>\n",
       "    .dataframe tbody tr th:only-of-type {\n",
       "        vertical-align: middle;\n",
       "    }\n",
       "\n",
       "    .dataframe tbody tr th {\n",
       "        vertical-align: top;\n",
       "    }\n",
       "\n",
       "    .dataframe thead th {\n",
       "        text-align: right;\n",
       "    }\n",
       "</style>\n",
       "<table border=\"1\" class=\"dataframe\">\n",
       "  <thead>\n",
       "    <tr style=\"text-align: right;\">\n",
       "      <th></th>\n",
       "      <th>date</th>\n",
       "      <th>id</th>\n",
       "      <th>nbre_like</th>\n",
       "      <th>nbre_retweet</th>\n",
       "      <th>screenName</th>\n",
       "      <th>texte</th>\n",
       "      <th>type</th>\n",
       "      <th>type_vaccin</th>\n",
       "      <th>datetime</th>\n",
       "      <th>texte_propre</th>\n",
       "      <th>score_polarite</th>\n",
       "      <th>label_car</th>\n",
       "      <th>label</th>\n",
       "    </tr>\n",
       "  </thead>\n",
       "  <tbody>\n",
       "    <tr>\n",
       "      <th>0</th>\n",
       "      <td>2021-03-01</td>\n",
       "      <td>1366184519662006274</td>\n",
       "      <td>1</td>\n",
       "      <td>0</td>\n",
       "      <td>yokko_mars</td>\n",
       "      <td>@silvano_trotta Au Japon, on refuse le don de ...</td>\n",
       "      <td>tweet</td>\n",
       "      <td>pfizer</td>\n",
       "      <td>2021-03-01 00:32:26</td>\n",
       "      <td>au japon  on refuse le don de sang de personn...</td>\n",
       "      <td>0.00</td>\n",
       "      <td>neutre</td>\n",
       "      <td>0</td>\n",
       "    </tr>\n",
       "    <tr>\n",
       "      <th>1</th>\n",
       "      <td>2021-03-01</td>\n",
       "      <td>1366299423781892098</td>\n",
       "      <td>2</td>\n",
       "      <td>0</td>\n",
       "      <td>Epcocorico</td>\n",
       "      <td>@France_Dessinee @Pfizer_France Tragique</td>\n",
       "      <td>tweet</td>\n",
       "      <td>pfizer</td>\n",
       "      <td>2021-03-01 08:09:01</td>\n",
       "      <td>tragique</td>\n",
       "      <td>-0.40</td>\n",
       "      <td>negatif</td>\n",
       "      <td>-1</td>\n",
       "    </tr>\n",
       "    <tr>\n",
       "      <th>2</th>\n",
       "      <td>2021-03-01</td>\n",
       "      <td>1366307752096768000</td>\n",
       "      <td>2</td>\n",
       "      <td>0</td>\n",
       "      <td>socarre</td>\n",
       "      <td>@thierrycogne @dc_morel Vaccinons en pharmacie...</td>\n",
       "      <td>tweet</td>\n",
       "      <td>janssen</td>\n",
       "      <td>2021-03-01 08:42:07</td>\n",
       "      <td>vaccinons en pharmacie et chez les médecins ...</td>\n",
       "      <td>0.15</td>\n",
       "      <td>positif</td>\n",
       "      <td>1</td>\n",
       "    </tr>\n",
       "    <tr>\n",
       "      <th>3</th>\n",
       "      <td>2021-03-01</td>\n",
       "      <td>1366307752096768000</td>\n",
       "      <td>2</td>\n",
       "      <td>0</td>\n",
       "      <td>socarre</td>\n",
       "      <td>@thierrycogne @dc_morel Vaccinons en pharmacie...</td>\n",
       "      <td>tweet</td>\n",
       "      <td>moderna</td>\n",
       "      <td>2021-03-01 08:42:07</td>\n",
       "      <td>vaccinons en pharmacie et chez les médecins ...</td>\n",
       "      <td>0.15</td>\n",
       "      <td>positif</td>\n",
       "      <td>1</td>\n",
       "    </tr>\n",
       "    <tr>\n",
       "      <th>4</th>\n",
       "      <td>2021-03-01</td>\n",
       "      <td>1366307752096768000</td>\n",
       "      <td>2</td>\n",
       "      <td>0</td>\n",
       "      <td>socarre</td>\n",
       "      <td>@thierrycogne @dc_morel Vaccinons en pharmacie...</td>\n",
       "      <td>tweet</td>\n",
       "      <td>pfizer</td>\n",
       "      <td>2021-03-01 08:42:07</td>\n",
       "      <td>vaccinons en pharmacie et chez les médecins ...</td>\n",
       "      <td>0.15</td>\n",
       "      <td>positif</td>\n",
       "      <td>1</td>\n",
       "    </tr>\n",
       "  </tbody>\n",
       "</table>\n",
       "</div>"
      ],
      "text/plain": [
       "         date                   id  nbre_like  nbre_retweet  screenName  \\\n",
       "0  2021-03-01  1366184519662006274          1             0  yokko_mars   \n",
       "1  2021-03-01  1366299423781892098          2             0  Epcocorico   \n",
       "2  2021-03-01  1366307752096768000          2             0     socarre   \n",
       "3  2021-03-01  1366307752096768000          2             0     socarre   \n",
       "4  2021-03-01  1366307752096768000          2             0     socarre   \n",
       "\n",
       "                                               texte   type type_vaccin  \\\n",
       "0  @silvano_trotta Au Japon, on refuse le don de ...  tweet      pfizer   \n",
       "1           @France_Dessinee @Pfizer_France Tragique  tweet      pfizer   \n",
       "2  @thierrycogne @dc_morel Vaccinons en pharmacie...  tweet     janssen   \n",
       "3  @thierrycogne @dc_morel Vaccinons en pharmacie...  tweet     moderna   \n",
       "4  @thierrycogne @dc_morel Vaccinons en pharmacie...  tweet      pfizer   \n",
       "\n",
       "             datetime                                       texte_propre  \\\n",
       "0 2021-03-01 00:32:26   au japon  on refuse le don de sang de personn...   \n",
       "1 2021-03-01 08:09:01                                           tragique   \n",
       "2 2021-03-01 08:42:07    vaccinons en pharmacie et chez les médecins ...   \n",
       "3 2021-03-01 08:42:07    vaccinons en pharmacie et chez les médecins ...   \n",
       "4 2021-03-01 08:42:07    vaccinons en pharmacie et chez les médecins ...   \n",
       "\n",
       "   score_polarite label_car  label  \n",
       "0            0.00    neutre      0  \n",
       "1           -0.40   negatif     -1  \n",
       "2            0.15   positif      1  \n",
       "3            0.15   positif      1  \n",
       "4            0.15   positif      1  "
      ]
     },
     "execution_count": 16,
     "metadata": {},
     "output_type": "execute_result"
    }
   ],
   "source": [
    "df_tweets.head()"
   ]
  },
  {
   "cell_type": "markdown",
   "id": "44f202d7-b0b4-4f9c-974c-8610eb63c06b",
   "metadata": {},
   "source": [
    "### Création des métadonnées"
   ]
  },
  {
   "cell_type": "code",
   "execution_count": 17,
   "id": "a4694a6a-1337-4fa9-9795-d99e31b6b547",
   "metadata": {},
   "outputs": [],
   "source": [
    "# Création des 'dummy\" variables\n",
    "dummy_df = pd.get_dummies(df_tweets.type_vaccin, prefix=\"vaccin\", prefix_sep='_', drop_first=False)\n",
    "df_tweets[dummy_df.columns] = dummy_df"
   ]
  },
  {
   "cell_type": "code",
   "execution_count": 18,
   "id": "66d48e8b-39ac-40ed-b254-7353236ad262",
   "metadata": {},
   "outputs": [],
   "source": [
    "def decompte_hashtags(text):\n",
    "    exp_match = re.compile(\"([#]\\w+)\")\n",
    "    res = exp_match.findall(text)\n",
    "    return len(res)\n",
    "\n",
    "df_tweets[\"nbre_hashtags\"] = df_tweets[\"texte\"].apply(lambda x : decompte_hashtags(x))"
   ]
  },
  {
   "cell_type": "code",
   "execution_count": 19,
   "id": "f5ffeaa4-4eca-4d8b-ba14-82feb22086ff",
   "metadata": {},
   "outputs": [],
   "source": [
    "def decompte_tags(text):\n",
    "    exp_match = re.compile(\"([@]\\w+)\")\n",
    "    res = exp_match.findall(text)\n",
    "    return len(res)\n",
    "\n",
    "df_tweets[\"nbre_tags\"] = df_tweets[\"texte\"].apply(lambda x : decompte_tags(x))"
   ]
  },
  {
   "cell_type": "code",
   "execution_count": 20,
   "id": "32ea79b0-40c4-4db3-bbdb-64bb05a7af61",
   "metadata": {},
   "outputs": [],
   "source": [
    "def decompte_exclamation(text):\n",
    "    exp_match = re.compile(\"(\\w?\\s?[!])\")\n",
    "    res = exp_match.findall(text)\n",
    "    return len(res)\n",
    "\n",
    "df_tweets[\"nbre_exclamation\"] = df_tweets[\"texte\"].apply(lambda x : decompte_exclamation(x))"
   ]
  },
  {
   "cell_type": "code",
   "execution_count": 21,
   "id": "101ed43d-bded-4bfc-9b91-efefcf26739a",
   "metadata": {},
   "outputs": [],
   "source": [
    "def decompte_mails(text):\n",
    "    exp_match = re.compile(\"(\\w+[@]\\w+[.]\\w+)\")\n",
    "    res = exp_match.findall(text)\n",
    "    return len(res)\n",
    "\n",
    "df_tweets[\"nbre_mails\"] = df_tweets[\"texte\"].apply(lambda x : decompte_mails(x))"
   ]
  },
  {
   "cell_type": "code",
   "execution_count": 22,
   "id": "10d61d99-c530-4deb-941b-600c66233334",
   "metadata": {},
   "outputs": [],
   "source": [
    "def decompte_interrogation(text):\n",
    "    exp_match = re.compile(\"(\\w?\\s?[?])\")\n",
    "    res = exp_match.findall(text)\n",
    "    return len(res)\n",
    "\n",
    "df_tweets[\"nbre_interrogation\"] = df_tweets[\"texte\"].apply(lambda x : decompte_interrogation(x))"
   ]
  },
  {
   "cell_type": "code",
   "execution_count": 23,
   "id": "d17d771e-b315-4965-822a-02ec2d5cc813",
   "metadata": {},
   "outputs": [],
   "source": [
    "def decompte_mot_maj(text):\n",
    "    exp_match = re.compile(\"([A-Z][A-Z]+)\")\n",
    "    res = exp_match.findall(text)\n",
    "    return len(res)\n",
    "\n",
    "df_tweets[\"nbre_maj\"] = df_tweets[\"texte\"].apply(lambda x : decompte_mot_maj(x))"
   ]
  },
  {
   "cell_type": "code",
   "execution_count": 24,
   "id": "0bd2f45f-b051-4a44-9387-2c788493ce48",
   "metadata": {},
   "outputs": [
    {
     "data": {
      "text/html": [
       "<div>\n",
       "<style scoped>\n",
       "    .dataframe tbody tr th:only-of-type {\n",
       "        vertical-align: middle;\n",
       "    }\n",
       "\n",
       "    .dataframe tbody tr th {\n",
       "        vertical-align: top;\n",
       "    }\n",
       "\n",
       "    .dataframe thead th {\n",
       "        text-align: right;\n",
       "    }\n",
       "</style>\n",
       "<table border=\"1\" class=\"dataframe\">\n",
       "  <thead>\n",
       "    <tr style=\"text-align: right;\">\n",
       "      <th></th>\n",
       "      <th>date</th>\n",
       "      <th>id</th>\n",
       "      <th>nbre_like</th>\n",
       "      <th>nbre_retweet</th>\n",
       "      <th>screenName</th>\n",
       "      <th>texte</th>\n",
       "      <th>type</th>\n",
       "      <th>type_vaccin</th>\n",
       "      <th>datetime</th>\n",
       "      <th>texte_propre</th>\n",
       "      <th>...</th>\n",
       "      <th>vaccin_astrazeneca</th>\n",
       "      <th>vaccin_janssen</th>\n",
       "      <th>vaccin_moderna</th>\n",
       "      <th>vaccin_pfizer</th>\n",
       "      <th>nbre_hashtags</th>\n",
       "      <th>nbre_tags</th>\n",
       "      <th>nbre_exclamation</th>\n",
       "      <th>nbre_mails</th>\n",
       "      <th>nbre_interrogation</th>\n",
       "      <th>nbre_maj</th>\n",
       "    </tr>\n",
       "  </thead>\n",
       "  <tbody>\n",
       "    <tr>\n",
       "      <th>0</th>\n",
       "      <td>2021-03-01</td>\n",
       "      <td>1366184519662006274</td>\n",
       "      <td>1</td>\n",
       "      <td>0</td>\n",
       "      <td>yokko_mars</td>\n",
       "      <td>@silvano_trotta Au Japon, on refuse le don de ...</td>\n",
       "      <td>tweet</td>\n",
       "      <td>pfizer</td>\n",
       "      <td>2021-03-01 00:32:26</td>\n",
       "      <td>au japon  on refuse le don de sang de personn...</td>\n",
       "      <td>...</td>\n",
       "      <td>0</td>\n",
       "      <td>0</td>\n",
       "      <td>0</td>\n",
       "      <td>1</td>\n",
       "      <td>1</td>\n",
       "      <td>1</td>\n",
       "      <td>0</td>\n",
       "      <td>0</td>\n",
       "      <td>1</td>\n",
       "      <td>2</td>\n",
       "    </tr>\n",
       "    <tr>\n",
       "      <th>1</th>\n",
       "      <td>2021-03-01</td>\n",
       "      <td>1366299423781892098</td>\n",
       "      <td>2</td>\n",
       "      <td>0</td>\n",
       "      <td>Epcocorico</td>\n",
       "      <td>@France_Dessinee @Pfizer_France Tragique</td>\n",
       "      <td>tweet</td>\n",
       "      <td>pfizer</td>\n",
       "      <td>2021-03-01 08:09:01</td>\n",
       "      <td>tragique</td>\n",
       "      <td>...</td>\n",
       "      <td>0</td>\n",
       "      <td>0</td>\n",
       "      <td>0</td>\n",
       "      <td>1</td>\n",
       "      <td>0</td>\n",
       "      <td>2</td>\n",
       "      <td>0</td>\n",
       "      <td>0</td>\n",
       "      <td>0</td>\n",
       "      <td>0</td>\n",
       "    </tr>\n",
       "    <tr>\n",
       "      <th>2</th>\n",
       "      <td>2021-03-01</td>\n",
       "      <td>1366307752096768000</td>\n",
       "      <td>2</td>\n",
       "      <td>0</td>\n",
       "      <td>socarre</td>\n",
       "      <td>@thierrycogne @dc_morel Vaccinons en pharmacie...</td>\n",
       "      <td>tweet</td>\n",
       "      <td>janssen</td>\n",
       "      <td>2021-03-01 08:42:07</td>\n",
       "      <td>vaccinons en pharmacie et chez les médecins ...</td>\n",
       "      <td>...</td>\n",
       "      <td>0</td>\n",
       "      <td>1</td>\n",
       "      <td>0</td>\n",
       "      <td>0</td>\n",
       "      <td>0</td>\n",
       "      <td>2</td>\n",
       "      <td>0</td>\n",
       "      <td>0</td>\n",
       "      <td>0</td>\n",
       "      <td>1</td>\n",
       "    </tr>\n",
       "    <tr>\n",
       "      <th>3</th>\n",
       "      <td>2021-03-01</td>\n",
       "      <td>1366307752096768000</td>\n",
       "      <td>2</td>\n",
       "      <td>0</td>\n",
       "      <td>socarre</td>\n",
       "      <td>@thierrycogne @dc_morel Vaccinons en pharmacie...</td>\n",
       "      <td>tweet</td>\n",
       "      <td>moderna</td>\n",
       "      <td>2021-03-01 08:42:07</td>\n",
       "      <td>vaccinons en pharmacie et chez les médecins ...</td>\n",
       "      <td>...</td>\n",
       "      <td>0</td>\n",
       "      <td>0</td>\n",
       "      <td>1</td>\n",
       "      <td>0</td>\n",
       "      <td>0</td>\n",
       "      <td>2</td>\n",
       "      <td>0</td>\n",
       "      <td>0</td>\n",
       "      <td>0</td>\n",
       "      <td>1</td>\n",
       "    </tr>\n",
       "    <tr>\n",
       "      <th>4</th>\n",
       "      <td>2021-03-01</td>\n",
       "      <td>1366307752096768000</td>\n",
       "      <td>2</td>\n",
       "      <td>0</td>\n",
       "      <td>socarre</td>\n",
       "      <td>@thierrycogne @dc_morel Vaccinons en pharmacie...</td>\n",
       "      <td>tweet</td>\n",
       "      <td>pfizer</td>\n",
       "      <td>2021-03-01 08:42:07</td>\n",
       "      <td>vaccinons en pharmacie et chez les médecins ...</td>\n",
       "      <td>...</td>\n",
       "      <td>0</td>\n",
       "      <td>0</td>\n",
       "      <td>0</td>\n",
       "      <td>1</td>\n",
       "      <td>0</td>\n",
       "      <td>2</td>\n",
       "      <td>0</td>\n",
       "      <td>0</td>\n",
       "      <td>0</td>\n",
       "      <td>1</td>\n",
       "    </tr>\n",
       "  </tbody>\n",
       "</table>\n",
       "<p>5 rows × 23 columns</p>\n",
       "</div>"
      ],
      "text/plain": [
       "         date                   id  nbre_like  nbre_retweet  screenName  \\\n",
       "0  2021-03-01  1366184519662006274          1             0  yokko_mars   \n",
       "1  2021-03-01  1366299423781892098          2             0  Epcocorico   \n",
       "2  2021-03-01  1366307752096768000          2             0     socarre   \n",
       "3  2021-03-01  1366307752096768000          2             0     socarre   \n",
       "4  2021-03-01  1366307752096768000          2             0     socarre   \n",
       "\n",
       "                                               texte   type type_vaccin  \\\n",
       "0  @silvano_trotta Au Japon, on refuse le don de ...  tweet      pfizer   \n",
       "1           @France_Dessinee @Pfizer_France Tragique  tweet      pfizer   \n",
       "2  @thierrycogne @dc_morel Vaccinons en pharmacie...  tweet     janssen   \n",
       "3  @thierrycogne @dc_morel Vaccinons en pharmacie...  tweet     moderna   \n",
       "4  @thierrycogne @dc_morel Vaccinons en pharmacie...  tweet      pfizer   \n",
       "\n",
       "             datetime                                       texte_propre  ...  \\\n",
       "0 2021-03-01 00:32:26   au japon  on refuse le don de sang de personn...  ...   \n",
       "1 2021-03-01 08:09:01                                           tragique  ...   \n",
       "2 2021-03-01 08:42:07    vaccinons en pharmacie et chez les médecins ...  ...   \n",
       "3 2021-03-01 08:42:07    vaccinons en pharmacie et chez les médecins ...  ...   \n",
       "4 2021-03-01 08:42:07    vaccinons en pharmacie et chez les médecins ...  ...   \n",
       "\n",
       "   vaccin_astrazeneca vaccin_janssen  vaccin_moderna  vaccin_pfizer  \\\n",
       "0                   0              0               0              1   \n",
       "1                   0              0               0              1   \n",
       "2                   0              1               0              0   \n",
       "3                   0              0               1              0   \n",
       "4                   0              0               0              1   \n",
       "\n",
       "   nbre_hashtags  nbre_tags  nbre_exclamation  nbre_mails  nbre_interrogation  \\\n",
       "0              1          1                 0           0                   1   \n",
       "1              0          2                 0           0                   0   \n",
       "2              0          2                 0           0                   0   \n",
       "3              0          2                 0           0                   0   \n",
       "4              0          2                 0           0                   0   \n",
       "\n",
       "   nbre_maj  \n",
       "0         2  \n",
       "1         0  \n",
       "2         1  \n",
       "3         1  \n",
       "4         1  \n",
       "\n",
       "[5 rows x 23 columns]"
      ]
     },
     "execution_count": 24,
     "metadata": {},
     "output_type": "execute_result"
    }
   ],
   "source": [
    "df_tweets.head()"
   ]
  },
  {
   "cell_type": "code",
   "execution_count": 25,
   "id": "b97e567d-6ad2-49b5-8716-0ca3a65f54b1",
   "metadata": {},
   "outputs": [
    {
     "data": {
      "text/plain": [
       "(6005, 23)"
      ]
     },
     "execution_count": 25,
     "metadata": {},
     "output_type": "execute_result"
    }
   ],
   "source": [
    "df_tweets.shape"
   ]
  },
  {
   "cell_type": "code",
   "execution_count": 26,
   "id": "afc0fbf4-8c5c-4338-986c-580177ad8ba4",
   "metadata": {},
   "outputs": [],
   "source": [
    "# df_tweets.dtypes"
   ]
  },
  {
   "cell_type": "markdown",
   "id": "33740cce-0a72-43bd-a27b-60efce69a718",
   "metadata": {},
   "source": [
    "Ainsi, 6005 tweets ont pu être requetés et 21 variables construites."
   ]
  },
  {
   "cell_type": "markdown",
   "id": "bd9d8399-7be5-441d-ae22-f32efda3d53d",
   "metadata": {
    "jp-MarkdownHeadingCollapsed": true,
    "tags": []
   },
   "source": [
    "# Analyse de données exploratoire"
   ]
  },
  {
   "cell_type": "markdown",
   "id": "f3a11a8a-dde3-47b0-824a-b3651d306d66",
   "metadata": {},
   "source": [
    "### Stats descriptives"
   ]
  },
  {
   "cell_type": "code",
   "execution_count": null,
   "id": "f4f11cc6-f279-4e38-8b38-0059c46275ae",
   "metadata": {},
   "outputs": [],
   "source": [
    "df_tweets.groupby(\"type_vaccin\")[\"id\"].count()"
   ]
  },
  {
   "cell_type": "code",
   "execution_count": null,
   "id": "c44d34a3-3515-4f61-aac8-e5e7f3087625",
   "metadata": {},
   "outputs": [],
   "source": []
  },
  {
   "cell_type": "markdown",
   "id": "ab6bface-0a6c-4419-ad3a-84dfcc4aec80",
   "metadata": {},
   "source": [
    "### Analyse temporelle"
   ]
  },
  {
   "cell_type": "markdown",
   "id": "782deaed-5c61-4287-9e60-c3e58893f708",
   "metadata": {},
   "source": [
    "Dans cette partie, nous verrons si nous pouvons explorer des tendances par rapport au temps.   \n",
    "Premièrement, il est utile de visualiser la distribution temporelle de tous les tweets dans l'ensemble de données."
   ]
  },
  {
   "cell_type": "code",
   "execution_count": null,
   "id": "4bcdb83c-2364-43ed-ab09-ebbe8e1b6eeb",
   "metadata": {},
   "outputs": [],
   "source": [
    "plt.figure(figsize=(30, 8))\n",
    "sns.set_style('darkgrid')\n",
    "sns.histplot(df_tweets, x=\"date\")\n",
    "plt.title(\"Fréquence des tweets par rapport au temps\")"
   ]
  },
  {
   "cell_type": "markdown",
   "id": "4656e21b-e2ce-4b9d-ad80-dc275e727941",
   "metadata": {},
   "source": []
  },
  {
   "cell_type": "code",
   "execution_count": null,
   "id": "e435a224-7221-4bec-8893-4f0ed70eb680",
   "metadata": {},
   "outputs": [],
   "source": [
    "df_tweets.groupby(\"label_car\")[\"id\"].count()"
   ]
  },
  {
   "cell_type": "code",
   "execution_count": null,
   "id": "6650a7e1-7881-4751-adc1-6d5c039db13a",
   "metadata": {},
   "outputs": [],
   "source": [
    "plt.figure(figsize=(5, 5))\n",
    "sns.set_style('darkgrid')\n",
    "sns.histplot(df_tweets, x=\"label_car\",  shrink=0.7)\n",
    "plt.title(\"Répartition des tweets par label de sentiment\")"
   ]
  },
  {
   "cell_type": "markdown",
   "id": "1da44eda-e945-4760-b7ff-ee98b41f3eb5",
   "metadata": {},
   "source": [
    "Parmi tous les tweets, environ la moitié ont été désignés par TextBlob comme positifs en termes de sentiment (polarité = > 1), l'autre moitié étant constituée de 1203 tweets négatifs (polarité < 0,0) et de 1495 tweets neutres (polarité = 0)."
   ]
  },
  {
   "cell_type": "code",
   "execution_count": null,
   "id": "dfc82334-f229-4d87-8759-dd6886c91f80",
   "metadata": {},
   "outputs": [],
   "source": [
    "df_date = df_tweets.groupby(['date']).agg(np.nanmean).reset_index()\n",
    "df_date['nbre_tweet'] = df_tweets.groupby(['date']).count().reset_index()['id']\n",
    "df_date = df_date[['date', 'nbre_tweet', 'score_polarite', 'nbre_like']]\n",
    "df_date[\"score_polarite\"] = df_date[\"score_polarite\"].astype(float)\n",
    "# df_date['nbre_tweet']"
   ]
  },
  {
   "cell_type": "code",
   "execution_count": null,
   "id": "78fa9537-2621-433e-b261-cd21acc678a3",
   "metadata": {},
   "outputs": [],
   "source": [
    "plt.figure(figsize=(30, 8))\n",
    "plot = plt.scatter(df_date.index, df_date['nbre_tweet'], c=df_date['score_polarite'], cmap='coolwarm')\n",
    "plt.clf()\n",
    "plt.colorbar(plot)\n",
    "# sns.color_palette(\"coolwarm\", as_cmap=True)\n",
    "# palette.reverse()\n",
    "ax = sns.barplot(x=df_date.index, y=df_date['nbre_tweet'], hue=df_date['score_polarite'], palette='coolwarm', dodge=False)\n",
    "# plt.xticks([df_date[\"date\"][n] for n in np.arange(0, len(list(df_date[\"score_polarite\"]))+1, 30)])\n",
    "ax.xaxis.set_major_locator(matplotlib.ticker.MaxNLocator(prune='both', nbins=11))\n",
    "ax.set(xlabel=\"Date\",\n",
    "       ylabel=\"nombre_tweets\",\n",
    "       title=\"Score de polarité moyen pour les tweets agrégés par date\")\n",
    "ax.legend_.remove()"
   ]
  },
  {
   "cell_type": "code",
   "execution_count": null,
   "id": "d838e651-8ded-4f4e-a8cf-0b4a70ed5de7",
   "metadata": {},
   "outputs": [],
   "source": [
    "help(matplotlib.pyplot)"
   ]
  },
  {
   "cell_type": "markdown",
   "id": "0e525322-c54b-4c93-ab91-d799974ab864",
   "metadata": {},
   "source": [
    "### Visualisation avec WordCloud"
   ]
  },
  {
   "cell_type": "markdown",
   "id": "bda72fb3-6b42-4477-81d6-e6051544928b",
   "metadata": {},
   "source": [
    "On se propose ici de visualiser les wordcloud selon le sentiment et selon le vaccin."
   ]
  },
  {
   "cell_type": "code",
   "execution_count": null,
   "id": "2f263859-b624-48c2-93fb-9ef2053e928d",
   "metadata": {},
   "outputs": [],
   "source": [
    "def plot_wordcloud_label(label) :\n",
    "    df_cloud = df_tweets[df_tweets['label']==label] \n",
    "    # join tweets to a single string\n",
    "    words = ' '.join(df_cloud['texte_propre'])\n",
    "\n",
    "    wordcloud = WordCloud(stopwords=stop_words,\n",
    "                          background_color='white',\n",
    "                          width=2000,\n",
    "                          height=1500, max_words=100\n",
    "                         ).generate(words)\n",
    "\n",
    "    plt.figure(1,figsize=(10, 10))\n",
    "    plt.imshow(wordcloud)\n",
    "    plt.axis('off')\n",
    "    plt.show()"
   ]
  },
  {
   "cell_type": "code",
   "execution_count": null,
   "id": "82539d61-8062-4636-b182-be9d4e8f6add",
   "metadata": {},
   "outputs": [],
   "source": [
    "def plot_wordcloud_vaccin(vaccin) :\n",
    "    df_cloud = df_tweets[df_tweets['type_vaccin']==vaccin] \n",
    "    # join tweets to a single string\n",
    "    words = ' '.join(df_cloud['texte_propre'])\n",
    "\n",
    "    wordcloud = WordCloud(stopwords=stop_words,\n",
    "                          background_color='white',\n",
    "                          width=2000,\n",
    "                          height=1500, max_words=100\n",
    "                         ).generate(words)\n",
    "\n",
    "    plt.figure(1,figsize=(10, 10))\n",
    "    plt.imshow(wordcloud)\n",
    "    plt.axis('off')\n",
    "    plt.show()"
   ]
  },
  {
   "cell_type": "code",
   "execution_count": null,
   "id": "ff03e54a-0515-4443-ad98-a2a748c3e6a1",
   "metadata": {},
   "outputs": [],
   "source": [
    "plot_wordcloud_vaccin(\""
   ]
  },
  {
   "cell_type": "markdown",
   "id": "6404cdec-bb36-40fe-958f-4e194587bc41",
   "metadata": {
    "tags": []
   },
   "source": [
    "# Modélisation"
   ]
  },
  {
   "cell_type": "markdown",
   "id": "ef582482-6062-483a-962e-130f06c69d99",
   "metadata": {},
   "source": [
    "Cette section concerne la modélisation où une analyse en composante principale et un modèle d'apprentissage supervisé seront implémentés. "
   ]
  },
  {
   "cell_type": "markdown",
   "id": "450cdd75-b6f1-406c-b086-23f5763a3812",
   "metadata": {},
   "source": [
    "### Analyse en composante principale ACP"
   ]
  },
  {
   "cell_type": "code",
   "execution_count": null,
   "id": "9936293e-2e53-48a4-8e0b-acdeea703d06",
   "metadata": {},
   "outputs": [],
   "source": [
    "# instanciation\n",
    "sc = StandardScaler()\n",
    "#transformation – centrage-réduction\n",
    "Z = sc.fit_transform(X)\n",
    "print(Z)"
   ]
  },
  {
   "cell_type": "markdown",
   "id": "2949bc20-d341-4e90-bac9-bce3d9b25ad2",
   "metadata": {},
   "source": [
    "### Régression logistique"
   ]
  },
  {
   "cell_type": "code",
   "execution_count": null,
   "id": "324ebf48-22f4-4b3a-a8cc-3061a5db6162",
   "metadata": {},
   "outputs": [],
   "source": [
    "dataframe = df_tweets[['texte', 'type_vaccin', 'nbre_like', 'nbre_retweet', 'score', 'nbre_hashtags', 'nbre_tags', 'nbre_mails', 'nbre_exclamation', 'nbre_interrogation', 'nbre_maj', 'label']]\n",
    "X_train, X_test, y_train, y_test = train_test_split(dataframe.drop(['texte','label'], axis=1), df_tweets.label, test_size=0.2, random_state=12344)\n",
    "logreg = LogisticRegression(max_iter=1000)\n",
    "logreg.fit(X_train, y_train)\n",
    "logreg.score(X_test, y_test)"
   ]
  }
 ],
 "metadata": {
  "kernelspec": {
   "display_name": "Python 3 (ipykernel)",
   "language": "python",
   "name": "python3"
  },
  "language_info": {
   "codemirror_mode": {
    "name": "ipython",
    "version": 3
   },
   "file_extension": ".py",
   "mimetype": "text/x-python",
   "name": "python",
   "nbconvert_exporter": "python",
   "pygments_lexer": "ipython3",
   "version": "3.9.7"
  }
 },
 "nbformat": 4,
 "nbformat_minor": 5
}
