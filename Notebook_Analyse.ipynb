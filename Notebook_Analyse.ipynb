{
 "cells": [
  {
   "cell_type": "code",
   "execution_count": null,
   "id": "e4b2f4f5-f0e6-4d64-b11c-bb070248bddd",
   "metadata": {},
   "outputs": [],
   "source": [
    "import pandas as pd\n",
    "import numpy as np\n",
    "import requests\n",
    "import searchtweets\n",
    "from textblob import TextBlob\n",
    "from afinn import Afinn\n",
    "from datetime import *\n",
    "from wordcloud import WordCloud\n",
    "import matplotlib.pyplot as plt\n",
    "from textblob import TextBlob, Blobber\n",
    "from textblob_fr import PatternTagger, PatternAnalyzer\n",
    "import re\n",
    "from nltk.corpus import stopwords\n",
    "import nltk\n",
    "import demoji"
   ]
  },
  {
   "cell_type": "code",
   "execution_count": null,
   "id": "fc00e06f-7ea1-408a-9e5d-13c899542a4b",
   "metadata": {},
   "outputs": [],
   "source": [
    "nltk.download('stopwords')\n",
    "nltk.download('punkt')"
   ]
  },
  {
   "cell_type": "code",
   "execution_count": null,
   "id": "ad14ff5f-2ad2-4d6f-b06b-dbecd7a0457b",
   "metadata": {},
   "outputs": [],
   "source": [
    "df = pd.read_csv(\"~/work/projetpy/fichiers_csv/tweets_2021-3-1_to_2021-4-1.csv\")"
   ]
  },
  {
   "cell_type": "code",
   "execution_count": null,
   "id": "871bf19d-70ef-41d2-b1aa-b1e8c8ff5589",
   "metadata": {},
   "outputs": [],
   "source": [
    "df.head()"
   ]
  },
  {
   "cell_type": "markdown",
   "id": "202cff2a-c3d6-431c-8a5e-043e3493c72c",
   "metadata": {},
   "source": [
    "# Nettoyage des données"
   ]
  },
  {
   "cell_type": "code",
   "execution_count": null,
   "id": "a762c4dc-82ba-4509-b98c-dc848787b1d0",
   "metadata": {},
   "outputs": [],
   "source": [
    "!pip install demoji"
   ]
  },
  {
   "cell_type": "code",
   "execution_count": null,
   "id": "a4c8f7cf-9445-4c60-b917-e28b5d1e2b09",
   "metadata": {},
   "outputs": [],
   "source": [
    "# fonction pour la transformation du texte (retrait des caractères spéciaux, des émojis, de la ponctuation, tranformation des majuscules en minuscule, etc)\n",
    "def transforme(texte):\n",
    "    texte = texte.lower() # mettre les mots en minuscule\n",
    "    #retirer les liens\n",
    "    for item in re.compile(\"http[s]?://(?:[a-zA-Z]|[0-9]|[$-_@.&+]|[!*\\(\\),]|(?:%[0-9a-fA-F][0-9a-fA-F]))+\").findall(texte):\n",
    "        texte=texte.replace(item, \"\")\n",
    "    # enlever le retour à la ligne\n",
    "    texte = texte.replace(\"\\n\", \" \").replace(\"\\r\", \"\") \n",
    "    # supprimer \",\", \"!\", \"?\", \"%\", \"(\",\")\",\"/\",'\"', \"$\",\"£\", \"_\", \"-\", \"+\", \"*\", \"µ\", \":\",\"&,\"§\" \n",
    "    texte = re.sub(r\"[,\\!\\?\\%\\(\\)\\/\\\"\\$\\£\\-\\+\\*\\µ,\\:\\&\\§]\", \" \", texte) \n",
    "    # retirer les hashtags #\n",
    "    for item in re.compile(\"([#]\\w+)\").findall(texte):\n",
    "        texte=texte.replace(item, \"\")\n",
    "    # retirer les apostrophes '\n",
    "    for item in re.compile(\"([\\’])\").findall(texte):\n",
    "        texte=texte.replace(item, \" \")\n",
    "    for item in re.compile(\"([\\'])\").findall(texte):\n",
    "        texte=texte.replace(item, \" \")\n",
    "    # retirer les points de suspension\n",
    "    for item in re.compile(\"([.]{1,5})\").findall(texte):\n",
    "        texte=texte.replace(item, \"\") \n",
    "    # retirer les personnes tagées\n",
    "    for item in re.compile(\"([@]\\w+)\").findall(texte):\n",
    "        texte=texte.replace(item, \"\")\n",
    "    # retirer les adresses mail\n",
    "    for item in re.findall('\\S+@\\S+', texte) :\n",
    "        texte=texte.replace(item, \"\")\n",
    "    # retire les mots contenant des chiffres\n",
    "    texte = re.sub(r\"[A-Za-z\\.]*[0-9]+[A-Za-z%°\\.]*\", \"\", texte)\n",
    "    # retirer les emojis\n",
    "    for item in demoji.findall(texte):\n",
    "        texte=texte.replace(item,\"\")\n",
    "    return texte\n",
    "    "
   ]
  },
  {
   "cell_type": "code",
   "execution_count": null,
   "id": "ef67bb0e-c6ce-4556-a0f6-4add5a6802c4",
   "metadata": {},
   "outputs": [],
   "source": [
    "pd.options.display.max_colwidth = 1000\n",
    "df[\"texte1\"]=df[\"text\"].apply(lambda x: transforme(x))\n",
    "df.tail()"
   ]
  },
  {
   "cell_type": "code",
   "execution_count": null,
   "id": "853c001c-515f-4c4c-8396-4bc44fa3c458",
   "metadata": {},
   "outputs": [],
   "source": [
    "#transformer chaque phrase en liste de mots\n",
    "df[\"liste_mots\"] = df[\"texte1\"].apply(lambda x: nltk.word_tokenize(x, language ='french'))"
   ]
  },
  {
   "cell_type": "code",
   "execution_count": null,
   "id": "1e823127-99b8-4851-a064-f1defa36c6b2",
   "metadata": {},
   "outputs": [],
   "source": [
    "df.head()"
   ]
  },
  {
   "cell_type": "code",
   "execution_count": null,
   "id": "8f908d81-6897-443d-845f-86c92a79281d",
   "metadata": {},
   "outputs": [],
   "source": [
    "# Enlever les stopwords\n",
    "stop_words = set(stopwords.words('french'))\n",
    "del df[\"stopword\"]\n",
    "df[\"mot_important\"] = df[\"liste_mots\"].apply(lambda x: [w for w in x if not w in stop_words])\n",
    "df.tail()"
   ]
  },
  {
   "cell_type": "markdown",
   "id": "98bca82d-6bf7-4908-af4e-8ceb5da85848",
   "metadata": {},
   "source": [
    "# Calcul du label à partir de la polarité de Textblob"
   ]
  },
  {
   "cell_type": "code",
   "execution_count": null,
   "id": "441c41d0-2ae6-4e6d-859a-16255049188f",
   "metadata": {},
   "outputs": [],
   "source": [
    "tb = Blobber(pos_tagger=PatternTagger(), analyzer=PatternAnalyzer())"
   ]
  },
  {
   "cell_type": "code",
   "execution_count": null,
   "id": "ad0ce3c1-66ab-4157-a9b9-cd83b73b8fe0",
   "metadata": {},
   "outputs": [],
   "source": [
    "def tweet_polarite(text):\n",
    "    return tb(text).sentiment[0]\n",
    "\n",
    "def tweet_label(text):\n",
    "    if tweet_polarite(text) > 0 :\n",
    "        return 1\n",
    "    if tweet_polarite(text) < 0 :\n",
    "        return -1\n",
    "    return 0"
   ]
  },
  {
   "cell_type": "code",
   "execution_count": null,
   "id": "cea5b79c-2a13-4573-881d-f36364a6f7d3",
   "metadata": {},
   "outputs": [],
   "source": [
    "df[\"score\"]= df[\"texte1\"].apply(tweet_polarite)"
   ]
  },
  {
   "cell_type": "code",
   "execution_count": null,
   "id": "ee13e73d-0cb0-445f-b256-2e94eb43c448",
   "metadata": {},
   "outputs": [],
   "source": [
    "df[\"label\"]=df[\"texte1\"].apply(tweet_label)\n",
    "df.head()"
   ]
  },
  {
   "cell_type": "markdown",
   "id": "bd9d8399-7be5-441d-ae22-f32efda3d53d",
   "metadata": {},
   "source": [
    "# Visualisations"
   ]
  },
  {
   "cell_type": "markdown",
   "id": "f3a11a8a-dde3-47b0-824a-b3651d306d66",
   "metadata": {},
   "source": [
    "## Stats descriptives"
   ]
  },
  {
   "cell_type": "code",
   "execution_count": null,
   "id": "c44d34a3-3515-4f61-aac8-e5e7f3087625",
   "metadata": {},
   "outputs": [],
   "source": []
  },
  {
   "cell_type": "markdown",
   "id": "0e525322-c54b-4c93-ab91-d799974ab864",
   "metadata": {},
   "source": [
    "## Avec Wordcloud"
   ]
  },
  {
   "cell_type": "code",
   "execution_count": null,
   "id": "82539d61-8062-4636-b182-be9d4e8f6add",
   "metadata": {},
   "outputs": [],
   "source": [
    "df_cloud = df[df['label']==-1] \n",
    "# join tweets to a single string\n",
    "words = ' '.join(df_cloud['texte1'])\n",
    "\n",
    "wordcloud = WordCloud(stopwords=stop_words,\n",
    "                      background_color='white',\n",
    "                      width=2000,\n",
    "                      height=1500, max_words=50\n",
    "                     ).generate(words)\n",
    "\n",
    "plt.figure(1,figsize=(10, 10))\n",
    "plt.imshow(wordcloud)\n",
    "plt.axis('off')\n",
    "plt.show()"
   ]
  },
  {
   "cell_type": "code",
   "execution_count": null,
   "id": "edd4b2d3-cb70-45c2-9fda-9e6f00838fcd",
   "metadata": {},
   "outputs": [],
   "source": [
    "df_cloud = df[df['label']==1] \n",
    "# join tweets to a single string\n",
    "words = ' '.join(df_cloud['texte1'])\n",
    "\n",
    "wordcloud = WordCloud(stopwords=stop_words,\n",
    "                      background_color='white',\n",
    "                      width=2000,\n",
    "                      height=1500\n",
    "                     ).generate(words)\n",
    "\n",
    "plt.figure(1,figsize=(10, 10))\n",
    "plt.imshow(wordcloud)\n",
    "plt.axis('off')\n",
    "plt.show()"
   ]
  },
  {
   "cell_type": "markdown",
   "id": "f89fbfe8-bf87-49d4-8d07-936789e49c33",
   "metadata": {},
   "source": [
    "# Définition des métadonnées"
   ]
  },
  {
   "cell_type": "code",
   "execution_count": null,
   "id": "66d48e8b-39ac-40ed-b254-7353236ad262",
   "metadata": {},
   "outputs": [],
   "source": [
    "def decompte_hashtags(text):\n",
    "    exp_match = re.compile(\"([#]\\w+)\")\n",
    "    res = exp_match.findall(text)\n",
    "    return len(res)\n",
    "\n",
    "df_tweets[\"nbre_hashtags\"] = df_tweets[\"text\"].apply(lambda x : decompte_hashtags(x))"
   ]
  },
  {
   "cell_type": "code",
   "execution_count": null,
   "id": "f5ffeaa4-4eca-4d8b-ba14-82feb22086ff",
   "metadata": {},
   "outputs": [],
   "source": [
    "def decompte_tags(text):\n",
    "    exp_match = re.compile(\"([@]\\w+)\")\n",
    "    res = exp_match.findall(text)\n",
    "    return len(res)\n",
    "\n",
    "df_tweets[\"nbre_tags\"] = df_tweets[\"text\"].apply(lambda x : decompte_tags(x))"
   ]
  },
  {
   "cell_type": "code",
   "execution_count": null,
   "id": "101ed43d-bded-4bfc-9b91-efefcf26739a",
   "metadata": {},
   "outputs": [],
   "source": [
    "def decompte_mails(text):\n",
    "    exp_match = re.compile(\"(\\w+[@]\\w+[.]\\w+)\")\n",
    "    res = exp_match.findall(text)\n",
    "    return len(res)\n",
    "\n",
    "df_tweets[\"nbre_mails\"] = df_tweets[\"text\"].apply(lambda x : decompte_mails(x))"
   ]
  },
  {
   "cell_type": "code",
   "execution_count": null,
   "id": "32ea79b0-40c4-4db3-bbdb-64bb05a7af61",
   "metadata": {},
   "outputs": [],
   "source": [
    "def decompte_exclamation(text):\n",
    "    exp_match = re.compile(\"(\\w?\\s?[!])\")\n",
    "    res = exp_match.findall(text)\n",
    "    return len(res)\n",
    "\n",
    "df_tweets[\"nbre_exclamation\"] = df[\"text\"].apply(lambda x : decompte_exclamation(x))"
   ]
  },
  {
   "cell_type": "code",
   "execution_count": null,
   "id": "10d61d99-c530-4deb-941b-600c66233334",
   "metadata": {},
   "outputs": [],
   "source": [
    "def decompte_interrogation(text):\n",
    "    exp_match = re.compile(\"(\\w?\\s?[?])\")\n",
    "    res = exp_match.findall(text)\n",
    "    return len(res)\n",
    "\n",
    "df_tweets[\"nbre_interrogation\"] = df_tweets[\"text\"].apply(lambda x : decompte_interrogation(x))"
   ]
  },
  {
   "cell_type": "code",
   "execution_count": null,
   "id": "d17d771e-b315-4965-822a-02ec2d5cc813",
   "metadata": {},
   "outputs": [],
   "source": [
    "def decompte_mot_maj(text):\n",
    "    exp_match = re.compile(\"([A-Z][A-Z]+)\")\n",
    "    res = exp_match.findall(text)\n",
    "    return len(res)\n",
    "\n",
    "df_tweets[\"nbre_maj\"] = df_tweets[\"text\"].apply(lambda x : decompte_mot_maj(x))"
   ]
  },
  {
   "cell_type": "code",
   "execution_count": null,
   "id": "061216c2-b9bd-442d-a817-363de480868a",
   "metadata": {},
   "outputs": [],
   "source": [
    "df_tweets.head()"
   ]
  },
  {
   "cell_type": "markdown",
   "id": "6404cdec-bb36-40fe-958f-4e194587bc41",
   "metadata": {},
   "source": [
    "# Classification"
   ]
  }
 ],
 "metadata": {
  "kernelspec": {
   "display_name": "Python 3 (ipykernel)",
   "language": "python",
   "name": "python3"
  },
  "language_info": {
   "codemirror_mode": {
    "name": "ipython",
    "version": 3
   },
   "file_extension": ".py",
   "mimetype": "text/x-python",
   "name": "python",
   "nbconvert_exporter": "python",
   "pygments_lexer": "ipython3",
   "version": "3.9.7"
  }
 },
 "nbformat": 4,
 "nbformat_minor": 5
}
