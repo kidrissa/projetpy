{
 "cells": [
  {
   "cell_type": "markdown",
   "id": "5bf4d525-8e70-44af-a897-6209066473d5",
   "metadata": {},
   "source": [
    "Ce notebook a été créé pour les requètes via les API."
   ]
  },
  {
   "cell_type": "markdown",
   "id": "c4ee78e5-0cbc-43fa-b9a1-0bbb378c7649",
   "metadata": {},
   "source": [
    "# Importation des modules"
   ]
  },
  {
   "cell_type": "code",
   "execution_count": 38,
   "id": "d283c139-681c-4df9-965a-73f752470084",
   "metadata": {},
   "outputs": [],
   "source": [
    "import pandas as pd\n",
    "import numpy as np\n",
    "import requests\n",
    "import searchtweets\n",
    "from datetime import *"
   ]
  },
  {
   "cell_type": "markdown",
   "id": "49489bf4-f9d5-4536-b21d-c88055d11570",
   "metadata": {},
   "source": [
    "# Récupération des tweets via l'API de Twitter"
   ]
  },
  {
   "cell_type": "code",
   "execution_count": 41,
   "id": "cb24e2a0-44e6-413e-bed0-711dd59f54dc",
   "metadata": {},
   "outputs": [],
   "source": [
    "premium_search_args = searchtweets.load_credentials(\"twitter_keys_idrissa.yaml\",\n",
    "                                       yaml_key=\"search_tweets_api\",\n",
    "                                       env_overwrite=False)\n",
    "\n",
    "# Format de date_debut et date_fin : '2021-3-1'\n",
    "# OR moderna OR astrazeneca OR janssen\n",
    "\n",
    "def tweets_entre_2dates(vaccin, date_debut, date_fin):\n",
    "    rule = searchtweets.gen_rule_payload(\"(\"+vaccin+\") lang:fr place_country:FR\", \n",
    "                                         results_per_call=100, from_date=date_debut, to_date=date_fin) \n",
    "\n",
    "    rs = searchtweets.ResultStream(rule_payload=rule,\n",
    "                      max_results=100,\n",
    "                      **premium_search_args)\n",
    "\n",
    "    return list(rs.stream())\n",
    "\n",
    "def csv_tweets_entre2dates(vaccin, date_debut, date_fin):\n",
    "    tweets = tweets_entre_2dates(vaccin, date_debut, date_fin)\n",
    "    clean_tweets = []\n",
    "    fields = ['id', \"date\", 'screenName', \"texte\", \"type\", \"nbre_like\", \"nbre_retweet\", \"type_vaccin\"]\n",
    "    for tweet in tweets:\n",
    "        clean_tweet = [tweet.id, datetime.fromtimestamp(tweet.created_at_seconds), tweet.screen_name, tweet.all_text, tweet.tweet_type, tweet.favorite_count, tweet.retweet_count, vaccin]\n",
    "        clean_tweets.append(clean_tweet)\n",
    "\n",
    "    tweets_df = pd.DataFrame(clean_tweets)\n",
    "    tweets_df.columns = fields\n",
    "    # globals()[f\"my_variable_{i}\"] = i\n",
    "    tweets_df.to_csv('~/work/projetpy/fichiers_csv/tweets_'+vaccin+'_'+date_debut+'_a_'+date_fin+'.csv', index = False, header=True)"
   ]
  },
  {
   "cell_type": "code",
   "execution_count": 49,
   "id": "bebd3753-dbe2-4bd1-bcf9-9d93fd9e0d36",
   "metadata": {},
   "outputs": [],
   "source": [
    "csv_tweets_entre2dates(\"pfizer\", '2021-9-13', '2021-11-13')"
   ]
  },
  {
   "cell_type": "code",
   "execution_count": null,
   "id": "7781f0ae-aa27-4d34-84df-2b8a34238fb8",
   "metadata": {},
   "outputs": [],
   "source": [
    "dates = [[\"2021-\"+str(i)+\"-1\", \"2021-\"+str(i)+\"-\"] for i in range(6, 9)]"
   ]
  }
 ],
 "metadata": {
  "kernelspec": {
   "display_name": "Python 3 (ipykernel)",
   "language": "python",
   "name": "python3"
  },
  "language_info": {
   "codemirror_mode": {
    "name": "ipython",
    "version": 3
   },
   "file_extension": ".py",
   "mimetype": "text/x-python",
   "name": "python",
   "nbconvert_exporter": "python",
   "pygments_lexer": "ipython3",
   "version": "3.9.7"
  }
 },
 "nbformat": 4,
 "nbformat_minor": 5
}
