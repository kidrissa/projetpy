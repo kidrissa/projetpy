{
 "cells": [
  {
   "cell_type": "markdown",
   "id": "1e362706",
   "metadata": {},
   "source": [
    "Ce notebook a été créé pour les requètes via les API."
   ]
  },
  {
   "cell_type": "markdown",
   "id": "018010e5",
   "metadata": {},
   "source": [
    "# Importation des modules"
   ]
  },
  {
   "cell_type": "code",
   "execution_count": 2,
   "id": "e170d199-f4af-4aa6-b45d-e059767781a9",
   "metadata": {},
   "outputs": [
    {
     "name": "stdout",
     "output_type": "stream",
     "text": [
      "Collecting searchtweets\n",
      "  Downloading searchtweets-1.7.6-py3-none-any.whl (29 kB)\n",
      "Collecting tweet-parser\n",
      "  Downloading tweet_parser-1.13.2-py3-none-any.whl (34 kB)\n",
      "Requirement already satisfied: pyyaml in /opt/conda/lib/python3.9/site-packages (from searchtweets) (6.0)\n",
      "Requirement already satisfied: requests in /opt/conda/lib/python3.9/site-packages (from searchtweets) (2.26.0)\n",
      "Requirement already satisfied: charset-normalizer~=2.0.0 in /opt/conda/lib/python3.9/site-packages (from requests->searchtweets) (2.0.0)\n",
      "Requirement already satisfied: certifi>=2017.4.17 in /opt/conda/lib/python3.9/site-packages (from requests->searchtweets) (2021.10.8)\n",
      "Requirement already satisfied: idna<4,>=2.5 in /opt/conda/lib/python3.9/site-packages (from requests->searchtweets) (3.1)\n",
      "Requirement already satisfied: urllib3<1.27,>=1.21.1 in /opt/conda/lib/python3.9/site-packages (from requests->searchtweets) (1.26.7)\n",
      "Installing collected packages: tweet-parser, searchtweets\n",
      "Successfully installed searchtweets-1.7.6 tweet-parser-1.13.2\n"
     ]
    }
   ],
   "source": [
    "!pip install searchtweets"
   ]
  },
  {
   "cell_type": "code",
   "execution_count": 1,
   "id": "da92dbf2",
   "metadata": {},
   "outputs": [],
   "source": [
    "import pandas as pd\n",
    "import numpy as np\n",
    "import requests\n",
    "import searchtweets\n",
    "from datetime import *"
   ]
  },
  {
   "cell_type": "markdown",
   "id": "9ca85b68",
   "metadata": {},
   "source": [
    "# Récupération des tweets via l'API de Twitter"
   ]
  },
  {
   "cell_type": "code",
   "execution_count": 2,
   "id": "6fe5ff32",
   "metadata": {},
   "outputs": [],
   "source": [
    "premium_search_args = searchtweets.load_credentials(\"florette.yaml\",\n",
    "                                       yaml_key=\"search_tweets_api\",\n",
    "                                       env_overwrite=False)\n",
    "\n",
    "# Format de date_debut et date_fin : '2021-3-1'\n",
    "# OR moderna OR astrazeneca OR janssen\n",
    "\n",
    "def tweets_entre_2dates(vaccin, date_debut, date_fin):\n",
    "    rule = searchtweets.gen_rule_payload(\"(\"+vaccin+\") lang:fr place_country:FR\", \n",
    "                                         results_per_call=100, from_date=date_debut, to_date=date_fin) \n",
    "\n",
    "    rs = searchtweets.ResultStream(rule_payload=rule,\n",
    "                      max_results=100,\n",
    "                      **premium_search_args)\n",
    "\n",
    "    return list(rs.stream())\n",
    "\n",
    "def csv_tweets_entre2dates(vaccin, date_debut, date_fin):\n",
    "    tweets = tweets_entre_2dates(vaccin, date_debut, date_fin)\n",
    "    clean_tweets = []\n",
    "    fields = ['id', \"date\", 'screenName', \"texte\", \"type\", \"nbre_like\", \"nbre_retweet\", \"type_vaccin\"]\n",
    "    for tweet in tweets:\n",
    "        clean_tweet = [tweet.id, datetime.fromtimestamp(tweet.created_at_seconds), tweet.screen_name, tweet.all_text, tweet.tweet_type, tweet.favorite_count, tweet.retweet_count, vaccin]\n",
    "        clean_tweets.append(clean_tweet)\n",
    "\n",
    "    tweets_df = pd.DataFrame(clean_tweets)\n",
    "    tweets_df.columns = fields\n",
    "    # globals()[f\"my_variable_{i}\"] = i\n",
    "    tweets_df.to_csv('~/work/projetpy/csv_tweets/tweets_'+vaccin+'_'+date_debut+'_a_'+date_fin+'.csv', index = False, header=True)"
   ]
  },
  {
   "cell_type": "code",
   "execution_count": 3,
   "id": "03ae31d7",
   "metadata": {},
   "outputs": [],
   "source": [
    "def ajout_7_jrs(dte):\n",
    "    date = datetime.strptime(dte, \"%Y-%m-%d\")\n",
    "    modified_date = date + timedelta(days=7)\n",
    "    return datetime.strftime(modified_date, \"%Y-%m-%d\")\n",
    "\n",
    "def ajout_20_jrs(dte):\n",
    "    date = datetime.strptime(dte, \"%Y-%m-%d\")\n",
    "    modified_date = date + timedelta(days=20)\n",
    "    return datetime.strftime(modified_date, \"%Y-%m-%d\")"
   ]
  },
  {
   "cell_type": "code",
   "execution_count": 17,
   "id": "4894ce78",
   "metadata": {},
   "outputs": [],
   "source": [
    "def import_pfizer_tweets(date_debut, date_fin) : \n",
    "    date_suivante = ajout_7_jrs(date_debut)\n",
    "    while datetime.strptime(date_suivante, \"%Y-%m-%d\") < datetime.strptime(date_fin, \"%Y-%m-%d\") :\n",
    "        csv_tweets_entre2dates(\"pfizer\", date_debut, date_suivante)\n",
    "        date_debut = date_suivante\n",
    "        date_suivante = ajout_7_jrs(date_suivante)\n",
    "\n",
    "#import_pfizer_tweets(\"2021-03-1\", \"2021-06-1\")"
   ]
  },
  {
   "cell_type": "code",
   "execution_count": 7,
   "id": "2fbce659",
   "metadata": {},
   "outputs": [],
   "source": [
    "def import_tweets(vaccin, date_debut, date_fin) : \n",
    "    date_suivante = ajout_20_jrs(date_debut)\n",
    "    while datetime.strptime(date_suivante, \"%Y-%m-%d\") < datetime.strptime(date_fin, \"%Y-%m-%d\") :\n",
    "        csv_tweets_entre2dates(vaccin, date_debut, date_suivante)\n",
    "        date_debut = date_suivante\n",
    "        date_suivante = ajout_20_jrs(date_suivante)\n",
    "\n",
    "#import_tweets(\"moderna\", \"2021-3-1\", \"2021-12-1\")\n",
    "#import_tweets(\"janssen\", \"2021-3-1\", \"2021-6-1\")\n",
    "#import_tweets(\"astrazeneca\", \"2021-3-1\", \"2021-6-1\")"
   ]
  },
  {
   "cell_type": "code",
   "execution_count": 9,
   "id": "5be099a8-b961-4bea-84af-6b542e3df8f4",
   "metadata": {},
   "outputs": [],
   "source": [
    "csv_tweets_entre2dates(\"astrazeneca\", \"2021-3-21\", \"2021-4-5\")"
   ]
  },
  {
   "cell_type": "code",
   "execution_count": 16,
   "id": "f8120466-3c5c-42d7-9301-eb9a06805ba5",
   "metadata": {},
   "outputs": [],
   "source": [
    "csv_tweets_entre2dates(\"astrazeneca\", \"2021-3-1\", \"2021-3-5\")"
   ]
  },
  {
   "cell_type": "code",
   "execution_count": null,
   "id": "264cb10d-04ab-4095-93e4-f828ab0638ef",
   "metadata": {},
   "outputs": [],
   "source": []
  }
 ],
 "metadata": {
  "kernelspec": {
   "display_name": "Python 3 (ipykernel)",
   "language": "python",
   "name": "python3"
  },
  "language_info": {
   "codemirror_mode": {
    "name": "ipython",
    "version": 3
   },
   "file_extension": ".py",
   "mimetype": "text/x-python",
   "name": "python",
   "nbconvert_exporter": "python",
   "pygments_lexer": "ipython3",
   "version": "3.9.7"
  }
 },
 "nbformat": 4,
 "nbformat_minor": 5
}
