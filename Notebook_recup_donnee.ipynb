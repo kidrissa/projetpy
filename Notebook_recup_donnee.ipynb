{
 "cells": [
  {
   "cell_type": "markdown",
   "id": "5bf4d525-8e70-44af-a897-6209066473d5",
   "metadata": {},
   "source": [
    "Ce notebook a été créé pour les requètes via les API."
   ]
  },
  {
   "cell_type": "markdown",
   "id": "c4ee78e5-0cbc-43fa-b9a1-0bbb378c7649",
   "metadata": {},
   "source": [
    "# Importation des modules"
   ]
  },
  {
   "cell_type": "code",
   "execution_count": 1,
   "id": "d283c139-681c-4df9-965a-73f752470084",
   "metadata": {},
   "outputs": [],
   "source": [
    "import pandas as pd\n",
    "import numpy as np\n",
    "import requests\n",
    "import searchtweets\n",
    "from datetime import *"
   ]
  },
  {
   "cell_type": "markdown",
   "id": "49489bf4-f9d5-4536-b21d-c88055d11570",
   "metadata": {},
   "source": [
    "# Récupération des tweets via l'API de Twitter"
   ]
  },
  {
   "cell_type": "code",
   "execution_count": 2,
   "id": "cb24e2a0-44e6-413e-bed0-711dd59f54dc",
   "metadata": {},
   "outputs": [],
   "source": [
    "premium_search_args = searchtweets.load_credentials(\"twitter_keys_idrissa.yaml\",\n",
    "                                       yaml_key=\"search_tweets_api\",\n",
    "                                       env_overwrite=False)\n",
    "\n",
    "# Format de date_debut et date_fin : '2021-3-1'\n",
    "# OR moderna OR astrazeneca OR janssen\n",
    "\n",
    "def tweets_entre_2dates(vaccin, date_debut, date_fin):\n",
    "    rule = searchtweets.gen_rule_payload(\"(\"+vaccin+\") lang:fr place_country:FR\", \n",
    "                                         results_per_call=100, from_date=date_debut, to_date=date_fin) \n",
    "\n",
    "    rs = searchtweets.ResultStream(rule_payload=rule,\n",
    "                      max_results=100,\n",
    "                      **premium_search_args)\n",
    "\n",
    "    return list(rs.stream())\n",
    "\n",
    "def csv_tweets_entre2dates(vaccin, date_debut, date_fin):\n",
    "    tweets = tweets_entre_2dates(vaccin, date_debut, date_fin)\n",
    "    clean_tweets = []\n",
    "    fields = ['id', \"date\", 'screenName', \"texte\", \"type\", \"nbre_like\", \"nbre_retweet\", \"type_vaccin\"]\n",
    "    for tweet in tweets:\n",
    "        clean_tweet = [tweet.id, datetime.fromtimestamp(tweet.created_at_seconds), tweet.screen_name, tweet.all_text, tweet.tweet_type, tweet.favorite_count, tweet.retweet_count, vaccin]\n",
    "        clean_tweets.append(clean_tweet)\n",
    "\n",
    "    tweets_df = pd.DataFrame(clean_tweets)\n",
    "    tweets_df.columns = fields\n",
    "    # globals()[f\"my_variable_{i}\"] = i\n",
    "    tweets_df.to_csv('~/work/projetpy/csv_tweets/tweets_'+vaccin+'_'+date_debut+'_a_'+date_fin+'.csv', index = False, header=True)"
   ]
  },
  {
   "cell_type": "code",
   "execution_count": 8,
   "id": "d0e1d071-d210-4d0c-8a1e-296fc9f7cdf1",
   "metadata": {},
   "outputs": [],
   "source": [
    "def ajout_7_jrs(dte):\n",
    "    date = datetime.strptime(dte, \"%Y-%m-%d\")\n",
    "    modified_date = date + timedelta(days=7)\n",
    "    return datetime.strftime(modified_date, \"%Y-%m-%d\")\n",
    "\n",
    "def ajout_20_jrs(dte):\n",
    "    date = datetime.strptime(dte, \"%Y-%m-%d\")\n",
    "    modified_date = date + timedelta(days=20)\n",
    "    return datetime.strftime(modified_date, \"%Y-%m-%d\")"
   ]
  },
  {
   "cell_type": "code",
   "execution_count": 9,
   "id": "bebd3753-dbe2-4bd1-bcf9-9d93fd9e0d36",
   "metadata": {},
   "outputs": [],
   "source": [
    "def import_pfizer_tweets(date_debut, date_fin) : \n",
    "    date_suivante = ajout_7_jrs(date_debut)\n",
    "    while datetime.strptime(date_suivante, \"%Y-%m-%d\") < datetime.strptime(date_fin, \"%Y-%m-%d\") :\n",
    "        csv_tweets_entre2dates(\"pfizer\", date_debut, date_suivante)\n",
    "        date_debut = date_suivante\n",
    "        date_suivante = ajout_7_jrs(date_suivante)"
   ]
  },
  {
   "cell_type": "code",
   "execution_count": 10,
   "id": "f33cb8a6-0ded-4c26-bd94-216db71077f7",
   "metadata": {},
   "outputs": [],
   "source": [
    "import_pfizer_tweets(\"2021-6-23\", \"2021-12-1\")"
   ]
  },
  {
   "cell_type": "code",
   "execution_count": 12,
   "id": "57bb1c06-580f-4581-9ddf-77656605f78c",
   "metadata": {},
   "outputs": [],
   "source": [
    "csv_tweets_entre2dates(\"pfizer\", \"2021-11-24\", \"2021-12-1\")"
   ]
  },
  {
   "cell_type": "code",
   "execution_count": 20,
   "id": "10f69e89-5fe0-4bfe-bab8-c784334d2359",
   "metadata": {},
   "outputs": [],
   "source": [
    "def import_tweets(vaccin, date_debut, date_fin) : \n",
    "    date_suivante = ajout_20_jrs(date_debut)\n",
    "    while datetime.strptime(date_suivante, \"%Y-%m-%d\") < datetime.strptime(date_fin, \"%Y-%m-%d\") :\n",
    "        csv_tweets_entre2dates(vaccin, date_debut, date_suivante)\n",
    "        date_debut = date_suivante\n",
    "        date_suivante = ajout_20_jrs(date_suivante)"
   ]
  },
  {
   "cell_type": "code",
   "execution_count": 13,
   "id": "a356a648-02ab-49d4-bf58-2fbe1c130dd7",
   "metadata": {},
   "outputs": [],
   "source": [
    "csv_tweets_entre2dates(\"moderna\", \"2021-09-13\", \"2021-09-30\")"
   ]
  },
  {
   "cell_type": "code",
   "execution_count": 14,
   "id": "e67b95dd-e2cc-492e-b8d6-a71cd7f9636c",
   "metadata": {},
   "outputs": [],
   "source": [
    "csv_tweets_entre2dates(\"moderna\", \"2021-11-13\", \"2021-12-01\")"
   ]
  },
  {
   "cell_type": "code",
   "execution_count": 16,
   "id": "ca0cc414-3501-4c5e-ae1b-95a634eb56c1",
   "metadata": {},
   "outputs": [],
   "source": [
    "csv_tweets_entre2dates(\"moderna\", \"2021-06-09\", \"2021-07-05\")"
   ]
  },
  {
   "cell_type": "code",
   "execution_count": 17,
   "id": "dee97e70-791b-40ec-a4d8-1296f044400e",
   "metadata": {},
   "outputs": [],
   "source": [
    "csv_tweets_entre2dates(\"moderna\", \"2021-06-01\", \"2021-06-09\")"
   ]
  },
  {
   "cell_type": "code",
   "execution_count": 21,
   "id": "b0b1c994-8b95-45eb-9cea-9f15ee050a80",
   "metadata": {},
   "outputs": [],
   "source": [
    "# import_tweets(\"janssen\", \"2021-6-1\", \"2021-12-1\")\n",
    "import_tweets(\"astrazeneca\", \"2021-06-27\", \"2021-12-01\")"
   ]
  },
  {
   "cell_type": "code",
   "execution_count": 22,
   "id": "ee6e4fca-4e8a-4fc6-8d63-28ddb3655e27",
   "metadata": {},
   "outputs": [],
   "source": [
    "csv_tweets_entre2dates(\"astrazeneca\", \"2021-11-14\", \"2021-12-01\")"
   ]
  },
  {
   "cell_type": "markdown",
   "id": "46f09fae-4b6b-461f-8964-0efc7b962ec1",
   "metadata": {},
   "source": [
    "# Unification des tweets en un dataFrame"
   ]
  },
  {
   "cell_type": "code",
   "execution_count": null,
   "id": "3b7e8439-fad4-40d2-96b6-958cd4442d15",
   "metadata": {},
   "outputs": [],
   "source": []
  }
 ],
 "metadata": {
  "kernelspec": {
   "display_name": "Python 3 (ipykernel)",
   "language": "python",
   "name": "python3"
  },
  "language_info": {
   "codemirror_mode": {
    "name": "ipython",
    "version": 3
   },
   "file_extension": ".py",
   "mimetype": "text/x-python",
   "name": "python",
   "nbconvert_exporter": "python",
   "pygments_lexer": "ipython3",
   "version": "3.9.7"
  }
 },
 "nbformat": 4,
 "nbformat_minor": 5
}
