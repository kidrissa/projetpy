{
 "cells": [
  {
   "cell_type": "markdown",
   "id": "fdbcb6da",
   "metadata": {},
   "source": [
    "Ce notebook a été créé pour les requètes via les API."
   ]
  },
  {
   "cell_type": "markdown",
   "id": "d139fb76",
   "metadata": {},
   "source": [
    "# Importation des modules"
   ]
  },
  {
   "cell_type": "code",
   "execution_count": 2,
   "id": "8b9d3258",
   "metadata": {},
   "outputs": [
    {
     "name": "stdout",
     "output_type": "stream",
     "text": [
      "Collecting searchtweets\n",
      "  Downloading searchtweets-1.7.6-py3-none-any.whl (29 kB)\n",
      "Collecting tweet-parser\n",
      "  Downloading tweet_parser-1.13.2-py3-none-any.whl (34 kB)\n",
      "Requirement already satisfied: pyyaml in /opt/conda/lib/python3.9/site-packages (from searchtweets) (6.0)\n",
      "Requirement already satisfied: requests in /opt/conda/lib/python3.9/site-packages (from searchtweets) (2.26.0)\n",
      "Requirement already satisfied: charset-normalizer~=2.0.0 in /opt/conda/lib/python3.9/site-packages (from requests->searchtweets) (2.0.0)\n",
      "Requirement already satisfied: certifi>=2017.4.17 in /opt/conda/lib/python3.9/site-packages (from requests->searchtweets) (2021.10.8)\n",
      "Requirement already satisfied: idna<4,>=2.5 in /opt/conda/lib/python3.9/site-packages (from requests->searchtweets) (3.1)\n",
      "Requirement already satisfied: urllib3<1.27,>=1.21.1 in /opt/conda/lib/python3.9/site-packages (from requests->searchtweets) (1.26.7)\n",
      "Installing collected packages: tweet-parser, searchtweets\n",
      "Successfully installed searchtweets-1.7.6 tweet-parser-1.13.2\n"
     ]
    }
   ],
   "source": [
    "!pip install searchtweets"
   ]
  },
  {
   "cell_type": "code",
   "execution_count": null,
   "id": "e760904a",
   "metadata": {},
   "outputs": [],
   "source": [
    "!pip install searchtweets"
   ]
  },
  {
   "cell_type": "code",
   "execution_count": 19,
   "id": "8bd91f98",
   "metadata": {},
   "outputs": [],
   "source": [
    "import pandas as pd\n",
    "import numpy as np\n",
    "import requests\n",
    "import searchtweets\n",
    "from datetime import *\n",
    "import glob, os"
   ]
  },
  {
   "cell_type": "markdown",
   "id": "8d19cd65",
   "metadata": {},
   "source": [
    "# Récupération des tweets via l'API de Twitter"
   ]
  },
  {
   "cell_type": "code",
   "execution_count": 2,
   "id": "591d1006",
   "metadata": {},
   "outputs": [],
   "source": [
    "premium_search_args = searchtweets.load_credentials(\"florette.yaml\",\n",
    "                                       yaml_key=\"search_tweets_api\",\n",
    "                                       env_overwrite=False)\n",
    "\n",
    "# Format de date_debut et date_fin : '2021-3-1'\n",
    "# OR moderna OR astrazeneca OR janssen\n",
    "\n",
    "def tweets_entre_2dates(vaccin, date_debut, date_fin):\n",
    "    rule = searchtweets.gen_rule_payload(\"(\"+vaccin+\") lang:fr place_country:FR\", \n",
    "                                         results_per_call=100, from_date=date_debut, to_date=date_fin) \n",
    "\n",
    "    rs = searchtweets.ResultStream(rule_payload=rule,\n",
    "                      max_results=100,\n",
    "                      **premium_search_args)\n",
    "\n",
    "    return list(rs.stream())\n",
    "\n",
    "def csv_tweets_entre2dates(vaccin, date_debut, date_fin):\n",
    "    tweets = tweets_entre_2dates(vaccin, date_debut, date_fin)\n",
    "    clean_tweets = []\n",
    "    fields = ['id', \"date\", 'screenName', \"texte\", \"type\", \"nbre_like\", \"nbre_retweet\", \"type_vaccin\"]\n",
    "    for tweet in tweets:\n",
    "        clean_tweet = [tweet.id, datetime.fromtimestamp(tweet.created_at_seconds), tweet.screen_name, tweet.all_text, tweet.tweet_type, tweet.favorite_count, tweet.retweet_count, vaccin]\n",
    "        clean_tweets.append(clean_tweet)\n",
    "\n",
    "    tweets_df = pd.DataFrame(clean_tweets)\n",
    "    tweets_df.columns = fields\n",
    "    # globals()[f\"my_variable_{i}\"] = i\n",
    "    tweets_df.to_csv('~/work/projetpy/csv_tweets/tweets_'+vaccin+'_'+date_debut+'_a_'+date_fin+'.csv', index = False, header=True)"
   ]
  },
  {
   "cell_type": "code",
   "execution_count": 3,
   "id": "fe92bf0a",
   "metadata": {},
   "outputs": [],
   "source": [
    "def ajout_7_jrs(dte):\n",
    "    date = datetime.strptime(dte, \"%Y-%m-%d\")\n",
    "    modified_date = date + timedelta(days=7)\n",
    "    return datetime.strftime(modified_date, \"%Y-%m-%d\")\n",
    "\n",
    "def ajout_20_jrs(dte):\n",
    "    date = datetime.strptime(dte, \"%Y-%m-%d\")\n",
    "    modified_date = date + timedelta(days=20)\n",
    "    return datetime.strftime(modified_date, \"%Y-%m-%d\")"
   ]
  },
  {
   "cell_type": "code",
   "execution_count": null,
   "id": "45efd170",
   "metadata": {},
   "outputs": [],
   "source": [
    "def import_pfizer_tweets(date_debut, date_fin) : \n",
    "    date_suivante = ajout_7_jrs(date_debut)\n",
    "    while datetime.strptime(date_suivante, \"%Y-%m-%d\") < datetime.strptime(date_fin, \"%Y-%m-%d\") :\n",
    "        csv_tweets_entre2dates(\"pfizer\", date_debut, date_suivante)\n",
    "        date_debut = date_suivante\n",
    "        date_suivante = ajout_7_jrs(date_suivante)"
   ]
  },
  {
   "cell_type": "code",
   "execution_count": null,
   "id": "a0a7d1bd",
   "metadata": {},
   "outputs": [],
   "source": [
    "import_pfizer_tweets(\"2021-06-23\", \"2021-12-01\")"
   ]
  },
  {
   "cell_type": "code",
   "execution_count": null,
   "id": "bcd2845a",
   "metadata": {},
   "outputs": [],
   "source": [
    "csv_tweets_entre2dates(\"pfizer\", \"2021-11-24\", \"2021-12-1\")"
   ]
  },
  {
   "cell_type": "code",
   "execution_count": null,
   "id": "c9a7b3e9",
   "metadata": {},
   "outputs": [],
   "source": [
    "def import_tweets(vaccin, date_debut, date_fin) : \n",
    "    date_suivante = ajout_20_jrs(date_debut)\n",
    "    while datetime.strptime(date_suivante, \"%Y-%m-%d\") < datetime.strptime(date_fin, \"%Y-%m-%d\") :\n",
    "        csv_tweets_entre2dates(vaccin, date_debut, date_suivante)\n",
    "        date_debut = date_suivante\n",
    "        date_suivante = ajout_20_jrs(date_suivante)"
   ]
  },
  {
   "cell_type": "code",
   "execution_count": null,
   "id": "93c08cc3",
   "metadata": {},
   "outputs": [],
   "source": [
    "csv_tweets_entre2dates(\"moderna\", \"2021-09-13\", \"2021-09-30\")"
   ]
  },
  {
   "cell_type": "code",
   "execution_count": null,
   "id": "26517db2",
   "metadata": {},
   "outputs": [],
   "source": [
    "csv_tweets_entre2dates(\"moderna\", \"2021-11-13\", \"2021-12-01\")"
   ]
  },
  {
   "cell_type": "code",
   "execution_count": 17,
   "id": "0e46505b",
   "metadata": {},
   "outputs": [],
   "source": [
    "def import_pfizer_tweets(date_debut, date_fin) : \n",
    "    date_suivante = add_7_days(date_debut)\n",
    "    while datetime.strptime(date_suivante, \"%Y-%m-%d\") < datetime.strptime(date_fin, \"%Y-%m-%d\") :\n",
    "        csv_tweets_entre2dates(\"pfizer\", date_debut, date_suivante)\n",
    "        date_debut = date_suivante\n",
    "        date_suivante = add_7_days(date_suivante)\n",
    "\n",
    "# import_pfizer_tweets(\"2021-6-1\", \"2021-12-1\")"
   ]
  },
  {
   "cell_type": "code",
   "execution_count": 7,
   "id": "469032cf",
   "metadata": {},
   "outputs": [],
   "source": [
    "def import_tweets(vaccin, date_debut, date_fin) : \n",
    "    date_suivante = ajout_20_jrs(date_debut)\n",
    "    while datetime.strptime(date_suivante, \"%Y-%m-%d\") < datetime.strptime(date_fin, \"%Y-%m-%d\") :\n",
    "        csv_tweets_entre2dates(vaccin, date_debut, date_suivante)\n",
    "        date_debut = date_suivante\n",
    "        date_suivante = ajout_20_jrs(date_suivante)\n",
    "\n",
    "#import_tweets(\"moderna\", \"2021-3-1\", \"2021-12-1\")\n",
    "#import_tweets(\"janssen\", \"2021-3-1\", \"2021-6-1\")\n",
    "#import_tweets(\"astrazeneca\", \"2021-3-1\", \"2021-6-1\")"
   ]
  },
  {
   "cell_type": "code",
   "execution_count": null,
   "id": "e99dd24a",
   "metadata": {},
   "outputs": [],
   "source": [
    "csv_tweets_entre2dates(\"moderna\", \"2021-06-01\", \"2021-06-09\")"
   ]
  },
  {
   "cell_type": "code",
   "execution_count": null,
   "id": "e261168c",
   "metadata": {},
   "outputs": [],
   "source": [
    "# import_tweets(\"janssen\", \"2021-6-1\", \"2021-12-1\")\n",
    "import_tweets(\"astrazeneca\", \"2021-06-27\", \"2021-12-01\")"
   ]
  },
  {
   "cell_type": "code",
   "execution_count": null,
   "id": "c965001a",
   "metadata": {},
   "outputs": [],
   "source": [
    "csv_tweets_entre2dates(\"astrazeneca\", \"2021-11-14\", \"2021-12-01\")"
   ]
  },
  {
   "cell_type": "code",
   "execution_count": null,
   "id": "eecb4064",
   "metadata": {},
   "outputs": [],
   "source": [
    "import_tweets(\"pfizer\", \"2021-03-01\", \"2021-06-01\")"
   ]
  },
  {
   "cell_type": "code",
   "execution_count": null,
   "id": "7a99b801",
   "metadata": {},
   "outputs": [],
   "source": [
    "import_pfizer_tweets(\"2021-03-01\", \"2021-12-01\")"
   ]
  },
  {
   "cell_type": "code",
   "execution_count": null,
   "id": "59362645",
   "metadata": {},
   "outputs": [],
   "source": [
    "csv_tweets_entre2dates(\"astrazeneca\", \"2021-11-14\", \"2021-12-01\")"
   ]
  },
  {
   "cell_type": "code",
   "execution_count": null,
   "id": "32e95ba6",
   "metadata": {},
   "outputs": [],
   "source": [
    "import_pfizer_tweets(\"2021-12-01\", \"2021-12-29\")"
   ]
  },
  {
   "cell_type": "code",
   "execution_count": null,
   "id": "c40c20fb",
   "metadata": {},
   "outputs": [],
   "source": [
    "csv_tweets_entre2dates(\"astrazeneca\", \"2021-12-01\", \"2021-12-15\")"
   ]
  },
  {
   "cell_type": "code",
   "execution_count": 9,
   "id": "933a3b03",
   "metadata": {},
   "outputs": [],
   "source": [
    "csv_tweets_entre2dates(\"astrazeneca\", \"2021-3-21\", \"2021-4-5\")"
   ]
  },
  {
   "cell_type": "code",
   "execution_count": null,
   "id": "dfd58673",
   "metadata": {},
   "outputs": [],
   "source": [
    "csv_tweets_entre2dates(\"astrazeneca\", \"2021-12-15\", \"2021-12-28\")"
   ]
  },
  {
   "cell_type": "code",
   "execution_count": 16,
   "id": "a9b0852a",
   "metadata": {},
   "outputs": [],
   "source": [
    "csv_tweets_entre2dates(\"astrazeneca\", \"2021-3-1\", \"2021-3-5\")"
   ]
  },
  {
   "cell_type": "code",
   "execution_count": null,
   "id": "a3ccf64a",
   "metadata": {},
   "outputs": [],
   "source": [
    "csv_tweets_entre2dates(\"moderna\", \"2021-12-01\", \"2021-12-15\")"
   ]
  },
  {
   "cell_type": "code",
   "execution_count": null,
   "id": "adae5d8a",
   "metadata": {},
   "outputs": [],
   "source": []
  },
  {
   "cell_type": "markdown",
   "id": "d43fd0b7",
   "metadata": {},
   "source": [
    "# Unification des tweets en un dataFrame"
   ]
  },
  {
   "cell_type": "code",
   "execution_count": 20,
   "id": "ef2b46a6",
   "metadata": {},
   "outputs": [],
   "source": [
    "# Récupère la liste des fichiers spécifiés par le chemin au format liste.\n",
    "csv_files = glob.glob('csv_tweets/*.csv')\n",
    "\n",
    "# Prépare une liste pour ajouter le contenu du fichier csv\n",
    "data_list = []\n",
    "\n",
    "# Scanne la liste des fichiers à lire\n",
    "for file in csv_files:\n",
    "    data_list.append(pd.read_csv(file))\n",
    "\n",
    "# Combine toutes les listes dans le sens des lignes\n",
    "df = pd.concat(data_list, axis=0, sort=True).sort_values(\"date\", ignore_index=True)\n",
    "\n",
    "# Exporte le dataframe dans le csv  tweets_vaccins\n",
    "df.to_csv(\"csv_tweets/tweets_vaccins.csv\", index=False)"
   ]
  },
  {
   "cell_type": "code",
   "execution_count": 21,
   "id": "075c7f42",
   "metadata": {},
   "outputs": [
    {
     "data": {
      "text/html": [
       "<div>\n",
       "<style scoped>\n",
       "    .dataframe tbody tr th:only-of-type {\n",
       "        vertical-align: middle;\n",
       "    }\n",
       "\n",
       "    .dataframe tbody tr th {\n",
       "        vertical-align: top;\n",
       "    }\n",
       "\n",
       "    .dataframe thead th {\n",
       "        text-align: right;\n",
       "    }\n",
       "</style>\n",
       "<table border=\"1\" class=\"dataframe\">\n",
       "  <thead>\n",
       "    <tr style=\"text-align: right;\">\n",
       "      <th></th>\n",
       "      <th>date</th>\n",
       "      <th>id</th>\n",
       "      <th>nbre_like</th>\n",
       "      <th>nbre_retweet</th>\n",
       "      <th>screenName</th>\n",
       "      <th>texte</th>\n",
       "      <th>type</th>\n",
       "      <th>type_vaccin</th>\n",
       "    </tr>\n",
       "  </thead>\n",
       "  <tbody>\n",
       "    <tr>\n",
       "      <th>0</th>\n",
       "      <td>2021-03-01 00:32:26</td>\n",
       "      <td>1366184519662006274</td>\n",
       "      <td>1</td>\n",
       "      <td>0</td>\n",
       "      <td>yokko_mars</td>\n",
       "      <td>@silvano_trotta Au Japon, on refuse le don de ...</td>\n",
       "      <td>tweet</td>\n",
       "      <td>pfizer</td>\n",
       "    </tr>\n",
       "    <tr>\n",
       "      <th>1</th>\n",
       "      <td>2021-03-01 00:32:26</td>\n",
       "      <td>1366184519662006274</td>\n",
       "      <td>1</td>\n",
       "      <td>0</td>\n",
       "      <td>yokko_mars</td>\n",
       "      <td>@silvano_trotta Au Japon, on refuse le don de ...</td>\n",
       "      <td>tweet</td>\n",
       "      <td>pfizer</td>\n",
       "    </tr>\n",
       "    <tr>\n",
       "      <th>2</th>\n",
       "      <td>2021-03-01 08:09:01</td>\n",
       "      <td>1366299423781892098</td>\n",
       "      <td>2</td>\n",
       "      <td>0</td>\n",
       "      <td>Epcocorico</td>\n",
       "      <td>@France_Dessinee @Pfizer_France Tragique</td>\n",
       "      <td>tweet</td>\n",
       "      <td>pfizer</td>\n",
       "    </tr>\n",
       "    <tr>\n",
       "      <th>3</th>\n",
       "      <td>2021-03-01 08:09:01</td>\n",
       "      <td>1366299423781892098</td>\n",
       "      <td>2</td>\n",
       "      <td>0</td>\n",
       "      <td>Epcocorico</td>\n",
       "      <td>@France_Dessinee @Pfizer_France Tragique</td>\n",
       "      <td>tweet</td>\n",
       "      <td>pfizer</td>\n",
       "    </tr>\n",
       "    <tr>\n",
       "      <th>4</th>\n",
       "      <td>2021-03-01 08:42:07</td>\n",
       "      <td>1366307752096768000</td>\n",
       "      <td>2</td>\n",
       "      <td>0</td>\n",
       "      <td>socarre</td>\n",
       "      <td>@thierrycogne @dc_morel Vaccinons en pharmacie...</td>\n",
       "      <td>tweet</td>\n",
       "      <td>janssen</td>\n",
       "    </tr>\n",
       "    <tr>\n",
       "      <th>...</th>\n",
       "      <td>...</td>\n",
       "      <td>...</td>\n",
       "      <td>...</td>\n",
       "      <td>...</td>\n",
       "      <td>...</td>\n",
       "      <td>...</td>\n",
       "      <td>...</td>\n",
       "      <td>...</td>\n",
       "    </tr>\n",
       "    <tr>\n",
       "      <th>12077</th>\n",
       "      <td>2021-12-23 14:01:14</td>\n",
       "      <td>1474017257974120453</td>\n",
       "      <td>1</td>\n",
       "      <td>0</td>\n",
       "      <td>Guy5767</td>\n",
       "      <td>@monicalova13 Deux astrazeneca et un moderna, ...</td>\n",
       "      <td>tweet</td>\n",
       "      <td>astrazeneca</td>\n",
       "    </tr>\n",
       "    <tr>\n",
       "      <th>12078</th>\n",
       "      <td>2021-12-26 12:22:16</td>\n",
       "      <td>1475079514103463939</td>\n",
       "      <td>1</td>\n",
       "      <td>0</td>\n",
       "      <td>ertseled491</td>\n",
       "      <td>@BriceOf_Lyon @Nouveau_Papy Je n’ai été vaccin...</td>\n",
       "      <td>tweet</td>\n",
       "      <td>astrazeneca</td>\n",
       "    </tr>\n",
       "    <tr>\n",
       "      <th>12079</th>\n",
       "      <td>2021-12-26 12:22:16</td>\n",
       "      <td>1475079514103463939</td>\n",
       "      <td>1</td>\n",
       "      <td>0</td>\n",
       "      <td>ertseled491</td>\n",
       "      <td>@BriceOf_Lyon @Nouveau_Papy Je n’ai été vaccin...</td>\n",
       "      <td>tweet</td>\n",
       "      <td>astrazeneca</td>\n",
       "    </tr>\n",
       "    <tr>\n",
       "      <th>12080</th>\n",
       "      <td>2021-12-26 13:00:32</td>\n",
       "      <td>1475089144674201603</td>\n",
       "      <td>2</td>\n",
       "      <td>0</td>\n",
       "      <td>mariedahaoui18</td>\n",
       "      <td>@Nest_Kly Oh putain c’est pas de pot pour les ...</td>\n",
       "      <td>tweet</td>\n",
       "      <td>astrazeneca</td>\n",
       "    </tr>\n",
       "    <tr>\n",
       "      <th>12081</th>\n",
       "      <td>2021-12-26 13:00:32</td>\n",
       "      <td>1475089144674201603</td>\n",
       "      <td>2</td>\n",
       "      <td>0</td>\n",
       "      <td>mariedahaoui18</td>\n",
       "      <td>@Nest_Kly Oh putain c’est pas de pot pour les ...</td>\n",
       "      <td>tweet</td>\n",
       "      <td>astrazeneca</td>\n",
       "    </tr>\n",
       "  </tbody>\n",
       "</table>\n",
       "<p>12082 rows × 8 columns</p>\n",
       "</div>"
      ],
      "text/plain": [
       "                      date                   id  nbre_like  nbre_retweet  \\\n",
       "0      2021-03-01 00:32:26  1366184519662006274          1             0   \n",
       "1      2021-03-01 00:32:26  1366184519662006274          1             0   \n",
       "2      2021-03-01 08:09:01  1366299423781892098          2             0   \n",
       "3      2021-03-01 08:09:01  1366299423781892098          2             0   \n",
       "4      2021-03-01 08:42:07  1366307752096768000          2             0   \n",
       "...                    ...                  ...        ...           ...   \n",
       "12077  2021-12-23 14:01:14  1474017257974120453          1             0   \n",
       "12078  2021-12-26 12:22:16  1475079514103463939          1             0   \n",
       "12079  2021-12-26 12:22:16  1475079514103463939          1             0   \n",
       "12080  2021-12-26 13:00:32  1475089144674201603          2             0   \n",
       "12081  2021-12-26 13:00:32  1475089144674201603          2             0   \n",
       "\n",
       "           screenName                                              texte  \\\n",
       "0          yokko_mars  @silvano_trotta Au Japon, on refuse le don de ...   \n",
       "1          yokko_mars  @silvano_trotta Au Japon, on refuse le don de ...   \n",
       "2          Epcocorico           @France_Dessinee @Pfizer_France Tragique   \n",
       "3          Epcocorico           @France_Dessinee @Pfizer_France Tragique   \n",
       "4             socarre  @thierrycogne @dc_morel Vaccinons en pharmacie...   \n",
       "...               ...                                                ...   \n",
       "12077         Guy5767  @monicalova13 Deux astrazeneca et un moderna, ...   \n",
       "12078     ertseled491  @BriceOf_Lyon @Nouveau_Papy Je n’ai été vaccin...   \n",
       "12079     ertseled491  @BriceOf_Lyon @Nouveau_Papy Je n’ai été vaccin...   \n",
       "12080  mariedahaoui18  @Nest_Kly Oh putain c’est pas de pot pour les ...   \n",
       "12081  mariedahaoui18  @Nest_Kly Oh putain c’est pas de pot pour les ...   \n",
       "\n",
       "        type  type_vaccin  \n",
       "0      tweet       pfizer  \n",
       "1      tweet       pfizer  \n",
       "2      tweet       pfizer  \n",
       "3      tweet       pfizer  \n",
       "4      tweet      janssen  \n",
       "...      ...          ...  \n",
       "12077  tweet  astrazeneca  \n",
       "12078  tweet  astrazeneca  \n",
       "12079  tweet  astrazeneca  \n",
       "12080  tweet  astrazeneca  \n",
       "12081  tweet  astrazeneca  \n",
       "\n",
       "[12082 rows x 8 columns]"
      ]
     },
     "execution_count": 21,
     "metadata": {},
     "output_type": "execute_result"
    }
   ],
   "source": [
    "df"
   ]
  },
  {
   "cell_type": "code",
   "execution_count": null,
   "id": "be91d6e3-360d-4b59-9b77-fdab358c7f28",
   "metadata": {},
   "outputs": [],
   "source": []
  }
 ],
 "metadata": {
  "kernelspec": {
   "display_name": "Python 3 (ipykernel)",
   "language": "python",
   "name": "python3"
  },
  "language_info": {
   "codemirror_mode": {
    "name": "ipython",
    "version": 3
   },
   "file_extension": ".py",
   "mimetype": "text/x-python",
   "name": "python",
   "nbconvert_exporter": "python",
   "pygments_lexer": "ipython3",
   "version": "3.9.7"
  }
 },
 "nbformat": 4,
 "nbformat_minor": 5
}
